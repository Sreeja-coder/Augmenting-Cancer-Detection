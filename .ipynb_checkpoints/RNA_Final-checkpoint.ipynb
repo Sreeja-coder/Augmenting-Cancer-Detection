{
 "cells": [
  {
   "cell_type": "code",
   "execution_count": 1,
   "metadata": {
    "colab": {
     "base_uri": "https://localhost:8080/"
    },
    "id": "_0-TuCGwNRZT",
    "outputId": "8f9fe635-88c9-4480-da71-63e42ee28ac5"
   },
   "outputs": [
    {
     "name": "stdout",
     "output_type": "stream",
     "text": [
      "Collecting category_encoders\n",
      "\u001b[?25l  Downloading https://files.pythonhosted.org/packages/44/57/fcef41c248701ee62e8325026b90c432adea35555cbc870aff9cfba23727/category_encoders-2.2.2-py2.py3-none-any.whl (80kB)\n",
      "\r",
      "\u001b[K     |████                            | 10kB 17.5MB/s eta 0:00:01\r",
      "\u001b[K     |████████▏                       | 20kB 18.0MB/s eta 0:00:01\r",
      "\u001b[K     |████████████▏                   | 30kB 10.8MB/s eta 0:00:01\r",
      "\u001b[K     |████████████████▎               | 40kB 8.9MB/s eta 0:00:01\r",
      "\u001b[K     |████████████████████▎           | 51kB 7.8MB/s eta 0:00:01\r",
      "\u001b[K     |████████████████████████▍       | 61kB 8.3MB/s eta 0:00:01\r",
      "\u001b[K     |████████████████████████████▍   | 71kB 8.5MB/s eta 0:00:01\r",
      "\u001b[K     |████████████████████████████████| 81kB 5.1MB/s \n",
      "\u001b[?25hRequirement already satisfied: statsmodels>=0.9.0 in /usr/local/lib/python3.7/dist-packages (from category_encoders) (0.10.2)\n",
      "Requirement already satisfied: numpy>=1.14.0 in /usr/local/lib/python3.7/dist-packages (from category_encoders) (1.19.5)\n",
      "Requirement already satisfied: patsy>=0.5.1 in /usr/local/lib/python3.7/dist-packages (from category_encoders) (0.5.1)\n",
      "Requirement already satisfied: scipy>=1.0.0 in /usr/local/lib/python3.7/dist-packages (from category_encoders) (1.4.1)\n",
      "Requirement already satisfied: scikit-learn>=0.20.0 in /usr/local/lib/python3.7/dist-packages (from category_encoders) (0.22.2.post1)\n",
      "Requirement already satisfied: pandas>=0.21.1 in /usr/local/lib/python3.7/dist-packages (from category_encoders) (1.1.5)\n",
      "Requirement already satisfied: six in /usr/local/lib/python3.7/dist-packages (from patsy>=0.5.1->category_encoders) (1.15.0)\n",
      "Requirement already satisfied: joblib>=0.11 in /usr/local/lib/python3.7/dist-packages (from scikit-learn>=0.20.0->category_encoders) (1.0.1)\n",
      "Requirement already satisfied: python-dateutil>=2.7.3 in /usr/local/lib/python3.7/dist-packages (from pandas>=0.21.1->category_encoders) (2.8.1)\n",
      "Requirement already satisfied: pytz>=2017.2 in /usr/local/lib/python3.7/dist-packages (from pandas>=0.21.1->category_encoders) (2018.9)\n",
      "Installing collected packages: category-encoders\n",
      "Successfully installed category-encoders-2.2.2\n"
     ]
    }
   ],
   "source": [
    "pip install category_encoders"
   ]
  },
  {
   "cell_type": "code",
   "execution_count": 4,
   "metadata": {
    "colab": {
     "base_uri": "https://localhost:8080/"
    },
    "id": "VzEHMH5TWjiZ",
    "outputId": "737a7803-5480-40aa-9723-07952319b6de"
   },
   "outputs": [
    {
     "name": "stdout",
     "output_type": "stream",
     "text": [
      "Collecting optuna\n",
      "\u001b[?25l  Downloading https://files.pythonhosted.org/packages/2b/21/d13081805e1e1afc71f5bb743ece324c8bd576237c51b899ecb38a717502/optuna-2.7.0-py3-none-any.whl (293kB)\n",
      "\u001b[K     |████████████████████████████████| 296kB 8.6MB/s \n",
      "\u001b[?25hCollecting alembic\n",
      "\u001b[?25l  Downloading https://files.pythonhosted.org/packages/72/a4/97eb6273839655cac14947986fa7a5935350fcfd4fff872e9654264c82d8/alembic-1.5.8-py2.py3-none-any.whl (159kB)\n",
      "\u001b[K     |████████████████████████████████| 163kB 35.3MB/s \n",
      "\u001b[?25hRequirement already satisfied: packaging>=20.0 in /usr/local/lib/python3.7/dist-packages (from optuna) (20.9)\n",
      "Collecting colorlog\n",
      "  Downloading https://files.pythonhosted.org/packages/32/e6/e9ddc6fa1104fda718338b341e4b3dc31cd8039ab29e52fc73b508515361/colorlog-5.0.1-py2.py3-none-any.whl\n",
      "Requirement already satisfied: scipy!=1.4.0 in /usr/local/lib/python3.7/dist-packages (from optuna) (1.4.1)\n",
      "Requirement already satisfied: sqlalchemy>=1.1.0 in /usr/local/lib/python3.7/dist-packages (from optuna) (1.4.7)\n",
      "Collecting cliff\n",
      "\u001b[?25l  Downloading https://files.pythonhosted.org/packages/a2/d6/7d9acb68a77acd140be7fececb7f2701b2a29d2da9c54184cb8f93509590/cliff-3.7.0-py3-none-any.whl (80kB)\n",
      "\u001b[K     |████████████████████████████████| 81kB 11.8MB/s \n",
      "\u001b[?25hCollecting cmaes>=0.8.2\n",
      "  Downloading https://files.pythonhosted.org/packages/01/1f/43b01223a0366171f474320c6e966c39a11587287f098a5f09809b45e05f/cmaes-0.8.2-py3-none-any.whl\n",
      "Requirement already satisfied: numpy in /usr/local/lib/python3.7/dist-packages (from optuna) (1.19.5)\n",
      "Requirement already satisfied: tqdm in /usr/local/lib/python3.7/dist-packages (from optuna) (4.41.1)\n",
      "Collecting Mako\n",
      "\u001b[?25l  Downloading https://files.pythonhosted.org/packages/f3/54/dbc07fbb20865d3b78fdb7cf7fa713e2cba4f87f71100074ef2dc9f9d1f7/Mako-1.1.4-py2.py3-none-any.whl (75kB)\n",
      "\u001b[K     |████████████████████████████████| 81kB 11.6MB/s \n",
      "\u001b[?25hRequirement already satisfied: python-dateutil in /usr/local/lib/python3.7/dist-packages (from alembic->optuna) (2.8.1)\n",
      "Collecting python-editor>=0.3\n",
      "  Downloading https://files.pythonhosted.org/packages/c6/d3/201fc3abe391bbae6606e6f1d598c15d367033332bd54352b12f35513717/python_editor-1.0.4-py3-none-any.whl\n",
      "Requirement already satisfied: pyparsing>=2.0.2 in /usr/local/lib/python3.7/dist-packages (from packaging>=20.0->optuna) (2.4.7)\n",
      "Requirement already satisfied: greenlet!=0.4.17; python_version >= \"3\" in /usr/local/lib/python3.7/dist-packages (from sqlalchemy>=1.1.0->optuna) (1.0.0)\n",
      "Requirement already satisfied: importlib-metadata; python_version < \"3.8\" in /usr/local/lib/python3.7/dist-packages (from sqlalchemy>=1.1.0->optuna) (3.10.1)\n",
      "Requirement already satisfied: PrettyTable>=0.7.2 in /usr/local/lib/python3.7/dist-packages (from cliff->optuna) (2.1.0)\n",
      "Collecting cmd2>=1.0.0\n",
      "\u001b[?25l  Downloading https://files.pythonhosted.org/packages/15/8b/15061b32332bb35ea2a2f6263d0f616779d576e82739ec8e7fcf3c94abf5/cmd2-1.5.0-py3-none-any.whl (133kB)\n",
      "\u001b[K     |████████████████████████████████| 143kB 36.5MB/s \n",
      "\u001b[?25hCollecting stevedore>=2.0.1\n",
      "\u001b[?25l  Downloading https://files.pythonhosted.org/packages/d4/49/b602307aeac3df3384ff1fcd05da9c0376c622a6c48bb5325f28ab165b57/stevedore-3.3.0-py3-none-any.whl (49kB)\n",
      "\u001b[K     |████████████████████████████████| 51kB 8.4MB/s \n",
      "\u001b[?25hCollecting pbr!=2.1.0,>=2.0.0\n",
      "\u001b[?25l  Downloading https://files.pythonhosted.org/packages/18/e0/1d4702dd81121d04a477c272d47ee5b6bc970d1a0990b11befa275c55cf2/pbr-5.6.0-py2.py3-none-any.whl (111kB)\n",
      "\u001b[K     |████████████████████████████████| 112kB 18.5MB/s \n",
      "\u001b[?25hRequirement already satisfied: PyYAML>=3.12 in /usr/local/lib/python3.7/dist-packages (from cliff->optuna) (3.13)\n",
      "Requirement already satisfied: MarkupSafe>=0.9.2 in /usr/local/lib/python3.7/dist-packages (from Mako->alembic->optuna) (1.1.1)\n",
      "Requirement already satisfied: six>=1.5 in /usr/local/lib/python3.7/dist-packages (from python-dateutil->alembic->optuna) (1.15.0)\n",
      "Requirement already satisfied: typing-extensions>=3.6.4; python_version < \"3.8\" in /usr/local/lib/python3.7/dist-packages (from importlib-metadata; python_version < \"3.8\"->sqlalchemy>=1.1.0->optuna) (3.7.4.3)\n",
      "Requirement already satisfied: zipp>=0.5 in /usr/local/lib/python3.7/dist-packages (from importlib-metadata; python_version < \"3.8\"->sqlalchemy>=1.1.0->optuna) (3.4.1)\n",
      "Requirement already satisfied: wcwidth in /usr/local/lib/python3.7/dist-packages (from PrettyTable>=0.7.2->cliff->optuna) (0.2.5)\n",
      "Collecting colorama>=0.3.7\n",
      "  Downloading https://files.pythonhosted.org/packages/44/98/5b86278fbbf250d239ae0ecb724f8572af1c91f4a11edf4d36a206189440/colorama-0.4.4-py2.py3-none-any.whl\n",
      "Collecting pyperclip>=1.6\n",
      "  Downloading https://files.pythonhosted.org/packages/a7/2c/4c64579f847bd5d539803c8b909e54ba087a79d01bb3aba433a95879a6c5/pyperclip-1.8.2.tar.gz\n",
      "Requirement already satisfied: attrs>=16.3.0 in /usr/local/lib/python3.7/dist-packages (from cmd2>=1.0.0->cliff->optuna) (20.3.0)\n",
      "Building wheels for collected packages: pyperclip\n",
      "  Building wheel for pyperclip (setup.py) ... \u001b[?25l\u001b[?25hdone\n",
      "  Created wheel for pyperclip: filename=pyperclip-1.8.2-cp37-none-any.whl size=11107 sha256=e808d1e2fab0f2f60e00c2b6d656e96e15bc393ed08c8fd879a3ddec3986c10e\n",
      "  Stored in directory: /root/.cache/pip/wheels/25/af/b8/3407109267803f4015e1ee2ff23be0c8c19ce4008665931ee1\n",
      "Successfully built pyperclip\n",
      "Installing collected packages: Mako, python-editor, alembic, colorlog, colorama, pyperclip, cmd2, pbr, stevedore, cliff, cmaes, optuna\n",
      "Successfully installed Mako-1.1.4 alembic-1.5.8 cliff-3.7.0 cmaes-0.8.2 cmd2-1.5.0 colorama-0.4.4 colorlog-5.0.1 optuna-2.7.0 pbr-5.6.0 pyperclip-1.8.2 python-editor-1.0.4 stevedore-3.3.0\n"
     ]
    }
   ],
   "source": [
    "pip install optuna"
   ]
  },
  {
   "cell_type": "code",
   "execution_count": 5,
   "metadata": {
    "id": "9IfjVzmZNRZZ"
   },
   "outputs": [],
   "source": [
    "import pandas as pd\n",
    "import numpy as np\n",
    "from numpy import cov\n",
    "import statistics\n",
    "import os\n",
    "import math\n",
    "from collections import Counter\n",
    "import category_encoders as ce\n",
    "import optuna\n",
    "import sklearn.model_selection\n",
    "from keras import regularizers"
   ]
  },
  {
   "cell_type": "code",
   "execution_count": 66,
   "metadata": {
    "id": "lCZoYTloNRZa"
   },
   "outputs": [],
   "source": [
    "from sklearn import tree\n",
    "from sklearn.linear_model import Perceptron,LogisticRegression\n",
    "from sklearn.neighbors import KNeighborsClassifier\n",
    "from sklearn.naive_bayes import GaussianNB\n",
    "from sklearn.metrics import accuracy_score\n",
    "from sklearn.metrics import f1_score\n",
    "from sklearn.preprocessing import StandardScaler\n",
    "from sklearn.model_selection import train_test_split\n",
    "from sklearn.metrics import accuracy_score\n",
    "from sklearn.neural_network import MLPClassifier\n",
    "from sklearn.svm import SVC\n",
    "import tensorflow as tf\n",
    "from tensorflow import keras\n",
    "from tensorflow.keras.utils import to_categorical\n",
    "from tensorflow.keras import models\n",
    "from tensorflow.keras import layers\n",
    "from tensorflow.keras import optimizers\n",
    "from sklearn.model_selection import GridSearchCV\n",
    "from tensorflow.keras.wrappers.scikit_learn import KerasClassifier"
   ]
  },
  {
   "cell_type": "code",
   "execution_count": 7,
   "metadata": {
    "id": "ay3l5dgqNRZb"
   },
   "outputs": [],
   "source": [
    "import seaborn as sns\n",
    "import matplotlib.pyplot as plt\n",
    "from scipy import stats\n",
    "from imblearn.over_sampling import SMOTE"
   ]
  },
  {
   "cell_type": "code",
   "execution_count": 8,
   "metadata": {
    "id": "WJJxYzoqNRZc"
   },
   "outputs": [],
   "source": [
    "notebook_path = os.path.abspath(\"RNA.ipynb\")"
   ]
  },
  {
   "cell_type": "code",
   "execution_count": 9,
   "metadata": {
    "id": "D9izOHwDNRZc"
   },
   "outputs": [],
   "source": [
    "data = pd.read_csv(\"data.csv\")"
   ]
  },
  {
   "cell_type": "code",
   "execution_count": 10,
   "metadata": {
    "id": "Aj6YwBQDNRZc"
   },
   "outputs": [],
   "source": [
    "labels = pd.read_csv(\"labels.csv\")"
   ]
  },
  {
   "cell_type": "code",
   "execution_count": 11,
   "metadata": {
    "id": "QJ-cEG4_NRZd"
   },
   "outputs": [],
   "source": [
    "encoder= ce.OrdinalEncoder(cols=['Class'],return_df=True,\n",
    "                           mapping=[{'col':'Class',\n",
    "'mapping':{'BRCA':0,'COAD':1,'KIRC':2,'LUAD':3,'PRAD':4}}])"
   ]
  },
  {
   "cell_type": "markdown",
   "metadata": {
    "id": "FagIcaEnNRZd"
   },
   "source": [
    "<br>"
   ]
  },
  {
   "cell_type": "markdown",
   "metadata": {
    "id": "ltd02TuRNRZe"
   },
   "source": [
    "<h3><u>Exploratory Data Analysis<u></h3>"
   ]
  },
  {
   "cell_type": "markdown",
   "metadata": {
    "id": "AcKasxq9NRZe"
   },
   "source": [
    "- preliminary checks of whether the all the columns in data and labels are named and are not missing <br>"
   ]
  },
  {
   "cell_type": "code",
   "execution_count": 60,
   "metadata": {
    "colab": {
     "base_uri": "https://localhost:8080/"
    },
    "id": "8Chb7OgCNRZf",
    "outputId": "c963d0af-36ae-4615-ed6b-3f3027ecf610"
   },
   "outputs": [
    {
     "data": {
      "text/plain": [
       "Index(['Sample', 'gene_0', 'gene_1', 'gene_2', 'gene_3', 'gene_4', 'gene_5',\n",
       "       'gene_6', 'gene_7', 'gene_8',\n",
       "       ...\n",
       "       'gene_20521', 'gene_20522', 'gene_20523', 'gene_20524', 'gene_20525',\n",
       "       'gene_20526', 'gene_20527', 'gene_20528', 'gene_20529', 'gene_20530'],\n",
       "      dtype='object', length=20532)"
      ]
     },
     "execution_count": 60,
     "metadata": {
      "tags": []
     },
     "output_type": "execute_result"
    }
   ],
   "source": [
    "data.columns"
   ]
  },
  {
   "cell_type": "code",
   "execution_count": 13,
   "metadata": {
    "id": "QdPXIYwQNRZg"
   },
   "outputs": [],
   "source": [
    "data.rename(columns = {'Unnamed: 0':'Sample'}, inplace = True)"
   ]
  },
  {
   "cell_type": "code",
   "execution_count": 14,
   "metadata": {
    "colab": {
     "base_uri": "https://localhost:8080/"
    },
    "id": "tnoZH_ESNRZg",
    "outputId": "52422fb2-5641-4f9a-bb5b-1a7ce03a7e74"
   },
   "outputs": [
    {
     "data": {
      "text/plain": [
       "Index(['Unnamed: 0', 'Class'], dtype='object')"
      ]
     },
     "execution_count": 14,
     "metadata": {
      "tags": []
     },
     "output_type": "execute_result"
    }
   ],
   "source": [
    "labels.columns"
   ]
  },
  {
   "cell_type": "code",
   "execution_count": 15,
   "metadata": {
    "id": "gxHZO6p0NRZg"
   },
   "outputs": [],
   "source": [
    "labels.rename(columns = {'Unnamed: 0':'Sample'},inplace = True)"
   ]
  },
  {
   "cell_type": "markdown",
   "metadata": {
    "id": "ZJyeRk75NRZh"
   },
   "source": [
    "both data and label's first column was unamed"
   ]
  },
  {
   "cell_type": "code",
   "execution_count": 16,
   "metadata": {
    "colab": {
     "base_uri": "https://localhost:8080/"
    },
    "id": "u64fnrkLNRZh",
    "outputId": "5b11d6df-9df2-4f78-857e-2554550921fb"
   },
   "outputs": [
    {
     "name": "stdout",
     "output_type": "stream",
     "text": [
      "(801, 20532)\n",
      "(801, 2)\n"
     ]
    }
   ],
   "source": [
    "print(data.shape)\n",
    "print(labels.shape)"
   ]
  },
  {
   "cell_type": "markdown",
   "metadata": {
    "id": "RNJ_6gK3NRZh"
   },
   "source": [
    "- <u>shape </u><br>\n",
    "the dataset has 801 samples , each with 20532 columns <br>\n",
    "the target labels have 801 sample label has two columns<br> 1: Sample number <br>2: Target Label <br>"
   ]
  },
  {
   "cell_type": "code",
   "execution_count": 17,
   "metadata": {
    "colab": {
     "base_uri": "https://localhost:8080/"
    },
    "id": "Olv6KGQ2NRZh",
    "outputId": "b8d18045-287e-43db-e150-534c027b96a0"
   },
   "outputs": [
    {
     "data": {
      "text/plain": [
       "{'BRCA', 'COAD', 'KIRC', 'LUAD', 'PRAD'}"
      ]
     },
     "execution_count": 17,
     "metadata": {
      "tags": []
     },
     "output_type": "execute_result"
    }
   ],
   "source": [
    "set(labels['Class'])"
   ]
  },
  {
   "cell_type": "markdown",
   "metadata": {
    "id": "ExSJtS1-NRZi"
   },
   "source": [
    "- <u>what are the labels ? </u> <br>\n",
    "so the labels are helping us classify which type of tumor does the patient have <br>\n",
    "Breast invasive carcinoma - BRCA <br>\n",
    "Colon adenocarcinoma - COAD <br>\n",
    "Kidney renal clear cell carcinoma - KIRC <br>\n",
    "Lung adenocarcinoma - LUAD <br>\n",
    "Prostate adenocarcinoma - PRAD <br>"
   ]
  },
  {
   "cell_type": "code",
   "execution_count": 18,
   "metadata": {
    "colab": {
     "base_uri": "https://localhost:8080/",
     "height": 256
    },
    "id": "W8D0TPo6NRZi",
    "outputId": "ee9b7b13-766c-4f8d-b5da-2ee82da5f70b"
   },
   "outputs": [
    {
     "data": {
      "text/html": [
       "<div>\n",
       "<style scoped>\n",
       "    .dataframe tbody tr th:only-of-type {\n",
       "        vertical-align: middle;\n",
       "    }\n",
       "\n",
       "    .dataframe tbody tr th {\n",
       "        vertical-align: top;\n",
       "    }\n",
       "\n",
       "    .dataframe thead th {\n",
       "        text-align: right;\n",
       "    }\n",
       "</style>\n",
       "<table border=\"1\" class=\"dataframe\">\n",
       "  <thead>\n",
       "    <tr style=\"text-align: right;\">\n",
       "      <th></th>\n",
       "      <th>Sample</th>\n",
       "      <th>gene_0</th>\n",
       "      <th>gene_1</th>\n",
       "      <th>gene_2</th>\n",
       "      <th>gene_3</th>\n",
       "      <th>gene_4</th>\n",
       "      <th>gene_5</th>\n",
       "      <th>gene_6</th>\n",
       "      <th>gene_7</th>\n",
       "      <th>gene_8</th>\n",
       "      <th>gene_9</th>\n",
       "      <th>gene_10</th>\n",
       "      <th>gene_11</th>\n",
       "      <th>gene_12</th>\n",
       "      <th>gene_13</th>\n",
       "      <th>gene_14</th>\n",
       "      <th>gene_15</th>\n",
       "      <th>gene_16</th>\n",
       "      <th>gene_17</th>\n",
       "      <th>gene_18</th>\n",
       "      <th>gene_19</th>\n",
       "      <th>gene_20</th>\n",
       "      <th>gene_21</th>\n",
       "      <th>gene_22</th>\n",
       "      <th>gene_23</th>\n",
       "      <th>gene_24</th>\n",
       "      <th>gene_25</th>\n",
       "      <th>gene_26</th>\n",
       "      <th>gene_27</th>\n",
       "      <th>gene_28</th>\n",
       "      <th>gene_29</th>\n",
       "      <th>gene_30</th>\n",
       "      <th>gene_31</th>\n",
       "      <th>gene_32</th>\n",
       "      <th>gene_33</th>\n",
       "      <th>gene_34</th>\n",
       "      <th>gene_35</th>\n",
       "      <th>gene_36</th>\n",
       "      <th>gene_37</th>\n",
       "      <th>gene_38</th>\n",
       "      <th>...</th>\n",
       "      <th>gene_20491</th>\n",
       "      <th>gene_20492</th>\n",
       "      <th>gene_20493</th>\n",
       "      <th>gene_20494</th>\n",
       "      <th>gene_20495</th>\n",
       "      <th>gene_20496</th>\n",
       "      <th>gene_20497</th>\n",
       "      <th>gene_20498</th>\n",
       "      <th>gene_20499</th>\n",
       "      <th>gene_20500</th>\n",
       "      <th>gene_20501</th>\n",
       "      <th>gene_20502</th>\n",
       "      <th>gene_20503</th>\n",
       "      <th>gene_20504</th>\n",
       "      <th>gene_20505</th>\n",
       "      <th>gene_20506</th>\n",
       "      <th>gene_20507</th>\n",
       "      <th>gene_20508</th>\n",
       "      <th>gene_20509</th>\n",
       "      <th>gene_20510</th>\n",
       "      <th>gene_20511</th>\n",
       "      <th>gene_20512</th>\n",
       "      <th>gene_20513</th>\n",
       "      <th>gene_20514</th>\n",
       "      <th>gene_20515</th>\n",
       "      <th>gene_20516</th>\n",
       "      <th>gene_20517</th>\n",
       "      <th>gene_20518</th>\n",
       "      <th>gene_20519</th>\n",
       "      <th>gene_20520</th>\n",
       "      <th>gene_20521</th>\n",
       "      <th>gene_20522</th>\n",
       "      <th>gene_20523</th>\n",
       "      <th>gene_20524</th>\n",
       "      <th>gene_20525</th>\n",
       "      <th>gene_20526</th>\n",
       "      <th>gene_20527</th>\n",
       "      <th>gene_20528</th>\n",
       "      <th>gene_20529</th>\n",
       "      <th>gene_20530</th>\n",
       "    </tr>\n",
       "  </thead>\n",
       "  <tbody>\n",
       "    <tr>\n",
       "      <th>0</th>\n",
       "      <td>sample_0</td>\n",
       "      <td>0.0</td>\n",
       "      <td>2.017209</td>\n",
       "      <td>3.265527</td>\n",
       "      <td>5.478487</td>\n",
       "      <td>10.431999</td>\n",
       "      <td>0.0</td>\n",
       "      <td>7.175175</td>\n",
       "      <td>0.591871</td>\n",
       "      <td>0.0</td>\n",
       "      <td>0.0</td>\n",
       "      <td>0.591871</td>\n",
       "      <td>1.334282</td>\n",
       "      <td>2.015391</td>\n",
       "      <td>0.591871</td>\n",
       "      <td>0.0</td>\n",
       "      <td>0.0</td>\n",
       "      <td>0.0</td>\n",
       "      <td>0.0</td>\n",
       "      <td>0.591871</td>\n",
       "      <td>5.619994</td>\n",
       "      <td>1.334282</td>\n",
       "      <td>0.000000</td>\n",
       "      <td>9.796088</td>\n",
       "      <td>0.0</td>\n",
       "      <td>0.000000</td>\n",
       "      <td>1.598651</td>\n",
       "      <td>7.215116</td>\n",
       "      <td>10.839070</td>\n",
       "      <td>6.620204</td>\n",
       "      <td>9.513538</td>\n",
       "      <td>0.0</td>\n",
       "      <td>4.063658</td>\n",
       "      <td>7.764805</td>\n",
       "      <td>4.747656</td>\n",
       "      <td>13.714396</td>\n",
       "      <td>10.034496</td>\n",
       "      <td>0.000000</td>\n",
       "      <td>0.0</td>\n",
       "      <td>9.833458</td>\n",
       "      <td>...</td>\n",
       "      <td>9.370304</td>\n",
       "      <td>10.362393</td>\n",
       "      <td>5.589928</td>\n",
       "      <td>8.141964</td>\n",
       "      <td>0.000000</td>\n",
       "      <td>2.736583</td>\n",
       "      <td>7.037152</td>\n",
       "      <td>7.123480</td>\n",
       "      <td>10.967399</td>\n",
       "      <td>5.902800</td>\n",
       "      <td>3.719370</td>\n",
       "      <td>7.203554</td>\n",
       "      <td>6.042557</td>\n",
       "      <td>2.602077</td>\n",
       "      <td>7.425526</td>\n",
       "      <td>7.846957</td>\n",
       "      <td>2.824951</td>\n",
       "      <td>6.239396</td>\n",
       "      <td>0.000000</td>\n",
       "      <td>8.469593</td>\n",
       "      <td>0.0</td>\n",
       "      <td>6.535978</td>\n",
       "      <td>6.968701</td>\n",
       "      <td>7.128881</td>\n",
       "      <td>7.175175</td>\n",
       "      <td>9.249369</td>\n",
       "      <td>7.025970</td>\n",
       "      <td>8.045563</td>\n",
       "      <td>7.475709</td>\n",
       "      <td>7.205236</td>\n",
       "      <td>4.926711</td>\n",
       "      <td>8.210257</td>\n",
       "      <td>9.723516</td>\n",
       "      <td>7.220030</td>\n",
       "      <td>9.119813</td>\n",
       "      <td>12.003135</td>\n",
       "      <td>9.650743</td>\n",
       "      <td>8.921326</td>\n",
       "      <td>5.286759</td>\n",
       "      <td>0.0</td>\n",
       "    </tr>\n",
       "    <tr>\n",
       "      <th>1</th>\n",
       "      <td>sample_1</td>\n",
       "      <td>0.0</td>\n",
       "      <td>0.592732</td>\n",
       "      <td>1.588421</td>\n",
       "      <td>7.586157</td>\n",
       "      <td>9.623011</td>\n",
       "      <td>0.0</td>\n",
       "      <td>6.816049</td>\n",
       "      <td>0.000000</td>\n",
       "      <td>0.0</td>\n",
       "      <td>0.0</td>\n",
       "      <td>0.000000</td>\n",
       "      <td>0.587845</td>\n",
       "      <td>2.466601</td>\n",
       "      <td>1.004394</td>\n",
       "      <td>0.0</td>\n",
       "      <td>0.0</td>\n",
       "      <td>0.0</td>\n",
       "      <td>0.0</td>\n",
       "      <td>0.000000</td>\n",
       "      <td>11.055208</td>\n",
       "      <td>3.562621</td>\n",
       "      <td>0.000000</td>\n",
       "      <td>10.070470</td>\n",
       "      <td>0.0</td>\n",
       "      <td>0.000000</td>\n",
       "      <td>0.000000</td>\n",
       "      <td>9.949812</td>\n",
       "      <td>8.522476</td>\n",
       "      <td>1.174790</td>\n",
       "      <td>4.926991</td>\n",
       "      <td>0.0</td>\n",
       "      <td>0.000000</td>\n",
       "      <td>5.819832</td>\n",
       "      <td>1.327170</td>\n",
       "      <td>13.286240</td>\n",
       "      <td>6.663316</td>\n",
       "      <td>0.587845</td>\n",
       "      <td>0.0</td>\n",
       "      <td>9.533302</td>\n",
       "      <td>...</td>\n",
       "      <td>8.882967</td>\n",
       "      <td>9.898199</td>\n",
       "      <td>7.069401</td>\n",
       "      <td>7.186134</td>\n",
       "      <td>0.000000</td>\n",
       "      <td>3.134993</td>\n",
       "      <td>6.648930</td>\n",
       "      <td>6.715701</td>\n",
       "      <td>9.536238</td>\n",
       "      <td>1.004394</td>\n",
       "      <td>5.555482</td>\n",
       "      <td>8.029260</td>\n",
       "      <td>6.366219</td>\n",
       "      <td>0.811142</td>\n",
       "      <td>7.991732</td>\n",
       "      <td>7.161001</td>\n",
       "      <td>0.000000</td>\n",
       "      <td>4.708877</td>\n",
       "      <td>0.811142</td>\n",
       "      <td>8.451689</td>\n",
       "      <td>0.0</td>\n",
       "      <td>7.242336</td>\n",
       "      <td>8.046284</td>\n",
       "      <td>6.047558</td>\n",
       "      <td>8.572901</td>\n",
       "      <td>7.549030</td>\n",
       "      <td>7.019935</td>\n",
       "      <td>9.458940</td>\n",
       "      <td>9.190867</td>\n",
       "      <td>10.639259</td>\n",
       "      <td>4.593372</td>\n",
       "      <td>7.323865</td>\n",
       "      <td>9.740931</td>\n",
       "      <td>6.256586</td>\n",
       "      <td>8.381612</td>\n",
       "      <td>12.674552</td>\n",
       "      <td>10.517059</td>\n",
       "      <td>9.397854</td>\n",
       "      <td>2.094168</td>\n",
       "      <td>0.0</td>\n",
       "    </tr>\n",
       "    <tr>\n",
       "      <th>2</th>\n",
       "      <td>sample_2</td>\n",
       "      <td>0.0</td>\n",
       "      <td>3.511759</td>\n",
       "      <td>4.327199</td>\n",
       "      <td>6.881787</td>\n",
       "      <td>9.870730</td>\n",
       "      <td>0.0</td>\n",
       "      <td>6.972130</td>\n",
       "      <td>0.452595</td>\n",
       "      <td>0.0</td>\n",
       "      <td>0.0</td>\n",
       "      <td>0.000000</td>\n",
       "      <td>0.452595</td>\n",
       "      <td>1.981122</td>\n",
       "      <td>1.074163</td>\n",
       "      <td>0.0</td>\n",
       "      <td>0.0</td>\n",
       "      <td>0.0</td>\n",
       "      <td>0.0</td>\n",
       "      <td>1.683023</td>\n",
       "      <td>8.210248</td>\n",
       "      <td>4.195285</td>\n",
       "      <td>3.660427</td>\n",
       "      <td>8.970920</td>\n",
       "      <td>0.0</td>\n",
       "      <td>0.000000</td>\n",
       "      <td>0.796598</td>\n",
       "      <td>6.096650</td>\n",
       "      <td>9.861616</td>\n",
       "      <td>7.680507</td>\n",
       "      <td>3.119439</td>\n",
       "      <td>0.0</td>\n",
       "      <td>0.452595</td>\n",
       "      <td>7.899526</td>\n",
       "      <td>0.000000</td>\n",
       "      <td>10.731098</td>\n",
       "      <td>6.967883</td>\n",
       "      <td>0.452595</td>\n",
       "      <td>0.0</td>\n",
       "      <td>9.646323</td>\n",
       "      <td>...</td>\n",
       "      <td>10.355637</td>\n",
       "      <td>10.423274</td>\n",
       "      <td>5.170201</td>\n",
       "      <td>6.194260</td>\n",
       "      <td>0.000000</td>\n",
       "      <td>3.677147</td>\n",
       "      <td>6.271990</td>\n",
       "      <td>7.089816</td>\n",
       "      <td>9.675220</td>\n",
       "      <td>0.000000</td>\n",
       "      <td>4.224017</td>\n",
       "      <td>8.020402</td>\n",
       "      <td>6.967883</td>\n",
       "      <td>5.014445</td>\n",
       "      <td>8.400038</td>\n",
       "      <td>7.527555</td>\n",
       "      <td>0.000000</td>\n",
       "      <td>4.997902</td>\n",
       "      <td>0.796598</td>\n",
       "      <td>7.761132</td>\n",
       "      <td>0.0</td>\n",
       "      <td>6.820460</td>\n",
       "      <td>8.048983</td>\n",
       "      <td>6.661493</td>\n",
       "      <td>7.716332</td>\n",
       "      <td>6.745802</td>\n",
       "      <td>7.524667</td>\n",
       "      <td>8.602350</td>\n",
       "      <td>9.036654</td>\n",
       "      <td>10.336027</td>\n",
       "      <td>5.125213</td>\n",
       "      <td>8.127123</td>\n",
       "      <td>10.908640</td>\n",
       "      <td>5.401607</td>\n",
       "      <td>9.911597</td>\n",
       "      <td>9.045255</td>\n",
       "      <td>9.788359</td>\n",
       "      <td>10.090470</td>\n",
       "      <td>1.683023</td>\n",
       "      <td>0.0</td>\n",
       "    </tr>\n",
       "    <tr>\n",
       "      <th>3</th>\n",
       "      <td>sample_3</td>\n",
       "      <td>0.0</td>\n",
       "      <td>3.663618</td>\n",
       "      <td>4.507649</td>\n",
       "      <td>6.659068</td>\n",
       "      <td>10.196184</td>\n",
       "      <td>0.0</td>\n",
       "      <td>7.843375</td>\n",
       "      <td>0.434882</td>\n",
       "      <td>0.0</td>\n",
       "      <td>0.0</td>\n",
       "      <td>0.000000</td>\n",
       "      <td>0.434882</td>\n",
       "      <td>2.874246</td>\n",
       "      <td>0.000000</td>\n",
       "      <td>0.0</td>\n",
       "      <td>0.0</td>\n",
       "      <td>0.0</td>\n",
       "      <td>0.0</td>\n",
       "      <td>1.267356</td>\n",
       "      <td>8.306317</td>\n",
       "      <td>3.573556</td>\n",
       "      <td>0.000000</td>\n",
       "      <td>8.524616</td>\n",
       "      <td>0.0</td>\n",
       "      <td>0.000000</td>\n",
       "      <td>0.000000</td>\n",
       "      <td>3.913761</td>\n",
       "      <td>9.511573</td>\n",
       "      <td>6.469165</td>\n",
       "      <td>7.029895</td>\n",
       "      <td>0.0</td>\n",
       "      <td>1.267356</td>\n",
       "      <td>6.800641</td>\n",
       "      <td>7.742714</td>\n",
       "      <td>12.659474</td>\n",
       "      <td>8.299890</td>\n",
       "      <td>0.768587</td>\n",
       "      <td>0.0</td>\n",
       "      <td>9.670731</td>\n",
       "      <td>...</td>\n",
       "      <td>10.074382</td>\n",
       "      <td>9.918261</td>\n",
       "      <td>7.117924</td>\n",
       "      <td>7.196145</td>\n",
       "      <td>0.434882</td>\n",
       "      <td>3.609755</td>\n",
       "      <td>8.896696</td>\n",
       "      <td>7.577096</td>\n",
       "      <td>10.731446</td>\n",
       "      <td>5.075383</td>\n",
       "      <td>2.175652</td>\n",
       "      <td>7.675435</td>\n",
       "      <td>6.840816</td>\n",
       "      <td>6.233192</td>\n",
       "      <td>8.899886</td>\n",
       "      <td>8.319085</td>\n",
       "      <td>1.791814</td>\n",
       "      <td>5.661134</td>\n",
       "      <td>1.464093</td>\n",
       "      <td>8.625727</td>\n",
       "      <td>0.0</td>\n",
       "      <td>7.420095</td>\n",
       "      <td>7.784746</td>\n",
       "      <td>7.613915</td>\n",
       "      <td>8.963286</td>\n",
       "      <td>7.744699</td>\n",
       "      <td>7.924997</td>\n",
       "      <td>8.981473</td>\n",
       "      <td>8.665592</td>\n",
       "      <td>9.194823</td>\n",
       "      <td>6.076566</td>\n",
       "      <td>8.792959</td>\n",
       "      <td>10.141520</td>\n",
       "      <td>8.942805</td>\n",
       "      <td>9.601208</td>\n",
       "      <td>11.392682</td>\n",
       "      <td>9.694814</td>\n",
       "      <td>9.684365</td>\n",
       "      <td>3.292001</td>\n",
       "      <td>0.0</td>\n",
       "    </tr>\n",
       "    <tr>\n",
       "      <th>4</th>\n",
       "      <td>sample_4</td>\n",
       "      <td>0.0</td>\n",
       "      <td>2.655741</td>\n",
       "      <td>2.821547</td>\n",
       "      <td>6.539454</td>\n",
       "      <td>9.738265</td>\n",
       "      <td>0.0</td>\n",
       "      <td>6.566967</td>\n",
       "      <td>0.360982</td>\n",
       "      <td>0.0</td>\n",
       "      <td>0.0</td>\n",
       "      <td>0.000000</td>\n",
       "      <td>1.275841</td>\n",
       "      <td>2.141204</td>\n",
       "      <td>0.000000</td>\n",
       "      <td>0.0</td>\n",
       "      <td>0.0</td>\n",
       "      <td>0.0</td>\n",
       "      <td>0.0</td>\n",
       "      <td>0.889707</td>\n",
       "      <td>10.149150</td>\n",
       "      <td>2.967630</td>\n",
       "      <td>0.000000</td>\n",
       "      <td>8.047238</td>\n",
       "      <td>0.0</td>\n",
       "      <td>1.435949</td>\n",
       "      <td>0.000000</td>\n",
       "      <td>1.942120</td>\n",
       "      <td>8.821535</td>\n",
       "      <td>5.861429</td>\n",
       "      <td>7.755709</td>\n",
       "      <td>0.0</td>\n",
       "      <td>0.649386</td>\n",
       "      <td>5.570241</td>\n",
       "      <td>2.612801</td>\n",
       "      <td>13.556734</td>\n",
       "      <td>8.004754</td>\n",
       "      <td>0.000000</td>\n",
       "      <td>0.0</td>\n",
       "      <td>9.587569</td>\n",
       "      <td>...</td>\n",
       "      <td>10.129154</td>\n",
       "      <td>10.062303</td>\n",
       "      <td>6.911620</td>\n",
       "      <td>7.855149</td>\n",
       "      <td>0.360982</td>\n",
       "      <td>3.655810</td>\n",
       "      <td>7.255520</td>\n",
       "      <td>7.292607</td>\n",
       "      <td>10.779793</td>\n",
       "      <td>3.954001</td>\n",
       "      <td>6.991148</td>\n",
       "      <td>8.153248</td>\n",
       "      <td>7.508444</td>\n",
       "      <td>4.586531</td>\n",
       "      <td>9.152227</td>\n",
       "      <td>8.227717</td>\n",
       "      <td>0.360982</td>\n",
       "      <td>6.227104</td>\n",
       "      <td>0.649386</td>\n",
       "      <td>8.151879</td>\n",
       "      <td>0.0</td>\n",
       "      <td>6.558289</td>\n",
       "      <td>8.673708</td>\n",
       "      <td>6.505099</td>\n",
       "      <td>8.948989</td>\n",
       "      <td>7.010366</td>\n",
       "      <td>7.364056</td>\n",
       "      <td>8.950646</td>\n",
       "      <td>8.233366</td>\n",
       "      <td>9.298775</td>\n",
       "      <td>5.996032</td>\n",
       "      <td>8.891425</td>\n",
       "      <td>10.373790</td>\n",
       "      <td>7.181162</td>\n",
       "      <td>9.846910</td>\n",
       "      <td>11.922439</td>\n",
       "      <td>9.217749</td>\n",
       "      <td>9.461191</td>\n",
       "      <td>5.110372</td>\n",
       "      <td>0.0</td>\n",
       "    </tr>\n",
       "  </tbody>\n",
       "</table>\n",
       "<p>5 rows × 20532 columns</p>\n",
       "</div>"
      ],
      "text/plain": [
       "     Sample  gene_0    gene_1  ...  gene_20528  gene_20529  gene_20530\n",
       "0  sample_0     0.0  2.017209  ...    8.921326    5.286759         0.0\n",
       "1  sample_1     0.0  0.592732  ...    9.397854    2.094168         0.0\n",
       "2  sample_2     0.0  3.511759  ...   10.090470    1.683023         0.0\n",
       "3  sample_3     0.0  3.663618  ...    9.684365    3.292001         0.0\n",
       "4  sample_4     0.0  2.655741  ...    9.461191    5.110372         0.0\n",
       "\n",
       "[5 rows x 20532 columns]"
      ]
     },
     "execution_count": 18,
     "metadata": {
      "tags": []
     },
     "output_type": "execute_result"
    }
   ],
   "source": [
    "data.head()"
   ]
  },
  {
   "cell_type": "code",
   "execution_count": 19,
   "metadata": {
    "colab": {
     "base_uri": "https://localhost:8080/",
     "height": 206
    },
    "id": "-xc03O7CNRZj",
    "outputId": "6d0ad5b5-2d11-4cbe-fd7b-f78b7317a625"
   },
   "outputs": [
    {
     "data": {
      "text/html": [
       "<div>\n",
       "<style scoped>\n",
       "    .dataframe tbody tr th:only-of-type {\n",
       "        vertical-align: middle;\n",
       "    }\n",
       "\n",
       "    .dataframe tbody tr th {\n",
       "        vertical-align: top;\n",
       "    }\n",
       "\n",
       "    .dataframe thead th {\n",
       "        text-align: right;\n",
       "    }\n",
       "</style>\n",
       "<table border=\"1\" class=\"dataframe\">\n",
       "  <thead>\n",
       "    <tr style=\"text-align: right;\">\n",
       "      <th></th>\n",
       "      <th>Sample</th>\n",
       "      <th>Class</th>\n",
       "    </tr>\n",
       "  </thead>\n",
       "  <tbody>\n",
       "    <tr>\n",
       "      <th>0</th>\n",
       "      <td>sample_0</td>\n",
       "      <td>PRAD</td>\n",
       "    </tr>\n",
       "    <tr>\n",
       "      <th>1</th>\n",
       "      <td>sample_1</td>\n",
       "      <td>LUAD</td>\n",
       "    </tr>\n",
       "    <tr>\n",
       "      <th>2</th>\n",
       "      <td>sample_2</td>\n",
       "      <td>PRAD</td>\n",
       "    </tr>\n",
       "    <tr>\n",
       "      <th>3</th>\n",
       "      <td>sample_3</td>\n",
       "      <td>PRAD</td>\n",
       "    </tr>\n",
       "    <tr>\n",
       "      <th>4</th>\n",
       "      <td>sample_4</td>\n",
       "      <td>BRCA</td>\n",
       "    </tr>\n",
       "  </tbody>\n",
       "</table>\n",
       "</div>"
      ],
      "text/plain": [
       "     Sample Class\n",
       "0  sample_0  PRAD\n",
       "1  sample_1  LUAD\n",
       "2  sample_2  PRAD\n",
       "3  sample_3  PRAD\n",
       "4  sample_4  BRCA"
      ]
     },
     "execution_count": 19,
     "metadata": {
      "tags": []
     },
     "output_type": "execute_result"
    }
   ],
   "source": [
    "labels.head()"
   ]
  },
  {
   "cell_type": "code",
   "execution_count": 20,
   "metadata": {
    "colab": {
     "base_uri": "https://localhost:8080/"
    },
    "id": "cfUOINPpNRZj",
    "outputId": "ba4a4bf4-9e3e-492d-f948-721996e650a0"
   },
   "outputs": [
    {
     "name": "stdout",
     "output_type": "stream",
     "text": [
      "<class 'pandas.core.frame.DataFrame'>\n",
      "RangeIndex: 801 entries, 0 to 800\n",
      "Columns: 20532 entries, Sample to gene_20530\n",
      "dtypes: float64(20531), object(1)\n",
      "memory usage: 125.5+ MB\n"
     ]
    }
   ],
   "source": [
    "data.info()"
   ]
  },
  {
   "cell_type": "markdown",
   "metadata": {
    "id": "tGPkyCWuNRZj"
   },
   "source": [
    "we need to check for duplicates in the whole dataset as it can cause issues while training our model and can cause a false spike in f1_score and accuracy"
   ]
  },
  {
   "cell_type": "code",
   "execution_count": 21,
   "metadata": {
    "colab": {
     "base_uri": "https://localhost:8080/",
     "height": 99
    },
    "id": "U9qXvAG5NRZj",
    "outputId": "ee3bc9bb-39ca-47d0-a9fd-a54cde94990c"
   },
   "outputs": [
    {
     "data": {
      "text/html": [
       "<div>\n",
       "<style scoped>\n",
       "    .dataframe tbody tr th:only-of-type {\n",
       "        vertical-align: middle;\n",
       "    }\n",
       "\n",
       "    .dataframe tbody tr th {\n",
       "        vertical-align: top;\n",
       "    }\n",
       "\n",
       "    .dataframe thead th {\n",
       "        text-align: right;\n",
       "    }\n",
       "</style>\n",
       "<table border=\"1\" class=\"dataframe\">\n",
       "  <thead>\n",
       "    <tr style=\"text-align: right;\">\n",
       "      <th></th>\n",
       "      <th>Sample</th>\n",
       "      <th>gene_0</th>\n",
       "      <th>gene_1</th>\n",
       "      <th>gene_2</th>\n",
       "      <th>gene_3</th>\n",
       "      <th>gene_4</th>\n",
       "      <th>gene_5</th>\n",
       "      <th>gene_6</th>\n",
       "      <th>gene_7</th>\n",
       "      <th>gene_8</th>\n",
       "      <th>gene_9</th>\n",
       "      <th>gene_10</th>\n",
       "      <th>gene_11</th>\n",
       "      <th>gene_12</th>\n",
       "      <th>gene_13</th>\n",
       "      <th>gene_14</th>\n",
       "      <th>gene_15</th>\n",
       "      <th>gene_16</th>\n",
       "      <th>gene_17</th>\n",
       "      <th>gene_18</th>\n",
       "      <th>gene_19</th>\n",
       "      <th>gene_20</th>\n",
       "      <th>gene_21</th>\n",
       "      <th>gene_22</th>\n",
       "      <th>gene_23</th>\n",
       "      <th>gene_24</th>\n",
       "      <th>gene_25</th>\n",
       "      <th>gene_26</th>\n",
       "      <th>gene_27</th>\n",
       "      <th>gene_28</th>\n",
       "      <th>gene_29</th>\n",
       "      <th>gene_30</th>\n",
       "      <th>gene_31</th>\n",
       "      <th>gene_32</th>\n",
       "      <th>gene_33</th>\n",
       "      <th>gene_34</th>\n",
       "      <th>gene_35</th>\n",
       "      <th>gene_36</th>\n",
       "      <th>gene_37</th>\n",
       "      <th>gene_38</th>\n",
       "      <th>...</th>\n",
       "      <th>gene_20491</th>\n",
       "      <th>gene_20492</th>\n",
       "      <th>gene_20493</th>\n",
       "      <th>gene_20494</th>\n",
       "      <th>gene_20495</th>\n",
       "      <th>gene_20496</th>\n",
       "      <th>gene_20497</th>\n",
       "      <th>gene_20498</th>\n",
       "      <th>gene_20499</th>\n",
       "      <th>gene_20500</th>\n",
       "      <th>gene_20501</th>\n",
       "      <th>gene_20502</th>\n",
       "      <th>gene_20503</th>\n",
       "      <th>gene_20504</th>\n",
       "      <th>gene_20505</th>\n",
       "      <th>gene_20506</th>\n",
       "      <th>gene_20507</th>\n",
       "      <th>gene_20508</th>\n",
       "      <th>gene_20509</th>\n",
       "      <th>gene_20510</th>\n",
       "      <th>gene_20511</th>\n",
       "      <th>gene_20512</th>\n",
       "      <th>gene_20513</th>\n",
       "      <th>gene_20514</th>\n",
       "      <th>gene_20515</th>\n",
       "      <th>gene_20516</th>\n",
       "      <th>gene_20517</th>\n",
       "      <th>gene_20518</th>\n",
       "      <th>gene_20519</th>\n",
       "      <th>gene_20520</th>\n",
       "      <th>gene_20521</th>\n",
       "      <th>gene_20522</th>\n",
       "      <th>gene_20523</th>\n",
       "      <th>gene_20524</th>\n",
       "      <th>gene_20525</th>\n",
       "      <th>gene_20526</th>\n",
       "      <th>gene_20527</th>\n",
       "      <th>gene_20528</th>\n",
       "      <th>gene_20529</th>\n",
       "      <th>gene_20530</th>\n",
       "    </tr>\n",
       "  </thead>\n",
       "  <tbody>\n",
       "  </tbody>\n",
       "</table>\n",
       "<p>0 rows × 20532 columns</p>\n",
       "</div>"
      ],
      "text/plain": [
       "Empty DataFrame\n",
       "Columns: [Sample, gene_0, gene_1, gene_2, gene_3, gene_4, gene_5, gene_6, gene_7, gene_8, gene_9, gene_10, gene_11, gene_12, gene_13, gene_14, gene_15, gene_16, gene_17, gene_18, gene_19, gene_20, gene_21, gene_22, gene_23, gene_24, gene_25, gene_26, gene_27, gene_28, gene_29, gene_30, gene_31, gene_32, gene_33, gene_34, gene_35, gene_36, gene_37, gene_38, gene_39, gene_40, gene_41, gene_42, gene_43, gene_44, gene_45, gene_46, gene_47, gene_48, gene_49, gene_50, gene_51, gene_52, gene_53, gene_54, gene_55, gene_56, gene_57, gene_58, gene_59, gene_60, gene_61, gene_62, gene_63, gene_64, gene_65, gene_66, gene_67, gene_68, gene_69, gene_70, gene_71, gene_72, gene_73, gene_74, gene_75, gene_76, gene_77, gene_78, gene_79, gene_80, gene_81, gene_82, gene_83, gene_84, gene_85, gene_86, gene_87, gene_88, gene_89, gene_90, gene_91, gene_92, gene_93, gene_94, gene_95, gene_96, gene_97, gene_98, ...]\n",
       "Index: []\n",
       "\n",
       "[0 rows x 20532 columns]"
      ]
     },
     "execution_count": 21,
     "metadata": {
      "tags": []
     },
     "output_type": "execute_result"
    }
   ],
   "source": [
    "data[data.duplicated(keep=\"first\")]"
   ]
  },
  {
   "cell_type": "markdown",
   "metadata": {
    "id": "7MoorQG_NRZk"
   },
   "source": [
    "- <u> NULL values </u>"
   ]
  },
  {
   "cell_type": "code",
   "execution_count": 22,
   "metadata": {
    "colab": {
     "base_uri": "https://localhost:8080/"
    },
    "id": "Yu0rLjwLNRZk",
    "outputId": "4b5a7dd9-c180-4251-94ad-789c4f8fd35f"
   },
   "outputs": [
    {
     "name": "stdout",
     "output_type": "stream",
     "text": [
      "False\n",
      "0\n"
     ]
    }
   ],
   "source": [
    "print(data.isnull().values.any())\n",
    "print(data.isnull().sum().sum())"
   ]
  },
  {
   "cell_type": "markdown",
   "metadata": {
    "id": "NjgTVP76NRZk"
   },
   "source": [
    "we have no null values"
   ]
  },
  {
   "cell_type": "code",
   "execution_count": 23,
   "metadata": {
    "colab": {
     "base_uri": "https://localhost:8080/",
     "height": 350
    },
    "id": "lA8r7ZdCNRZk",
    "outputId": "c0f677c7-6b14-43aa-8b9b-2ba03e5d72d0"
   },
   "outputs": [
    {
     "data": {
      "text/html": [
       "<div>\n",
       "<style scoped>\n",
       "    .dataframe tbody tr th:only-of-type {\n",
       "        vertical-align: middle;\n",
       "    }\n",
       "\n",
       "    .dataframe tbody tr th {\n",
       "        vertical-align: top;\n",
       "    }\n",
       "\n",
       "    .dataframe thead th {\n",
       "        text-align: right;\n",
       "    }\n",
       "</style>\n",
       "<table border=\"1\" class=\"dataframe\">\n",
       "  <thead>\n",
       "    <tr style=\"text-align: right;\">\n",
       "      <th></th>\n",
       "      <th>gene_0</th>\n",
       "      <th>gene_1</th>\n",
       "      <th>gene_2</th>\n",
       "      <th>gene_3</th>\n",
       "      <th>gene_4</th>\n",
       "      <th>gene_5</th>\n",
       "      <th>gene_6</th>\n",
       "      <th>gene_7</th>\n",
       "      <th>gene_8</th>\n",
       "      <th>gene_9</th>\n",
       "      <th>gene_10</th>\n",
       "      <th>gene_11</th>\n",
       "      <th>gene_12</th>\n",
       "      <th>gene_13</th>\n",
       "      <th>gene_14</th>\n",
       "      <th>gene_15</th>\n",
       "      <th>gene_16</th>\n",
       "      <th>gene_17</th>\n",
       "      <th>gene_18</th>\n",
       "      <th>gene_19</th>\n",
       "      <th>gene_20</th>\n",
       "      <th>gene_21</th>\n",
       "      <th>gene_22</th>\n",
       "      <th>gene_23</th>\n",
       "      <th>gene_24</th>\n",
       "      <th>gene_25</th>\n",
       "      <th>gene_26</th>\n",
       "      <th>gene_27</th>\n",
       "      <th>gene_28</th>\n",
       "      <th>gene_29</th>\n",
       "      <th>gene_30</th>\n",
       "      <th>gene_31</th>\n",
       "      <th>gene_32</th>\n",
       "      <th>gene_33</th>\n",
       "      <th>gene_34</th>\n",
       "      <th>gene_35</th>\n",
       "      <th>gene_36</th>\n",
       "      <th>gene_37</th>\n",
       "      <th>gene_38</th>\n",
       "      <th>gene_39</th>\n",
       "      <th>...</th>\n",
       "      <th>gene_20491</th>\n",
       "      <th>gene_20492</th>\n",
       "      <th>gene_20493</th>\n",
       "      <th>gene_20494</th>\n",
       "      <th>gene_20495</th>\n",
       "      <th>gene_20496</th>\n",
       "      <th>gene_20497</th>\n",
       "      <th>gene_20498</th>\n",
       "      <th>gene_20499</th>\n",
       "      <th>gene_20500</th>\n",
       "      <th>gene_20501</th>\n",
       "      <th>gene_20502</th>\n",
       "      <th>gene_20503</th>\n",
       "      <th>gene_20504</th>\n",
       "      <th>gene_20505</th>\n",
       "      <th>gene_20506</th>\n",
       "      <th>gene_20507</th>\n",
       "      <th>gene_20508</th>\n",
       "      <th>gene_20509</th>\n",
       "      <th>gene_20510</th>\n",
       "      <th>gene_20511</th>\n",
       "      <th>gene_20512</th>\n",
       "      <th>gene_20513</th>\n",
       "      <th>gene_20514</th>\n",
       "      <th>gene_20515</th>\n",
       "      <th>gene_20516</th>\n",
       "      <th>gene_20517</th>\n",
       "      <th>gene_20518</th>\n",
       "      <th>gene_20519</th>\n",
       "      <th>gene_20520</th>\n",
       "      <th>gene_20521</th>\n",
       "      <th>gene_20522</th>\n",
       "      <th>gene_20523</th>\n",
       "      <th>gene_20524</th>\n",
       "      <th>gene_20525</th>\n",
       "      <th>gene_20526</th>\n",
       "      <th>gene_20527</th>\n",
       "      <th>gene_20528</th>\n",
       "      <th>gene_20529</th>\n",
       "      <th>gene_20530</th>\n",
       "    </tr>\n",
       "  </thead>\n",
       "  <tbody>\n",
       "    <tr>\n",
       "      <th>count</th>\n",
       "      <td>801.000000</td>\n",
       "      <td>801.000000</td>\n",
       "      <td>801.000000</td>\n",
       "      <td>801.000000</td>\n",
       "      <td>801.000000</td>\n",
       "      <td>801.0</td>\n",
       "      <td>801.000000</td>\n",
       "      <td>801.000000</td>\n",
       "      <td>801.000000</td>\n",
       "      <td>801.000000</td>\n",
       "      <td>801.000000</td>\n",
       "      <td>801.000000</td>\n",
       "      <td>801.000000</td>\n",
       "      <td>801.000000</td>\n",
       "      <td>801.000000</td>\n",
       "      <td>801.000000</td>\n",
       "      <td>801.000000</td>\n",
       "      <td>801.000000</td>\n",
       "      <td>801.000000</td>\n",
       "      <td>801.000000</td>\n",
       "      <td>801.000000</td>\n",
       "      <td>801.000000</td>\n",
       "      <td>801.000000</td>\n",
       "      <td>801.0</td>\n",
       "      <td>801.000000</td>\n",
       "      <td>801.000000</td>\n",
       "      <td>801.000000</td>\n",
       "      <td>801.000000</td>\n",
       "      <td>801.000000</td>\n",
       "      <td>801.000000</td>\n",
       "      <td>801.000000</td>\n",
       "      <td>801.000000</td>\n",
       "      <td>801.000000</td>\n",
       "      <td>801.000000</td>\n",
       "      <td>801.000000</td>\n",
       "      <td>801.000000</td>\n",
       "      <td>801.000000</td>\n",
       "      <td>801.000000</td>\n",
       "      <td>801.000000</td>\n",
       "      <td>801.000000</td>\n",
       "      <td>...</td>\n",
       "      <td>801.000000</td>\n",
       "      <td>801.000000</td>\n",
       "      <td>801.000000</td>\n",
       "      <td>801.000000</td>\n",
       "      <td>801.000000</td>\n",
       "      <td>801.000000</td>\n",
       "      <td>801.000000</td>\n",
       "      <td>801.000000</td>\n",
       "      <td>801.000000</td>\n",
       "      <td>801.000000</td>\n",
       "      <td>801.000000</td>\n",
       "      <td>801.000000</td>\n",
       "      <td>801.000000</td>\n",
       "      <td>801.000000</td>\n",
       "      <td>801.000000</td>\n",
       "      <td>801.000000</td>\n",
       "      <td>801.000000</td>\n",
       "      <td>801.000000</td>\n",
       "      <td>801.000000</td>\n",
       "      <td>801.000000</td>\n",
       "      <td>801.000000</td>\n",
       "      <td>801.000000</td>\n",
       "      <td>801.000000</td>\n",
       "      <td>801.000000</td>\n",
       "      <td>801.000000</td>\n",
       "      <td>801.000000</td>\n",
       "      <td>801.000000</td>\n",
       "      <td>801.000000</td>\n",
       "      <td>801.000000</td>\n",
       "      <td>801.000000</td>\n",
       "      <td>801.000000</td>\n",
       "      <td>801.000000</td>\n",
       "      <td>801.000000</td>\n",
       "      <td>801.000000</td>\n",
       "      <td>801.000000</td>\n",
       "      <td>801.000000</td>\n",
       "      <td>801.000000</td>\n",
       "      <td>801.000000</td>\n",
       "      <td>801.000000</td>\n",
       "      <td>801.000000</td>\n",
       "    </tr>\n",
       "    <tr>\n",
       "      <th>mean</th>\n",
       "      <td>0.026642</td>\n",
       "      <td>3.010909</td>\n",
       "      <td>3.095350</td>\n",
       "      <td>6.722305</td>\n",
       "      <td>9.813612</td>\n",
       "      <td>0.0</td>\n",
       "      <td>7.405509</td>\n",
       "      <td>0.499882</td>\n",
       "      <td>0.016744</td>\n",
       "      <td>0.013428</td>\n",
       "      <td>0.688177</td>\n",
       "      <td>0.955504</td>\n",
       "      <td>2.667291</td>\n",
       "      <td>0.318108</td>\n",
       "      <td>0.214608</td>\n",
       "      <td>0.005879</td>\n",
       "      <td>0.003002</td>\n",
       "      <td>0.035498</td>\n",
       "      <td>2.204436</td>\n",
       "      <td>9.078900</td>\n",
       "      <td>3.286125</td>\n",
       "      <td>2.556424</td>\n",
       "      <td>8.266450</td>\n",
       "      <td>0.0</td>\n",
       "      <td>0.105504</td>\n",
       "      <td>0.526534</td>\n",
       "      <td>2.722476</td>\n",
       "      <td>9.209380</td>\n",
       "      <td>4.673866</td>\n",
       "      <td>6.182851</td>\n",
       "      <td>2.139337</td>\n",
       "      <td>1.168574</td>\n",
       "      <td>6.789898</td>\n",
       "      <td>2.284279</td>\n",
       "      <td>13.711217</td>\n",
       "      <td>8.545217</td>\n",
       "      <td>1.123570</td>\n",
       "      <td>0.202338</td>\n",
       "      <td>9.497384</td>\n",
       "      <td>1.363294</td>\n",
       "      <td>...</td>\n",
       "      <td>9.793412</td>\n",
       "      <td>10.284857</td>\n",
       "      <td>6.079328</td>\n",
       "      <td>7.945613</td>\n",
       "      <td>0.371288</td>\n",
       "      <td>4.905456</td>\n",
       "      <td>7.366911</td>\n",
       "      <td>7.049196</td>\n",
       "      <td>9.628212</td>\n",
       "      <td>2.354619</td>\n",
       "      <td>5.796625</td>\n",
       "      <td>7.744818</td>\n",
       "      <td>6.825166</td>\n",
       "      <td>3.859964</td>\n",
       "      <td>8.791191</td>\n",
       "      <td>8.045218</td>\n",
       "      <td>1.051505</td>\n",
       "      <td>6.031472</td>\n",
       "      <td>1.217945</td>\n",
       "      <td>8.147243</td>\n",
       "      <td>0.044261</td>\n",
       "      <td>6.856778</td>\n",
       "      <td>8.517432</td>\n",
       "      <td>7.347510</td>\n",
       "      <td>8.561671</td>\n",
       "      <td>8.021405</td>\n",
       "      <td>7.314292</td>\n",
       "      <td>8.687859</td>\n",
       "      <td>8.324222</td>\n",
       "      <td>8.788809</td>\n",
       "      <td>5.896573</td>\n",
       "      <td>8.765891</td>\n",
       "      <td>10.056252</td>\n",
       "      <td>4.847727</td>\n",
       "      <td>9.741987</td>\n",
       "      <td>11.742228</td>\n",
       "      <td>10.155271</td>\n",
       "      <td>9.590726</td>\n",
       "      <td>5.528177</td>\n",
       "      <td>0.095411</td>\n",
       "    </tr>\n",
       "    <tr>\n",
       "      <th>std</th>\n",
       "      <td>0.136850</td>\n",
       "      <td>1.200828</td>\n",
       "      <td>1.065601</td>\n",
       "      <td>0.638819</td>\n",
       "      <td>0.506537</td>\n",
       "      <td>0.0</td>\n",
       "      <td>1.108237</td>\n",
       "      <td>0.508799</td>\n",
       "      <td>0.133635</td>\n",
       "      <td>0.204722</td>\n",
       "      <td>1.173568</td>\n",
       "      <td>0.877319</td>\n",
       "      <td>0.705767</td>\n",
       "      <td>0.673289</td>\n",
       "      <td>0.396474</td>\n",
       "      <td>0.065316</td>\n",
       "      <td>0.038493</td>\n",
       "      <td>0.192218</td>\n",
       "      <td>3.194977</td>\n",
       "      <td>1.203502</td>\n",
       "      <td>1.137231</td>\n",
       "      <td>2.448633</td>\n",
       "      <td>1.220976</td>\n",
       "      <td>0.0</td>\n",
       "      <td>0.411554</td>\n",
       "      <td>0.703966</td>\n",
       "      <td>2.667242</td>\n",
       "      <td>0.740969</td>\n",
       "      <td>2.049775</td>\n",
       "      <td>1.568571</td>\n",
       "      <td>3.160784</td>\n",
       "      <td>1.665570</td>\n",
       "      <td>0.857483</td>\n",
       "      <td>2.721062</td>\n",
       "      <td>1.272811</td>\n",
       "      <td>1.380301</td>\n",
       "      <td>1.369473</td>\n",
       "      <td>0.609529</td>\n",
       "      <td>0.425283</td>\n",
       "      <td>1.882621</td>\n",
       "      <td>...</td>\n",
       "      <td>0.503487</td>\n",
       "      <td>0.458172</td>\n",
       "      <td>0.811543</td>\n",
       "      <td>0.617257</td>\n",
       "      <td>0.757676</td>\n",
       "      <td>1.075023</td>\n",
       "      <td>0.809643</td>\n",
       "      <td>0.714542</td>\n",
       "      <td>1.376309</td>\n",
       "      <td>1.877525</td>\n",
       "      <td>0.893885</td>\n",
       "      <td>0.490483</td>\n",
       "      <td>0.485472</td>\n",
       "      <td>1.832004</td>\n",
       "      <td>0.524364</td>\n",
       "      <td>0.601594</td>\n",
       "      <td>1.264554</td>\n",
       "      <td>0.643518</td>\n",
       "      <td>0.697974</td>\n",
       "      <td>0.514244</td>\n",
       "      <td>0.175399</td>\n",
       "      <td>0.608048</td>\n",
       "      <td>0.743320</td>\n",
       "      <td>1.505049</td>\n",
       "      <td>0.636755</td>\n",
       "      <td>0.644683</td>\n",
       "      <td>0.576918</td>\n",
       "      <td>0.542212</td>\n",
       "      <td>0.823877</td>\n",
       "      <td>1.265211</td>\n",
       "      <td>0.746399</td>\n",
       "      <td>0.603176</td>\n",
       "      <td>0.379278</td>\n",
       "      <td>2.382728</td>\n",
       "      <td>0.533898</td>\n",
       "      <td>0.670371</td>\n",
       "      <td>0.580569</td>\n",
       "      <td>0.563849</td>\n",
       "      <td>2.073859</td>\n",
       "      <td>0.364529</td>\n",
       "    </tr>\n",
       "    <tr>\n",
       "      <th>min</th>\n",
       "      <td>0.000000</td>\n",
       "      <td>0.000000</td>\n",
       "      <td>0.000000</td>\n",
       "      <td>5.009284</td>\n",
       "      <td>8.435999</td>\n",
       "      <td>0.0</td>\n",
       "      <td>3.930747</td>\n",
       "      <td>0.000000</td>\n",
       "      <td>0.000000</td>\n",
       "      <td>0.000000</td>\n",
       "      <td>0.000000</td>\n",
       "      <td>0.000000</td>\n",
       "      <td>0.000000</td>\n",
       "      <td>0.000000</td>\n",
       "      <td>0.000000</td>\n",
       "      <td>0.000000</td>\n",
       "      <td>0.000000</td>\n",
       "      <td>0.000000</td>\n",
       "      <td>0.000000</td>\n",
       "      <td>5.437228</td>\n",
       "      <td>0.000000</td>\n",
       "      <td>0.000000</td>\n",
       "      <td>4.190164</td>\n",
       "      <td>0.0</td>\n",
       "      <td>0.000000</td>\n",
       "      <td>0.000000</td>\n",
       "      <td>0.000000</td>\n",
       "      <td>6.200934</td>\n",
       "      <td>0.000000</td>\n",
       "      <td>2.203890</td>\n",
       "      <td>0.000000</td>\n",
       "      <td>0.000000</td>\n",
       "      <td>4.238290</td>\n",
       "      <td>0.000000</td>\n",
       "      <td>9.378178</td>\n",
       "      <td>4.094641</td>\n",
       "      <td>0.000000</td>\n",
       "      <td>0.000000</td>\n",
       "      <td>7.191099</td>\n",
       "      <td>0.000000</td>\n",
       "      <td>...</td>\n",
       "      <td>8.113831</td>\n",
       "      <td>8.897349</td>\n",
       "      <td>2.583086</td>\n",
       "      <td>5.264987</td>\n",
       "      <td>0.000000</td>\n",
       "      <td>1.573908</td>\n",
       "      <td>4.253021</td>\n",
       "      <td>4.640604</td>\n",
       "      <td>4.383186</td>\n",
       "      <td>0.000000</td>\n",
       "      <td>1.066881</td>\n",
       "      <td>5.304664</td>\n",
       "      <td>5.124647</td>\n",
       "      <td>0.000000</td>\n",
       "      <td>6.729838</td>\n",
       "      <td>4.322945</td>\n",
       "      <td>0.000000</td>\n",
       "      <td>3.488194</td>\n",
       "      <td>0.000000</td>\n",
       "      <td>6.355971</td>\n",
       "      <td>0.000000</td>\n",
       "      <td>4.686904</td>\n",
       "      <td>5.555325</td>\n",
       "      <td>0.000000</td>\n",
       "      <td>5.709908</td>\n",
       "      <td>4.567479</td>\n",
       "      <td>0.000000</td>\n",
       "      <td>6.655299</td>\n",
       "      <td>6.294446</td>\n",
       "      <td>4.077841</td>\n",
       "      <td>2.853517</td>\n",
       "      <td>6.678368</td>\n",
       "      <td>8.669456</td>\n",
       "      <td>0.000000</td>\n",
       "      <td>7.974942</td>\n",
       "      <td>9.045255</td>\n",
       "      <td>7.530141</td>\n",
       "      <td>7.864533</td>\n",
       "      <td>0.593975</td>\n",
       "      <td>0.000000</td>\n",
       "    </tr>\n",
       "    <tr>\n",
       "      <th>25%</th>\n",
       "      <td>0.000000</td>\n",
       "      <td>2.299039</td>\n",
       "      <td>2.390365</td>\n",
       "      <td>6.303346</td>\n",
       "      <td>9.464466</td>\n",
       "      <td>0.0</td>\n",
       "      <td>6.676042</td>\n",
       "      <td>0.000000</td>\n",
       "      <td>0.000000</td>\n",
       "      <td>0.000000</td>\n",
       "      <td>0.000000</td>\n",
       "      <td>0.395831</td>\n",
       "      <td>2.243852</td>\n",
       "      <td>0.000000</td>\n",
       "      <td>0.000000</td>\n",
       "      <td>0.000000</td>\n",
       "      <td>0.000000</td>\n",
       "      <td>0.000000</td>\n",
       "      <td>0.000000</td>\n",
       "      <td>8.286530</td>\n",
       "      <td>2.589260</td>\n",
       "      <td>0.000000</td>\n",
       "      <td>7.611490</td>\n",
       "      <td>0.0</td>\n",
       "      <td>0.000000</td>\n",
       "      <td>0.000000</td>\n",
       "      <td>0.478817</td>\n",
       "      <td>8.797418</td>\n",
       "      <td>3.052520</td>\n",
       "      <td>4.994942</td>\n",
       "      <td>0.000000</td>\n",
       "      <td>0.000000</td>\n",
       "      <td>6.252762</td>\n",
       "      <td>0.310689</td>\n",
       "      <td>12.894388</td>\n",
       "      <td>7.679522</td>\n",
       "      <td>0.000000</td>\n",
       "      <td>0.000000</td>\n",
       "      <td>9.221983</td>\n",
       "      <td>0.000000</td>\n",
       "      <td>...</td>\n",
       "      <td>9.493701</td>\n",
       "      <td>9.962365</td>\n",
       "      <td>5.611296</td>\n",
       "      <td>7.557441</td>\n",
       "      <td>0.000000</td>\n",
       "      <td>4.164167</td>\n",
       "      <td>6.863393</td>\n",
       "      <td>6.589179</td>\n",
       "      <td>9.127362</td>\n",
       "      <td>0.643487</td>\n",
       "      <td>5.346000</td>\n",
       "      <td>7.438492</td>\n",
       "      <td>6.537007</td>\n",
       "      <td>2.455518</td>\n",
       "      <td>8.474594</td>\n",
       "      <td>7.687712</td>\n",
       "      <td>0.000000</td>\n",
       "      <td>5.659770</td>\n",
       "      <td>0.744333</td>\n",
       "      <td>7.825582</td>\n",
       "      <td>0.000000</td>\n",
       "      <td>6.472199</td>\n",
       "      <td>8.027823</td>\n",
       "      <td>6.710021</td>\n",
       "      <td>8.200820</td>\n",
       "      <td>7.624291</td>\n",
       "      <td>6.993369</td>\n",
       "      <td>8.365439</td>\n",
       "      <td>7.712981</td>\n",
       "      <td>7.834736</td>\n",
       "      <td>5.454926</td>\n",
       "      <td>8.383834</td>\n",
       "      <td>9.826027</td>\n",
       "      <td>3.130750</td>\n",
       "      <td>9.400747</td>\n",
       "      <td>11.315857</td>\n",
       "      <td>9.836525</td>\n",
       "      <td>9.244219</td>\n",
       "      <td>4.092385</td>\n",
       "      <td>0.000000</td>\n",
       "    </tr>\n",
       "    <tr>\n",
       "      <th>50%</th>\n",
       "      <td>0.000000</td>\n",
       "      <td>3.143687</td>\n",
       "      <td>3.127006</td>\n",
       "      <td>6.655893</td>\n",
       "      <td>9.791599</td>\n",
       "      <td>0.0</td>\n",
       "      <td>7.450114</td>\n",
       "      <td>0.443076</td>\n",
       "      <td>0.000000</td>\n",
       "      <td>0.000000</td>\n",
       "      <td>0.360196</td>\n",
       "      <td>0.801076</td>\n",
       "      <td>2.702214</td>\n",
       "      <td>0.000000</td>\n",
       "      <td>0.000000</td>\n",
       "      <td>0.000000</td>\n",
       "      <td>0.000000</td>\n",
       "      <td>0.000000</td>\n",
       "      <td>0.639232</td>\n",
       "      <td>9.157862</td>\n",
       "      <td>3.309409</td>\n",
       "      <td>2.435202</td>\n",
       "      <td>8.263232</td>\n",
       "      <td>0.0</td>\n",
       "      <td>0.000000</td>\n",
       "      <td>0.000000</td>\n",
       "      <td>2.041944</td>\n",
       "      <td>9.246501</td>\n",
       "      <td>4.998850</td>\n",
       "      <td>6.111265</td>\n",
       "      <td>0.000000</td>\n",
       "      <td>0.478920</td>\n",
       "      <td>6.756877</td>\n",
       "      <td>1.252718</td>\n",
       "      <td>13.692114</td>\n",
       "      <td>8.574014</td>\n",
       "      <td>0.659925</td>\n",
       "      <td>0.000000</td>\n",
       "      <td>9.512632</td>\n",
       "      <td>0.460900</td>\n",
       "      <td>...</td>\n",
       "      <td>9.812262</td>\n",
       "      <td>10.286974</td>\n",
       "      <td>6.159756</td>\n",
       "      <td>7.945813</td>\n",
       "      <td>0.000000</td>\n",
       "      <td>4.786304</td>\n",
       "      <td>7.432483</td>\n",
       "      <td>7.110436</td>\n",
       "      <td>9.986866</td>\n",
       "      <td>2.135830</td>\n",
       "      <td>5.871632</td>\n",
       "      <td>7.761771</td>\n",
       "      <td>6.851224</td>\n",
       "      <td>4.010529</td>\n",
       "      <td>8.827292</td>\n",
       "      <td>8.089546</td>\n",
       "      <td>0.704783</td>\n",
       "      <td>6.070728</td>\n",
       "      <td>1.208892</td>\n",
       "      <td>8.175040</td>\n",
       "      <td>0.000000</td>\n",
       "      <td>6.820460</td>\n",
       "      <td>8.475279</td>\n",
       "      <td>7.678410</td>\n",
       "      <td>8.585289</td>\n",
       "      <td>8.039380</td>\n",
       "      <td>7.328513</td>\n",
       "      <td>8.665169</td>\n",
       "      <td>8.335216</td>\n",
       "      <td>8.826501</td>\n",
       "      <td>5.972582</td>\n",
       "      <td>8.784144</td>\n",
       "      <td>10.066385</td>\n",
       "      <td>5.444935</td>\n",
       "      <td>9.784524</td>\n",
       "      <td>11.749802</td>\n",
       "      <td>10.191207</td>\n",
       "      <td>9.566511</td>\n",
       "      <td>5.218618</td>\n",
       "      <td>0.000000</td>\n",
       "    </tr>\n",
       "    <tr>\n",
       "      <th>75%</th>\n",
       "      <td>0.000000</td>\n",
       "      <td>3.883484</td>\n",
       "      <td>3.802534</td>\n",
       "      <td>7.038447</td>\n",
       "      <td>10.142324</td>\n",
       "      <td>0.0</td>\n",
       "      <td>8.121984</td>\n",
       "      <td>0.789354</td>\n",
       "      <td>0.000000</td>\n",
       "      <td>0.000000</td>\n",
       "      <td>0.903887</td>\n",
       "      <td>1.373899</td>\n",
       "      <td>3.153092</td>\n",
       "      <td>0.427606</td>\n",
       "      <td>0.399773</td>\n",
       "      <td>0.000000</td>\n",
       "      <td>0.000000</td>\n",
       "      <td>0.000000</td>\n",
       "      <td>2.704407</td>\n",
       "      <td>9.930959</td>\n",
       "      <td>4.043231</td>\n",
       "      <td>4.913086</td>\n",
       "      <td>9.014927</td>\n",
       "      <td>0.0</td>\n",
       "      <td>0.000000</td>\n",
       "      <td>0.883152</td>\n",
       "      <td>4.293702</td>\n",
       "      <td>9.672627</td>\n",
       "      <td>6.289925</td>\n",
       "      <td>7.208254</td>\n",
       "      <td>5.285088</td>\n",
       "      <td>1.607721</td>\n",
       "      <td>7.304675</td>\n",
       "      <td>3.288639</td>\n",
       "      <td>14.635429</td>\n",
       "      <td>9.601082</td>\n",
       "      <td>1.602884</td>\n",
       "      <td>0.000000</td>\n",
       "      <td>9.766862</td>\n",
       "      <td>2.143361</td>\n",
       "      <td>...</td>\n",
       "      <td>10.115577</td>\n",
       "      <td>10.599550</td>\n",
       "      <td>6.675802</td>\n",
       "      <td>8.319984</td>\n",
       "      <td>0.528571</td>\n",
       "      <td>5.665791</td>\n",
       "      <td>7.909647</td>\n",
       "      <td>7.521922</td>\n",
       "      <td>10.555883</td>\n",
       "      <td>3.873951</td>\n",
       "      <td>6.389348</td>\n",
       "      <td>8.026191</td>\n",
       "      <td>7.143200</td>\n",
       "      <td>5.355989</td>\n",
       "      <td>9.142000</td>\n",
       "      <td>8.442885</td>\n",
       "      <td>1.553901</td>\n",
       "      <td>6.398891</td>\n",
       "      <td>1.646209</td>\n",
       "      <td>8.452632</td>\n",
       "      <td>0.000000</td>\n",
       "      <td>7.166966</td>\n",
       "      <td>8.961366</td>\n",
       "      <td>8.381097</td>\n",
       "      <td>8.965444</td>\n",
       "      <td>8.430344</td>\n",
       "      <td>7.641907</td>\n",
       "      <td>9.014207</td>\n",
       "      <td>8.860895</td>\n",
       "      <td>9.776425</td>\n",
       "      <td>6.411292</td>\n",
       "      <td>9.147136</td>\n",
       "      <td>10.299025</td>\n",
       "      <td>6.637412</td>\n",
       "      <td>10.082269</td>\n",
       "      <td>12.177852</td>\n",
       "      <td>10.578561</td>\n",
       "      <td>9.917888</td>\n",
       "      <td>6.876382</td>\n",
       "      <td>0.000000</td>\n",
       "    </tr>\n",
       "    <tr>\n",
       "      <th>max</th>\n",
       "      <td>1.482332</td>\n",
       "      <td>6.237034</td>\n",
       "      <td>6.063484</td>\n",
       "      <td>10.129528</td>\n",
       "      <td>11.355621</td>\n",
       "      <td>0.0</td>\n",
       "      <td>10.718190</td>\n",
       "      <td>2.779008</td>\n",
       "      <td>1.785592</td>\n",
       "      <td>4.067604</td>\n",
       "      <td>12.293023</td>\n",
       "      <td>7.884439</td>\n",
       "      <td>4.783661</td>\n",
       "      <td>5.547931</td>\n",
       "      <td>2.991826</td>\n",
       "      <td>1.000000</td>\n",
       "      <td>0.581881</td>\n",
       "      <td>2.565427</td>\n",
       "      <td>10.861645</td>\n",
       "      <td>12.462622</td>\n",
       "      <td>7.164595</td>\n",
       "      <td>7.781347</td>\n",
       "      <td>13.135341</td>\n",
       "      <td>0.0</td>\n",
       "      <td>3.602540</td>\n",
       "      <td>5.498155</td>\n",
       "      <td>13.264815</td>\n",
       "      <td>11.537946</td>\n",
       "      <td>10.251411</td>\n",
       "      <td>13.105095</td>\n",
       "      <td>9.962827</td>\n",
       "      <td>9.520505</td>\n",
       "      <td>10.654171</td>\n",
       "      <td>13.311677</td>\n",
       "      <td>17.365878</td>\n",
       "      <td>11.832036</td>\n",
       "      <td>11.615363</td>\n",
       "      <td>5.516523</td>\n",
       "      <td>10.862126</td>\n",
       "      <td>8.502343</td>\n",
       "      <td>...</td>\n",
       "      <td>13.847087</td>\n",
       "      <td>11.835356</td>\n",
       "      <td>8.197777</td>\n",
       "      <td>9.922251</td>\n",
       "      <td>7.618444</td>\n",
       "      <td>8.612028</td>\n",
       "      <td>9.823506</td>\n",
       "      <td>9.317578</td>\n",
       "      <td>13.550663</td>\n",
       "      <td>9.036968</td>\n",
       "      <td>8.279518</td>\n",
       "      <td>10.367677</td>\n",
       "      <td>8.923221</td>\n",
       "      <td>7.976713</td>\n",
       "      <td>11.572857</td>\n",
       "      <td>10.472356</td>\n",
       "      <td>8.911497</td>\n",
       "      <td>9.252710</td>\n",
       "      <td>5.785935</td>\n",
       "      <td>10.001169</td>\n",
       "      <td>1.811101</td>\n",
       "      <td>8.853768</td>\n",
       "      <td>12.163970</td>\n",
       "      <td>10.444093</td>\n",
       "      <td>10.557167</td>\n",
       "      <td>10.414051</td>\n",
       "      <td>9.082413</td>\n",
       "      <td>10.858020</td>\n",
       "      <td>11.613499</td>\n",
       "      <td>11.873836</td>\n",
       "      <td>7.771054</td>\n",
       "      <td>11.105431</td>\n",
       "      <td>11.318243</td>\n",
       "      <td>9.207495</td>\n",
       "      <td>11.811632</td>\n",
       "      <td>13.715361</td>\n",
       "      <td>11.675653</td>\n",
       "      <td>12.813320</td>\n",
       "      <td>11.205836</td>\n",
       "      <td>5.254133</td>\n",
       "    </tr>\n",
       "  </tbody>\n",
       "</table>\n",
       "<p>8 rows × 20531 columns</p>\n",
       "</div>"
      ],
      "text/plain": [
       "           gene_0      gene_1      gene_2  ...  gene_20528  gene_20529  gene_20530\n",
       "count  801.000000  801.000000  801.000000  ...  801.000000  801.000000  801.000000\n",
       "mean     0.026642    3.010909    3.095350  ...    9.590726    5.528177    0.095411\n",
       "std      0.136850    1.200828    1.065601  ...    0.563849    2.073859    0.364529\n",
       "min      0.000000    0.000000    0.000000  ...    7.864533    0.593975    0.000000\n",
       "25%      0.000000    2.299039    2.390365  ...    9.244219    4.092385    0.000000\n",
       "50%      0.000000    3.143687    3.127006  ...    9.566511    5.218618    0.000000\n",
       "75%      0.000000    3.883484    3.802534  ...    9.917888    6.876382    0.000000\n",
       "max      1.482332    6.237034    6.063484  ...   12.813320   11.205836    5.254133\n",
       "\n",
       "[8 rows x 20531 columns]"
      ]
     },
     "execution_count": 23,
     "metadata": {
      "tags": []
     },
     "output_type": "execute_result"
    }
   ],
   "source": [
    "data.describe()"
   ]
  },
  {
   "cell_type": "code",
   "execution_count": null,
   "metadata": {
    "id": "8N7qA-tMNRZl",
    "outputId": "0c4c53c8-c220-4be3-a7b5-be97fc0891eb"
   },
   "outputs": [
    {
     "data": {
      "text/plain": [
       "BRCA    300\n",
       "KIRC    146\n",
       "LUAD    141\n",
       "PRAD    136\n",
       "COAD     78\n",
       "Name: Class, dtype: int64"
      ]
     },
     "execution_count": 21,
     "metadata": {
      "tags": []
     },
     "output_type": "execute_result"
    }
   ],
   "source": [
    "labels['Class'].value_counts()"
   ]
  },
  {
   "cell_type": "markdown",
   "metadata": {
    "id": "hx0j8ZcjNRZl"
   },
   "source": [
    "- <u>Statistical data analysis</u><br>\n",
    "certain columns like gene_0,gene/u_8,gene_9 have 75% of the values as 0, thus I feel the column might have outliers <br>\n",
    "the labels are concentrated in BRCA  and evenly distributed in KIRC,LUAD,PRAD. The category COAD has the least observations.<br>\n",
    "\n"
   ]
  },
  {
   "cell_type": "markdown",
   "metadata": {
    "id": "egKmLq81NRZl"
   },
   "source": [
    "- <u> Correlation </u> <br>\n",
    "our data has 801 samples and 20531 gene information in the columns, it is important we discover and quantify the degree to which variables in your dataset are dependent upon each other.<br>\n",
    "we need to know them, because these correlations can have an affect on the machine learning algorithms.<br>\n",
    "also we have a huge number of columns but only 801 samples to train a  model in this scenario can lead to under fitting <br>\n",
    "if we can find any correlation between the variables then we can use only one of them, and thus reduce the number of columns while training the model. <br>"
   ]
  },
  {
   "cell_type": "code",
   "execution_count": null,
   "metadata": {
    "id": "FTDYA2UJNRZl",
    "outputId": "4528dd66-b68c-4420-d576-203591d3751e"
   },
   "outputs": [
    {
     "data": {
      "text/html": [
       "<div>\n",
       "<style scoped>\n",
       "    .dataframe tbody tr th:only-of-type {\n",
       "        vertical-align: middle;\n",
       "    }\n",
       "\n",
       "    .dataframe tbody tr th {\n",
       "        vertical-align: top;\n",
       "    }\n",
       "\n",
       "    .dataframe thead th {\n",
       "        text-align: right;\n",
       "    }\n",
       "</style>\n",
       "<table border=\"1\" class=\"dataframe\">\n",
       "  <thead>\n",
       "    <tr style=\"text-align: right;\">\n",
       "      <th></th>\n",
       "      <th>gene_0</th>\n",
       "      <th>gene_1</th>\n",
       "      <th>gene_2</th>\n",
       "      <th>gene_3</th>\n",
       "      <th>gene_4</th>\n",
       "      <th>gene_5</th>\n",
       "      <th>gene_6</th>\n",
       "      <th>gene_7</th>\n",
       "      <th>gene_8</th>\n",
       "      <th>gene_9</th>\n",
       "      <th>...</th>\n",
       "      <th>gene_20521</th>\n",
       "      <th>gene_20522</th>\n",
       "      <th>gene_20523</th>\n",
       "      <th>gene_20524</th>\n",
       "      <th>gene_20525</th>\n",
       "      <th>gene_20526</th>\n",
       "      <th>gene_20527</th>\n",
       "      <th>gene_20528</th>\n",
       "      <th>gene_20529</th>\n",
       "      <th>gene_20530</th>\n",
       "    </tr>\n",
       "  </thead>\n",
       "  <tbody>\n",
       "    <tr>\n",
       "      <th>gene_0</th>\n",
       "      <td>1.000000</td>\n",
       "      <td>0.024111</td>\n",
       "      <td>0.027117</td>\n",
       "      <td>-0.080269</td>\n",
       "      <td>-0.028969</td>\n",
       "      <td>NaN</td>\n",
       "      <td>0.051855</td>\n",
       "      <td>-0.053647</td>\n",
       "      <td>-0.024423</td>\n",
       "      <td>-0.012785</td>\n",
       "      <td>...</td>\n",
       "      <td>-0.021109</td>\n",
       "      <td>-0.064341</td>\n",
       "      <td>-0.013874</td>\n",
       "      <td>-0.008384</td>\n",
       "      <td>-0.036623</td>\n",
       "      <td>0.034314</td>\n",
       "      <td>-0.000368</td>\n",
       "      <td>-0.049142</td>\n",
       "      <td>0.041554</td>\n",
       "      <td>-0.027767</td>\n",
       "    </tr>\n",
       "    <tr>\n",
       "      <th>gene_1</th>\n",
       "      <td>0.024111</td>\n",
       "      <td>1.000000</td>\n",
       "      <td>0.533902</td>\n",
       "      <td>0.148348</td>\n",
       "      <td>-0.158555</td>\n",
       "      <td>NaN</td>\n",
       "      <td>0.202855</td>\n",
       "      <td>0.177154</td>\n",
       "      <td>0.023411</td>\n",
       "      <td>0.006425</td>\n",
       "      <td>...</td>\n",
       "      <td>0.169172</td>\n",
       "      <td>0.190145</td>\n",
       "      <td>0.313725</td>\n",
       "      <td>-0.007284</td>\n",
       "      <td>0.123178</td>\n",
       "      <td>-0.255093</td>\n",
       "      <td>0.303771</td>\n",
       "      <td>0.247959</td>\n",
       "      <td>-0.067474</td>\n",
       "      <td>0.034348</td>\n",
       "    </tr>\n",
       "    <tr>\n",
       "      <th>gene_2</th>\n",
       "      <td>0.027117</td>\n",
       "      <td>0.533902</td>\n",
       "      <td>1.000000</td>\n",
       "      <td>0.075988</td>\n",
       "      <td>-0.125376</td>\n",
       "      <td>NaN</td>\n",
       "      <td>0.334900</td>\n",
       "      <td>0.136246</td>\n",
       "      <td>0.013228</td>\n",
       "      <td>-0.045725</td>\n",
       "      <td>...</td>\n",
       "      <td>-0.021067</td>\n",
       "      <td>0.036411</td>\n",
       "      <td>0.242255</td>\n",
       "      <td>0.018755</td>\n",
       "      <td>-0.054584</td>\n",
       "      <td>-0.160446</td>\n",
       "      <td>0.163181</td>\n",
       "      <td>0.066709</td>\n",
       "      <td>0.011765</td>\n",
       "      <td>0.075604</td>\n",
       "    </tr>\n",
       "    <tr>\n",
       "      <th>gene_3</th>\n",
       "      <td>-0.080269</td>\n",
       "      <td>0.148348</td>\n",
       "      <td>0.075988</td>\n",
       "      <td>1.000000</td>\n",
       "      <td>0.153666</td>\n",
       "      <td>NaN</td>\n",
       "      <td>-0.007905</td>\n",
       "      <td>-0.084841</td>\n",
       "      <td>-0.033180</td>\n",
       "      <td>0.002434</td>\n",
       "      <td>...</td>\n",
       "      <td>-0.186729</td>\n",
       "      <td>-0.014547</td>\n",
       "      <td>-0.011733</td>\n",
       "      <td>-0.242855</td>\n",
       "      <td>-0.240551</td>\n",
       "      <td>0.092787</td>\n",
       "      <td>-0.000379</td>\n",
       "      <td>0.016733</td>\n",
       "      <td>-0.135829</td>\n",
       "      <td>0.023476</td>\n",
       "    </tr>\n",
       "    <tr>\n",
       "      <th>gene_4</th>\n",
       "      <td>-0.028969</td>\n",
       "      <td>-0.158555</td>\n",
       "      <td>-0.125376</td>\n",
       "      <td>0.153666</td>\n",
       "      <td>1.000000</td>\n",
       "      <td>NaN</td>\n",
       "      <td>-0.044347</td>\n",
       "      <td>-0.156698</td>\n",
       "      <td>0.082124</td>\n",
       "      <td>0.098267</td>\n",
       "      <td>...</td>\n",
       "      <td>-0.499208</td>\n",
       "      <td>-0.167764</td>\n",
       "      <td>-0.283480</td>\n",
       "      <td>0.179406</td>\n",
       "      <td>-0.367551</td>\n",
       "      <td>0.011739</td>\n",
       "      <td>-0.434604</td>\n",
       "      <td>-0.108036</td>\n",
       "      <td>-0.007229</td>\n",
       "      <td>0.062752</td>\n",
       "    </tr>\n",
       "    <tr>\n",
       "      <th>gene_5</th>\n",
       "      <td>NaN</td>\n",
       "      <td>NaN</td>\n",
       "      <td>NaN</td>\n",
       "      <td>NaN</td>\n",
       "      <td>NaN</td>\n",
       "      <td>NaN</td>\n",
       "      <td>NaN</td>\n",
       "      <td>NaN</td>\n",
       "      <td>NaN</td>\n",
       "      <td>NaN</td>\n",
       "      <td>...</td>\n",
       "      <td>NaN</td>\n",
       "      <td>NaN</td>\n",
       "      <td>NaN</td>\n",
       "      <td>NaN</td>\n",
       "      <td>NaN</td>\n",
       "      <td>NaN</td>\n",
       "      <td>NaN</td>\n",
       "      <td>NaN</td>\n",
       "      <td>NaN</td>\n",
       "      <td>NaN</td>\n",
       "    </tr>\n",
       "    <tr>\n",
       "      <th>gene_6</th>\n",
       "      <td>0.051855</td>\n",
       "      <td>0.202855</td>\n",
       "      <td>0.334900</td>\n",
       "      <td>-0.007905</td>\n",
       "      <td>-0.044347</td>\n",
       "      <td>NaN</td>\n",
       "      <td>1.000000</td>\n",
       "      <td>0.299892</td>\n",
       "      <td>-0.013193</td>\n",
       "      <td>0.003622</td>\n",
       "      <td>...</td>\n",
       "      <td>-0.145839</td>\n",
       "      <td>-0.134368</td>\n",
       "      <td>0.240994</td>\n",
       "      <td>0.129158</td>\n",
       "      <td>-0.275474</td>\n",
       "      <td>0.034257</td>\n",
       "      <td>0.106230</td>\n",
       "      <td>-0.135111</td>\n",
       "      <td>0.039222</td>\n",
       "      <td>-0.045404</td>\n",
       "    </tr>\n",
       "    <tr>\n",
       "      <th>gene_7</th>\n",
       "      <td>-0.053647</td>\n",
       "      <td>0.177154</td>\n",
       "      <td>0.136246</td>\n",
       "      <td>-0.084841</td>\n",
       "      <td>-0.156698</td>\n",
       "      <td>NaN</td>\n",
       "      <td>0.299892</td>\n",
       "      <td>1.000000</td>\n",
       "      <td>-0.004223</td>\n",
       "      <td>-0.013531</td>\n",
       "      <td>...</td>\n",
       "      <td>0.187219</td>\n",
       "      <td>0.087242</td>\n",
       "      <td>0.222446</td>\n",
       "      <td>-0.043254</td>\n",
       "      <td>0.048521</td>\n",
       "      <td>-0.087913</td>\n",
       "      <td>0.159428</td>\n",
       "      <td>0.083252</td>\n",
       "      <td>-0.010877</td>\n",
       "      <td>0.006091</td>\n",
       "    </tr>\n",
       "    <tr>\n",
       "      <th>gene_8</th>\n",
       "      <td>-0.024423</td>\n",
       "      <td>0.023411</td>\n",
       "      <td>0.013228</td>\n",
       "      <td>-0.033180</td>\n",
       "      <td>0.082124</td>\n",
       "      <td>NaN</td>\n",
       "      <td>-0.013193</td>\n",
       "      <td>-0.004223</td>\n",
       "      <td>1.000000</td>\n",
       "      <td>-0.008229</td>\n",
       "      <td>...</td>\n",
       "      <td>-0.061266</td>\n",
       "      <td>-0.058876</td>\n",
       "      <td>-0.010901</td>\n",
       "      <td>0.048249</td>\n",
       "      <td>0.012176</td>\n",
       "      <td>-0.023098</td>\n",
       "      <td>-0.064293</td>\n",
       "      <td>-0.054051</td>\n",
       "      <td>-0.002941</td>\n",
       "      <td>0.253737</td>\n",
       "    </tr>\n",
       "    <tr>\n",
       "      <th>gene_9</th>\n",
       "      <td>-0.012785</td>\n",
       "      <td>0.006425</td>\n",
       "      <td>-0.045725</td>\n",
       "      <td>0.002434</td>\n",
       "      <td>0.098267</td>\n",
       "      <td>NaN</td>\n",
       "      <td>0.003622</td>\n",
       "      <td>-0.013531</td>\n",
       "      <td>-0.008229</td>\n",
       "      <td>1.000000</td>\n",
       "      <td>...</td>\n",
       "      <td>-0.004787</td>\n",
       "      <td>0.008138</td>\n",
       "      <td>-0.016105</td>\n",
       "      <td>0.078644</td>\n",
       "      <td>0.074866</td>\n",
       "      <td>0.045096</td>\n",
       "      <td>-0.002198</td>\n",
       "      <td>0.073503</td>\n",
       "      <td>0.000634</td>\n",
       "      <td>-0.017189</td>\n",
       "    </tr>\n",
       "    <tr>\n",
       "      <th>gene_10</th>\n",
       "      <td>-0.015423</td>\n",
       "      <td>-0.022650</td>\n",
       "      <td>0.011893</td>\n",
       "      <td>-0.030119</td>\n",
       "      <td>-0.042986</td>\n",
       "      <td>NaN</td>\n",
       "      <td>0.116935</td>\n",
       "      <td>0.064227</td>\n",
       "      <td>0.303346</td>\n",
       "      <td>0.007730</td>\n",
       "      <td>...</td>\n",
       "      <td>-0.023832</td>\n",
       "      <td>-0.157786</td>\n",
       "      <td>0.015239</td>\n",
       "      <td>0.017583</td>\n",
       "      <td>-0.018600</td>\n",
       "      <td>0.101959</td>\n",
       "      <td>0.025701</td>\n",
       "      <td>-0.103568</td>\n",
       "      <td>0.116519</td>\n",
       "      <td>0.134580</td>\n",
       "    </tr>\n",
       "    <tr>\n",
       "      <th>gene_11</th>\n",
       "      <td>0.023707</td>\n",
       "      <td>0.104157</td>\n",
       "      <td>0.072153</td>\n",
       "      <td>0.073892</td>\n",
       "      <td>0.010540</td>\n",
       "      <td>NaN</td>\n",
       "      <td>0.357394</td>\n",
       "      <td>0.119823</td>\n",
       "      <td>0.043320</td>\n",
       "      <td>-0.010972</td>\n",
       "      <td>...</td>\n",
       "      <td>-0.125158</td>\n",
       "      <td>-0.079450</td>\n",
       "      <td>0.061686</td>\n",
       "      <td>0.016395</td>\n",
       "      <td>-0.183784</td>\n",
       "      <td>0.118391</td>\n",
       "      <td>0.048464</td>\n",
       "      <td>-0.082350</td>\n",
       "      <td>0.018549</td>\n",
       "      <td>0.077569</td>\n",
       "    </tr>\n",
       "    <tr>\n",
       "      <th>gene_12</th>\n",
       "      <td>-0.047953</td>\n",
       "      <td>-0.067996</td>\n",
       "      <td>-0.026349</td>\n",
       "      <td>0.015476</td>\n",
       "      <td>0.123706</td>\n",
       "      <td>NaN</td>\n",
       "      <td>-0.104883</td>\n",
       "      <td>-0.067363</td>\n",
       "      <td>-0.041551</td>\n",
       "      <td>-0.017162</td>\n",
       "      <td>...</td>\n",
       "      <td>-0.036809</td>\n",
       "      <td>0.007894</td>\n",
       "      <td>-0.033371</td>\n",
       "      <td>-0.003422</td>\n",
       "      <td>-0.017991</td>\n",
       "      <td>-0.087092</td>\n",
       "      <td>-0.132298</td>\n",
       "      <td>-0.009594</td>\n",
       "      <td>0.020075</td>\n",
       "      <td>0.050394</td>\n",
       "    </tr>\n",
       "    <tr>\n",
       "      <th>gene_13</th>\n",
       "      <td>0.003439</td>\n",
       "      <td>-0.021043</td>\n",
       "      <td>0.027961</td>\n",
       "      <td>-0.099113</td>\n",
       "      <td>-0.012898</td>\n",
       "      <td>NaN</td>\n",
       "      <td>0.150346</td>\n",
       "      <td>0.048396</td>\n",
       "      <td>0.090007</td>\n",
       "      <td>0.007474</td>\n",
       "      <td>...</td>\n",
       "      <td>-0.055811</td>\n",
       "      <td>-0.014738</td>\n",
       "      <td>0.016334</td>\n",
       "      <td>0.171350</td>\n",
       "      <td>0.021784</td>\n",
       "      <td>-0.035057</td>\n",
       "      <td>0.041388</td>\n",
       "      <td>0.018248</td>\n",
       "      <td>0.086725</td>\n",
       "      <td>0.037715</td>\n",
       "    </tr>\n",
       "    <tr>\n",
       "      <th>gene_14</th>\n",
       "      <td>-0.049128</td>\n",
       "      <td>0.043385</td>\n",
       "      <td>-0.034251</td>\n",
       "      <td>-0.072387</td>\n",
       "      <td>-0.183428</td>\n",
       "      <td>NaN</td>\n",
       "      <td>0.067880</td>\n",
       "      <td>0.144511</td>\n",
       "      <td>0.035381</td>\n",
       "      <td>-0.021398</td>\n",
       "      <td>...</td>\n",
       "      <td>0.236226</td>\n",
       "      <td>0.079944</td>\n",
       "      <td>0.185758</td>\n",
       "      <td>-0.073919</td>\n",
       "      <td>0.181956</td>\n",
       "      <td>-0.054049</td>\n",
       "      <td>0.095642</td>\n",
       "      <td>0.058854</td>\n",
       "      <td>-0.036627</td>\n",
       "      <td>0.024684</td>\n",
       "    </tr>\n",
       "    <tr>\n",
       "      <th>gene_15</th>\n",
       "      <td>0.112643</td>\n",
       "      <td>0.002599</td>\n",
       "      <td>-0.003628</td>\n",
       "      <td>-0.034118</td>\n",
       "      <td>0.066888</td>\n",
       "      <td>NaN</td>\n",
       "      <td>0.088177</td>\n",
       "      <td>0.048061</td>\n",
       "      <td>0.145718</td>\n",
       "      <td>-0.005911</td>\n",
       "      <td>...</td>\n",
       "      <td>-0.033503</td>\n",
       "      <td>-0.042740</td>\n",
       "      <td>-0.087718</td>\n",
       "      <td>-0.067042</td>\n",
       "      <td>-0.015454</td>\n",
       "      <td>0.027374</td>\n",
       "      <td>-0.036258</td>\n",
       "      <td>-0.029429</td>\n",
       "      <td>-0.031079</td>\n",
       "      <td>0.166922</td>\n",
       "    </tr>\n",
       "    <tr>\n",
       "      <th>gene_16</th>\n",
       "      <td>-0.015204</td>\n",
       "      <td>0.018327</td>\n",
       "      <td>-0.038383</td>\n",
       "      <td>0.030999</td>\n",
       "      <td>0.018913</td>\n",
       "      <td>NaN</td>\n",
       "      <td>0.014214</td>\n",
       "      <td>-0.069596</td>\n",
       "      <td>-0.009786</td>\n",
       "      <td>-0.005123</td>\n",
       "      <td>...</td>\n",
       "      <td>-0.012012</td>\n",
       "      <td>-0.027533</td>\n",
       "      <td>0.048562</td>\n",
       "      <td>0.057892</td>\n",
       "      <td>0.043852</td>\n",
       "      <td>-0.022500</td>\n",
       "      <td>0.030465</td>\n",
       "      <td>0.020284</td>\n",
       "      <td>-0.013994</td>\n",
       "      <td>-0.020441</td>\n",
       "    </tr>\n",
       "    <tr>\n",
       "      <th>gene_17</th>\n",
       "      <td>-0.022555</td>\n",
       "      <td>0.032818</td>\n",
       "      <td>0.074630</td>\n",
       "      <td>-0.009123</td>\n",
       "      <td>-0.025143</td>\n",
       "      <td>NaN</td>\n",
       "      <td>0.044432</td>\n",
       "      <td>-0.006846</td>\n",
       "      <td>0.010298</td>\n",
       "      <td>-0.012128</td>\n",
       "      <td>...</td>\n",
       "      <td>0.004596</td>\n",
       "      <td>-0.014405</td>\n",
       "      <td>0.021396</td>\n",
       "      <td>0.072333</td>\n",
       "      <td>0.061245</td>\n",
       "      <td>-0.060869</td>\n",
       "      <td>0.002327</td>\n",
       "      <td>-0.016136</td>\n",
       "      <td>-0.011906</td>\n",
       "      <td>-0.020967</td>\n",
       "    </tr>\n",
       "    <tr>\n",
       "      <th>gene_18</th>\n",
       "      <td>0.053416</td>\n",
       "      <td>-0.197496</td>\n",
       "      <td>-0.296195</td>\n",
       "      <td>-0.304591</td>\n",
       "      <td>-0.330383</td>\n",
       "      <td>NaN</td>\n",
       "      <td>-0.162224</td>\n",
       "      <td>0.148360</td>\n",
       "      <td>0.038073</td>\n",
       "      <td>-0.012278</td>\n",
       "      <td>...</td>\n",
       "      <td>0.353828</td>\n",
       "      <td>-0.098591</td>\n",
       "      <td>0.017716</td>\n",
       "      <td>-0.250703</td>\n",
       "      <td>0.310319</td>\n",
       "      <td>0.013719</td>\n",
       "      <td>0.035786</td>\n",
       "      <td>-0.096077</td>\n",
       "      <td>-0.063964</td>\n",
       "      <td>0.049334</td>\n",
       "    </tr>\n",
       "    <tr>\n",
       "      <th>gene_19</th>\n",
       "      <td>-0.028677</td>\n",
       "      <td>0.158453</td>\n",
       "      <td>-0.089186</td>\n",
       "      <td>-0.144578</td>\n",
       "      <td>-0.298012</td>\n",
       "      <td>NaN</td>\n",
       "      <td>-0.196355</td>\n",
       "      <td>0.092340</td>\n",
       "      <td>0.010132</td>\n",
       "      <td>0.005289</td>\n",
       "      <td>...</td>\n",
       "      <td>0.508946</td>\n",
       "      <td>0.359583</td>\n",
       "      <td>0.216758</td>\n",
       "      <td>0.093669</td>\n",
       "      <td>0.437214</td>\n",
       "      <td>-0.122421</td>\n",
       "      <td>0.386326</td>\n",
       "      <td>0.303963</td>\n",
       "      <td>-0.053075</td>\n",
       "      <td>0.043531</td>\n",
       "    </tr>\n",
       "    <tr>\n",
       "      <th>gene_20</th>\n",
       "      <td>0.012050</td>\n",
       "      <td>0.425389</td>\n",
       "      <td>0.268256</td>\n",
       "      <td>0.002691</td>\n",
       "      <td>-0.189269</td>\n",
       "      <td>NaN</td>\n",
       "      <td>0.434181</td>\n",
       "      <td>0.342080</td>\n",
       "      <td>-0.002220</td>\n",
       "      <td>0.001167</td>\n",
       "      <td>...</td>\n",
       "      <td>0.135353</td>\n",
       "      <td>0.151372</td>\n",
       "      <td>0.336621</td>\n",
       "      <td>0.123217</td>\n",
       "      <td>0.107538</td>\n",
       "      <td>-0.119798</td>\n",
       "      <td>0.216503</td>\n",
       "      <td>0.175688</td>\n",
       "      <td>-0.015597</td>\n",
       "      <td>0.024816</td>\n",
       "    </tr>\n",
       "    <tr>\n",
       "      <th>gene_21</th>\n",
       "      <td>0.022749</td>\n",
       "      <td>0.201635</td>\n",
       "      <td>0.088123</td>\n",
       "      <td>-0.053605</td>\n",
       "      <td>-0.239173</td>\n",
       "      <td>NaN</td>\n",
       "      <td>-0.046829</td>\n",
       "      <td>0.074657</td>\n",
       "      <td>-0.087726</td>\n",
       "      <td>-0.020145</td>\n",
       "      <td>...</td>\n",
       "      <td>0.341713</td>\n",
       "      <td>0.285325</td>\n",
       "      <td>0.234612</td>\n",
       "      <td>0.074445</td>\n",
       "      <td>0.327967</td>\n",
       "      <td>-0.187338</td>\n",
       "      <td>0.274684</td>\n",
       "      <td>0.267592</td>\n",
       "      <td>0.020628</td>\n",
       "      <td>-0.054278</td>\n",
       "    </tr>\n",
       "    <tr>\n",
       "      <th>gene_22</th>\n",
       "      <td>0.016719</td>\n",
       "      <td>-0.351712</td>\n",
       "      <td>-0.214574</td>\n",
       "      <td>-0.217835</td>\n",
       "      <td>0.163393</td>\n",
       "      <td>NaN</td>\n",
       "      <td>0.083092</td>\n",
       "      <td>-0.080869</td>\n",
       "      <td>0.098183</td>\n",
       "      <td>-0.029397</td>\n",
       "      <td>...</td>\n",
       "      <td>-0.345236</td>\n",
       "      <td>-0.325337</td>\n",
       "      <td>-0.231370</td>\n",
       "      <td>0.021974</td>\n",
       "      <td>-0.288753</td>\n",
       "      <td>0.252000</td>\n",
       "      <td>-0.353726</td>\n",
       "      <td>-0.467430</td>\n",
       "      <td>0.034023</td>\n",
       "      <td>-0.000023</td>\n",
       "    </tr>\n",
       "    <tr>\n",
       "      <th>gene_23</th>\n",
       "      <td>NaN</td>\n",
       "      <td>NaN</td>\n",
       "      <td>NaN</td>\n",
       "      <td>NaN</td>\n",
       "      <td>NaN</td>\n",
       "      <td>NaN</td>\n",
       "      <td>NaN</td>\n",
       "      <td>NaN</td>\n",
       "      <td>NaN</td>\n",
       "      <td>NaN</td>\n",
       "      <td>...</td>\n",
       "      <td>NaN</td>\n",
       "      <td>NaN</td>\n",
       "      <td>NaN</td>\n",
       "      <td>NaN</td>\n",
       "      <td>NaN</td>\n",
       "      <td>NaN</td>\n",
       "      <td>NaN</td>\n",
       "      <td>NaN</td>\n",
       "      <td>NaN</td>\n",
       "      <td>NaN</td>\n",
       "    </tr>\n",
       "    <tr>\n",
       "      <th>gene_24</th>\n",
       "      <td>-0.002587</td>\n",
       "      <td>0.105269</td>\n",
       "      <td>0.109724</td>\n",
       "      <td>0.012036</td>\n",
       "      <td>-0.041371</td>\n",
       "      <td>NaN</td>\n",
       "      <td>0.089433</td>\n",
       "      <td>0.057651</td>\n",
       "      <td>-0.008535</td>\n",
       "      <td>-0.016836</td>\n",
       "      <td>...</td>\n",
       "      <td>0.068981</td>\n",
       "      <td>0.036977</td>\n",
       "      <td>0.090001</td>\n",
       "      <td>0.054854</td>\n",
       "      <td>0.019836</td>\n",
       "      <td>-0.103465</td>\n",
       "      <td>0.090744</td>\n",
       "      <td>0.014058</td>\n",
       "      <td>0.060473</td>\n",
       "      <td>-0.053400</td>\n",
       "    </tr>\n",
       "    <tr>\n",
       "      <th>gene_25</th>\n",
       "      <td>0.043155</td>\n",
       "      <td>0.090354</td>\n",
       "      <td>0.045756</td>\n",
       "      <td>-0.140240</td>\n",
       "      <td>-0.234915</td>\n",
       "      <td>NaN</td>\n",
       "      <td>0.124883</td>\n",
       "      <td>0.173573</td>\n",
       "      <td>0.017874</td>\n",
       "      <td>-0.025814</td>\n",
       "      <td>...</td>\n",
       "      <td>0.177473</td>\n",
       "      <td>0.017834</td>\n",
       "      <td>0.100739</td>\n",
       "      <td>-0.074377</td>\n",
       "      <td>0.227479</td>\n",
       "      <td>-0.122952</td>\n",
       "      <td>0.112351</td>\n",
       "      <td>0.037067</td>\n",
       "      <td>-0.034731</td>\n",
       "      <td>0.033524</td>\n",
       "    </tr>\n",
       "    <tr>\n",
       "      <th>gene_26</th>\n",
       "      <td>-0.021093</td>\n",
       "      <td>0.091957</td>\n",
       "      <td>0.204169</td>\n",
       "      <td>-0.041344</td>\n",
       "      <td>0.105938</td>\n",
       "      <td>NaN</td>\n",
       "      <td>0.029487</td>\n",
       "      <td>-0.136534</td>\n",
       "      <td>0.092312</td>\n",
       "      <td>0.015989</td>\n",
       "      <td>...</td>\n",
       "      <td>-0.219748</td>\n",
       "      <td>-0.089200</td>\n",
       "      <td>-0.131558</td>\n",
       "      <td>0.302964</td>\n",
       "      <td>0.008901</td>\n",
       "      <td>0.002443</td>\n",
       "      <td>-0.163175</td>\n",
       "      <td>0.002328</td>\n",
       "      <td>0.082460</td>\n",
       "      <td>0.089722</td>\n",
       "    </tr>\n",
       "    <tr>\n",
       "      <th>gene_27</th>\n",
       "      <td>0.009520</td>\n",
       "      <td>-0.029724</td>\n",
       "      <td>0.174831</td>\n",
       "      <td>0.116481</td>\n",
       "      <td>0.025814</td>\n",
       "      <td>NaN</td>\n",
       "      <td>0.311429</td>\n",
       "      <td>-0.033993</td>\n",
       "      <td>0.024369</td>\n",
       "      <td>-0.056539</td>\n",
       "      <td>...</td>\n",
       "      <td>-0.253491</td>\n",
       "      <td>-0.320218</td>\n",
       "      <td>-0.065141</td>\n",
       "      <td>-0.213748</td>\n",
       "      <td>-0.467710</td>\n",
       "      <td>0.172471</td>\n",
       "      <td>0.022092</td>\n",
       "      <td>-0.444707</td>\n",
       "      <td>-0.092101</td>\n",
       "      <td>0.021013</td>\n",
       "    </tr>\n",
       "    <tr>\n",
       "      <th>gene_28</th>\n",
       "      <td>0.024032</td>\n",
       "      <td>-0.061240</td>\n",
       "      <td>0.044649</td>\n",
       "      <td>-0.414109</td>\n",
       "      <td>-0.153190</td>\n",
       "      <td>NaN</td>\n",
       "      <td>0.206173</td>\n",
       "      <td>0.086099</td>\n",
       "      <td>-0.029675</td>\n",
       "      <td>-0.067716</td>\n",
       "      <td>...</td>\n",
       "      <td>0.188057</td>\n",
       "      <td>0.044159</td>\n",
       "      <td>0.187569</td>\n",
       "      <td>0.328582</td>\n",
       "      <td>0.127254</td>\n",
       "      <td>-0.241440</td>\n",
       "      <td>0.089423</td>\n",
       "      <td>-0.007626</td>\n",
       "      <td>0.229949</td>\n",
       "      <td>-0.045856</td>\n",
       "    </tr>\n",
       "    <tr>\n",
       "      <th>gene_29</th>\n",
       "      <td>-0.019638</td>\n",
       "      <td>-0.222084</td>\n",
       "      <td>-0.089595</td>\n",
       "      <td>-0.255495</td>\n",
       "      <td>0.231577</td>\n",
       "      <td>NaN</td>\n",
       "      <td>0.200965</td>\n",
       "      <td>-0.007455</td>\n",
       "      <td>0.084001</td>\n",
       "      <td>0.001827</td>\n",
       "      <td>...</td>\n",
       "      <td>-0.244783</td>\n",
       "      <td>-0.094621</td>\n",
       "      <td>-0.120752</td>\n",
       "      <td>0.360924</td>\n",
       "      <td>-0.163609</td>\n",
       "      <td>0.131443</td>\n",
       "      <td>-0.250054</td>\n",
       "      <td>-0.146059</td>\n",
       "      <td>0.231206</td>\n",
       "      <td>0.113169</td>\n",
       "    </tr>\n",
       "    <tr>\n",
       "      <th>...</th>\n",
       "      <td>...</td>\n",
       "      <td>...</td>\n",
       "      <td>...</td>\n",
       "      <td>...</td>\n",
       "      <td>...</td>\n",
       "      <td>...</td>\n",
       "      <td>...</td>\n",
       "      <td>...</td>\n",
       "      <td>...</td>\n",
       "      <td>...</td>\n",
       "      <td>...</td>\n",
       "      <td>...</td>\n",
       "      <td>...</td>\n",
       "      <td>...</td>\n",
       "      <td>...</td>\n",
       "      <td>...</td>\n",
       "      <td>...</td>\n",
       "      <td>...</td>\n",
       "      <td>...</td>\n",
       "      <td>...</td>\n",
       "      <td>...</td>\n",
       "    </tr>\n",
       "    <tr>\n",
       "      <th>gene_20501</th>\n",
       "      <td>-0.012278</td>\n",
       "      <td>0.115230</td>\n",
       "      <td>-0.126086</td>\n",
       "      <td>0.002654</td>\n",
       "      <td>-0.188557</td>\n",
       "      <td>NaN</td>\n",
       "      <td>-0.076866</td>\n",
       "      <td>0.090785</td>\n",
       "      <td>-0.009971</td>\n",
       "      <td>0.005117</td>\n",
       "      <td>...</td>\n",
       "      <td>0.313680</td>\n",
       "      <td>0.317801</td>\n",
       "      <td>0.203011</td>\n",
       "      <td>0.026837</td>\n",
       "      <td>0.272550</td>\n",
       "      <td>0.011801</td>\n",
       "      <td>0.305298</td>\n",
       "      <td>0.317958</td>\n",
       "      <td>0.015979</td>\n",
       "      <td>0.023147</td>\n",
       "    </tr>\n",
       "    <tr>\n",
       "      <th>gene_20502</th>\n",
       "      <td>0.032517</td>\n",
       "      <td>-0.024355</td>\n",
       "      <td>-0.032083</td>\n",
       "      <td>-0.131281</td>\n",
       "      <td>0.059342</td>\n",
       "      <td>NaN</td>\n",
       "      <td>0.359945</td>\n",
       "      <td>0.121485</td>\n",
       "      <td>0.078336</td>\n",
       "      <td>0.017037</td>\n",
       "      <td>...</td>\n",
       "      <td>0.016009</td>\n",
       "      <td>0.002636</td>\n",
       "      <td>0.023561</td>\n",
       "      <td>0.327041</td>\n",
       "      <td>0.007056</td>\n",
       "      <td>-0.035163</td>\n",
       "      <td>-0.068830</td>\n",
       "      <td>0.097859</td>\n",
       "      <td>0.141166</td>\n",
       "      <td>-0.021375</td>\n",
       "    </tr>\n",
       "    <tr>\n",
       "      <th>gene_20503</th>\n",
       "      <td>-0.043729</td>\n",
       "      <td>0.214276</td>\n",
       "      <td>0.089253</td>\n",
       "      <td>-0.035114</td>\n",
       "      <td>-0.144030</td>\n",
       "      <td>NaN</td>\n",
       "      <td>0.146439</td>\n",
       "      <td>0.084890</td>\n",
       "      <td>-0.064055</td>\n",
       "      <td>0.087661</td>\n",
       "      <td>...</td>\n",
       "      <td>0.247174</td>\n",
       "      <td>0.412546</td>\n",
       "      <td>0.300206</td>\n",
       "      <td>0.246652</td>\n",
       "      <td>0.151642</td>\n",
       "      <td>-0.237279</td>\n",
       "      <td>0.256753</td>\n",
       "      <td>0.298272</td>\n",
       "      <td>0.062398</td>\n",
       "      <td>-0.039624</td>\n",
       "    </tr>\n",
       "    <tr>\n",
       "      <th>gene_20504</th>\n",
       "      <td>-0.019923</td>\n",
       "      <td>0.289098</td>\n",
       "      <td>0.286536</td>\n",
       "      <td>-0.130717</td>\n",
       "      <td>-0.348514</td>\n",
       "      <td>NaN</td>\n",
       "      <td>0.116886</td>\n",
       "      <td>0.094620</td>\n",
       "      <td>-0.022781</td>\n",
       "      <td>-0.067223</td>\n",
       "      <td>...</td>\n",
       "      <td>0.351310</td>\n",
       "      <td>0.175217</td>\n",
       "      <td>0.283425</td>\n",
       "      <td>0.154691</td>\n",
       "      <td>0.408301</td>\n",
       "      <td>-0.233568</td>\n",
       "      <td>0.245249</td>\n",
       "      <td>0.225886</td>\n",
       "      <td>0.153160</td>\n",
       "      <td>-0.003099</td>\n",
       "    </tr>\n",
       "    <tr>\n",
       "      <th>gene_20505</th>\n",
       "      <td>-0.020285</td>\n",
       "      <td>0.378590</td>\n",
       "      <td>0.099849</td>\n",
       "      <td>0.079667</td>\n",
       "      <td>-0.135087</td>\n",
       "      <td>NaN</td>\n",
       "      <td>0.078800</td>\n",
       "      <td>0.224611</td>\n",
       "      <td>-0.034471</td>\n",
       "      <td>-0.009354</td>\n",
       "      <td>...</td>\n",
       "      <td>0.374566</td>\n",
       "      <td>0.495022</td>\n",
       "      <td>0.380432</td>\n",
       "      <td>-0.018372</td>\n",
       "      <td>0.165359</td>\n",
       "      <td>-0.214655</td>\n",
       "      <td>0.388897</td>\n",
       "      <td>0.316828</td>\n",
       "      <td>-0.033070</td>\n",
       "      <td>-0.039154</td>\n",
       "    </tr>\n",
       "    <tr>\n",
       "      <th>gene_20506</th>\n",
       "      <td>0.037919</td>\n",
       "      <td>0.136556</td>\n",
       "      <td>0.152843</td>\n",
       "      <td>-0.208362</td>\n",
       "      <td>-0.171703</td>\n",
       "      <td>NaN</td>\n",
       "      <td>0.121322</td>\n",
       "      <td>0.074074</td>\n",
       "      <td>-0.015688</td>\n",
       "      <td>-0.043483</td>\n",
       "      <td>...</td>\n",
       "      <td>0.316822</td>\n",
       "      <td>0.202260</td>\n",
       "      <td>0.251470</td>\n",
       "      <td>0.202664</td>\n",
       "      <td>0.197713</td>\n",
       "      <td>-0.275293</td>\n",
       "      <td>0.164728</td>\n",
       "      <td>0.172782</td>\n",
       "      <td>0.113183</td>\n",
       "      <td>-0.062192</td>\n",
       "    </tr>\n",
       "    <tr>\n",
       "      <th>gene_20507</th>\n",
       "      <td>0.041972</td>\n",
       "      <td>0.082728</td>\n",
       "      <td>0.103561</td>\n",
       "      <td>-0.128814</td>\n",
       "      <td>-0.241281</td>\n",
       "      <td>NaN</td>\n",
       "      <td>0.052755</td>\n",
       "      <td>0.054764</td>\n",
       "      <td>0.019770</td>\n",
       "      <td>-0.034468</td>\n",
       "      <td>...</td>\n",
       "      <td>0.046898</td>\n",
       "      <td>-0.154503</td>\n",
       "      <td>0.072978</td>\n",
       "      <td>-0.119789</td>\n",
       "      <td>0.141708</td>\n",
       "      <td>0.039916</td>\n",
       "      <td>0.079636</td>\n",
       "      <td>-0.117453</td>\n",
       "      <td>-0.001148</td>\n",
       "      <td>0.072210</td>\n",
       "    </tr>\n",
       "    <tr>\n",
       "      <th>gene_20508</th>\n",
       "      <td>0.031762</td>\n",
       "      <td>0.063760</td>\n",
       "      <td>0.074043</td>\n",
       "      <td>0.042781</td>\n",
       "      <td>-0.053948</td>\n",
       "      <td>NaN</td>\n",
       "      <td>0.077583</td>\n",
       "      <td>0.044784</td>\n",
       "      <td>0.037796</td>\n",
       "      <td>0.056067</td>\n",
       "      <td>...</td>\n",
       "      <td>0.018222</td>\n",
       "      <td>-0.102508</td>\n",
       "      <td>0.040732</td>\n",
       "      <td>-0.029903</td>\n",
       "      <td>-0.066720</td>\n",
       "      <td>0.017500</td>\n",
       "      <td>0.072976</td>\n",
       "      <td>-0.060174</td>\n",
       "      <td>0.001921</td>\n",
       "      <td>0.033641</td>\n",
       "    </tr>\n",
       "    <tr>\n",
       "      <th>gene_20509</th>\n",
       "      <td>0.036796</td>\n",
       "      <td>0.059414</td>\n",
       "      <td>0.040017</td>\n",
       "      <td>-0.011771</td>\n",
       "      <td>-0.109927</td>\n",
       "      <td>NaN</td>\n",
       "      <td>0.033605</td>\n",
       "      <td>0.118860</td>\n",
       "      <td>-0.001049</td>\n",
       "      <td>-0.030999</td>\n",
       "      <td>...</td>\n",
       "      <td>0.106432</td>\n",
       "      <td>-0.037082</td>\n",
       "      <td>0.105425</td>\n",
       "      <td>-0.013691</td>\n",
       "      <td>0.008954</td>\n",
       "      <td>-0.035708</td>\n",
       "      <td>0.062410</td>\n",
       "      <td>0.002252</td>\n",
       "      <td>-0.042736</td>\n",
       "      <td>0.039035</td>\n",
       "    </tr>\n",
       "    <tr>\n",
       "      <th>gene_20510</th>\n",
       "      <td>-0.028778</td>\n",
       "      <td>0.072643</td>\n",
       "      <td>0.154530</td>\n",
       "      <td>0.177465</td>\n",
       "      <td>0.167180</td>\n",
       "      <td>NaN</td>\n",
       "      <td>0.309469</td>\n",
       "      <td>0.107767</td>\n",
       "      <td>-0.015759</td>\n",
       "      <td>-0.034251</td>\n",
       "      <td>...</td>\n",
       "      <td>-0.130100</td>\n",
       "      <td>0.086975</td>\n",
       "      <td>0.036408</td>\n",
       "      <td>0.056275</td>\n",
       "      <td>-0.296127</td>\n",
       "      <td>-0.025926</td>\n",
       "      <td>-0.035752</td>\n",
       "      <td>-0.052392</td>\n",
       "      <td>-0.112289</td>\n",
       "      <td>-0.068192</td>\n",
       "    </tr>\n",
       "    <tr>\n",
       "      <th>gene_20511</th>\n",
       "      <td>-0.025349</td>\n",
       "      <td>0.011577</td>\n",
       "      <td>-0.013331</td>\n",
       "      <td>0.012167</td>\n",
       "      <td>0.069300</td>\n",
       "      <td>NaN</td>\n",
       "      <td>0.031527</td>\n",
       "      <td>0.044643</td>\n",
       "      <td>0.105554</td>\n",
       "      <td>0.052814</td>\n",
       "      <td>...</td>\n",
       "      <td>-0.084532</td>\n",
       "      <td>-0.096956</td>\n",
       "      <td>-0.075445</td>\n",
       "      <td>0.025794</td>\n",
       "      <td>0.007474</td>\n",
       "      <td>0.004374</td>\n",
       "      <td>-0.074685</td>\n",
       "      <td>0.009323</td>\n",
       "      <td>-0.034591</td>\n",
       "      <td>0.094078</td>\n",
       "    </tr>\n",
       "    <tr>\n",
       "      <th>gene_20512</th>\n",
       "      <td>-0.028202</td>\n",
       "      <td>0.076125</td>\n",
       "      <td>0.121858</td>\n",
       "      <td>0.237768</td>\n",
       "      <td>0.126760</td>\n",
       "      <td>NaN</td>\n",
       "      <td>0.113386</td>\n",
       "      <td>-0.009070</td>\n",
       "      <td>-0.023112</td>\n",
       "      <td>-0.009907</td>\n",
       "      <td>...</td>\n",
       "      <td>-0.032165</td>\n",
       "      <td>0.051918</td>\n",
       "      <td>-0.026938</td>\n",
       "      <td>-0.045031</td>\n",
       "      <td>-0.220466</td>\n",
       "      <td>-0.009808</td>\n",
       "      <td>-0.063948</td>\n",
       "      <td>-0.033988</td>\n",
       "      <td>-0.133976</td>\n",
       "      <td>0.008413</td>\n",
       "    </tr>\n",
       "    <tr>\n",
       "      <th>gene_20513</th>\n",
       "      <td>0.008234</td>\n",
       "      <td>0.052995</td>\n",
       "      <td>0.040927</td>\n",
       "      <td>0.063115</td>\n",
       "      <td>-0.059895</td>\n",
       "      <td>NaN</td>\n",
       "      <td>0.107740</td>\n",
       "      <td>-0.040712</td>\n",
       "      <td>-0.026502</td>\n",
       "      <td>0.030380</td>\n",
       "      <td>...</td>\n",
       "      <td>-0.093321</td>\n",
       "      <td>-0.146076</td>\n",
       "      <td>0.004949</td>\n",
       "      <td>0.011093</td>\n",
       "      <td>-0.079053</td>\n",
       "      <td>0.422196</td>\n",
       "      <td>-0.013723</td>\n",
       "      <td>-0.078899</td>\n",
       "      <td>0.056349</td>\n",
       "      <td>-0.017646</td>\n",
       "    </tr>\n",
       "    <tr>\n",
       "      <th>gene_20514</th>\n",
       "      <td>0.052349</td>\n",
       "      <td>0.193345</td>\n",
       "      <td>0.162170</td>\n",
       "      <td>-0.020477</td>\n",
       "      <td>-0.434682</td>\n",
       "      <td>NaN</td>\n",
       "      <td>-0.011438</td>\n",
       "      <td>0.070683</td>\n",
       "      <td>0.004267</td>\n",
       "      <td>-0.089172</td>\n",
       "      <td>...</td>\n",
       "      <td>0.313174</td>\n",
       "      <td>0.153874</td>\n",
       "      <td>0.172619</td>\n",
       "      <td>-0.265888</td>\n",
       "      <td>0.208524</td>\n",
       "      <td>-0.239832</td>\n",
       "      <td>0.281866</td>\n",
       "      <td>0.019554</td>\n",
       "      <td>-0.120038</td>\n",
       "      <td>-0.050381</td>\n",
       "    </tr>\n",
       "    <tr>\n",
       "      <th>gene_20515</th>\n",
       "      <td>-0.018885</td>\n",
       "      <td>0.177201</td>\n",
       "      <td>0.045809</td>\n",
       "      <td>-0.073368</td>\n",
       "      <td>-0.351643</td>\n",
       "      <td>NaN</td>\n",
       "      <td>-0.018937</td>\n",
       "      <td>0.108935</td>\n",
       "      <td>-0.026045</td>\n",
       "      <td>-0.058925</td>\n",
       "      <td>...</td>\n",
       "      <td>0.298048</td>\n",
       "      <td>0.212022</td>\n",
       "      <td>0.196125</td>\n",
       "      <td>-0.137577</td>\n",
       "      <td>0.342254</td>\n",
       "      <td>-0.042852</td>\n",
       "      <td>0.272478</td>\n",
       "      <td>0.153119</td>\n",
       "      <td>-0.011874</td>\n",
       "      <td>0.029047</td>\n",
       "    </tr>\n",
       "    <tr>\n",
       "      <th>gene_20516</th>\n",
       "      <td>0.055423</td>\n",
       "      <td>-0.199583</td>\n",
       "      <td>-0.036827</td>\n",
       "      <td>-0.338742</td>\n",
       "      <td>0.071222</td>\n",
       "      <td>NaN</td>\n",
       "      <td>0.179508</td>\n",
       "      <td>0.024645</td>\n",
       "      <td>0.018555</td>\n",
       "      <td>0.001724</td>\n",
       "      <td>...</td>\n",
       "      <td>-0.164113</td>\n",
       "      <td>-0.266932</td>\n",
       "      <td>-0.117238</td>\n",
       "      <td>0.158814</td>\n",
       "      <td>-0.064537</td>\n",
       "      <td>-0.036767</td>\n",
       "      <td>-0.056875</td>\n",
       "      <td>-0.267231</td>\n",
       "      <td>0.123401</td>\n",
       "      <td>0.022353</td>\n",
       "    </tr>\n",
       "    <tr>\n",
       "      <th>gene_20517</th>\n",
       "      <td>-0.026104</td>\n",
       "      <td>0.131101</td>\n",
       "      <td>-0.037027</td>\n",
       "      <td>0.292393</td>\n",
       "      <td>0.234226</td>\n",
       "      <td>NaN</td>\n",
       "      <td>-0.069839</td>\n",
       "      <td>0.004052</td>\n",
       "      <td>-0.026409</td>\n",
       "      <td>0.030501</td>\n",
       "      <td>...</td>\n",
       "      <td>0.010302</td>\n",
       "      <td>0.213767</td>\n",
       "      <td>0.036940</td>\n",
       "      <td>0.050009</td>\n",
       "      <td>-0.018591</td>\n",
       "      <td>-0.067480</td>\n",
       "      <td>-0.002417</td>\n",
       "      <td>0.277315</td>\n",
       "      <td>-0.044964</td>\n",
       "      <td>0.023420</td>\n",
       "    </tr>\n",
       "    <tr>\n",
       "      <th>gene_20518</th>\n",
       "      <td>-0.060567</td>\n",
       "      <td>0.151097</td>\n",
       "      <td>-0.004972</td>\n",
       "      <td>0.271411</td>\n",
       "      <td>0.163652</td>\n",
       "      <td>NaN</td>\n",
       "      <td>-0.191173</td>\n",
       "      <td>-0.083035</td>\n",
       "      <td>0.004868</td>\n",
       "      <td>0.067113</td>\n",
       "      <td>...</td>\n",
       "      <td>0.063614</td>\n",
       "      <td>0.259732</td>\n",
       "      <td>-0.022458</td>\n",
       "      <td>0.130523</td>\n",
       "      <td>0.089227</td>\n",
       "      <td>-0.083624</td>\n",
       "      <td>0.026414</td>\n",
       "      <td>0.354851</td>\n",
       "      <td>-0.031795</td>\n",
       "      <td>0.016249</td>\n",
       "    </tr>\n",
       "    <tr>\n",
       "      <th>gene_20519</th>\n",
       "      <td>-0.061040</td>\n",
       "      <td>0.252752</td>\n",
       "      <td>0.086224</td>\n",
       "      <td>0.418756</td>\n",
       "      <td>0.403050</td>\n",
       "      <td>NaN</td>\n",
       "      <td>-0.004456</td>\n",
       "      <td>-0.041523</td>\n",
       "      <td>0.020368</td>\n",
       "      <td>0.055382</td>\n",
       "      <td>...</td>\n",
       "      <td>-0.194883</td>\n",
       "      <td>0.225130</td>\n",
       "      <td>0.048855</td>\n",
       "      <td>0.144200</td>\n",
       "      <td>-0.152358</td>\n",
       "      <td>-0.054180</td>\n",
       "      <td>-0.074472</td>\n",
       "      <td>0.284921</td>\n",
       "      <td>-0.086731</td>\n",
       "      <td>-0.013949</td>\n",
       "    </tr>\n",
       "    <tr>\n",
       "      <th>gene_20520</th>\n",
       "      <td>-0.045019</td>\n",
       "      <td>0.056711</td>\n",
       "      <td>-0.103094</td>\n",
       "      <td>0.385638</td>\n",
       "      <td>0.444810</td>\n",
       "      <td>NaN</td>\n",
       "      <td>-0.025870</td>\n",
       "      <td>-0.060125</td>\n",
       "      <td>0.075712</td>\n",
       "      <td>0.064782</td>\n",
       "      <td>...</td>\n",
       "      <td>-0.262661</td>\n",
       "      <td>0.073045</td>\n",
       "      <td>-0.103103</td>\n",
       "      <td>0.064252</td>\n",
       "      <td>-0.276177</td>\n",
       "      <td>0.028755</td>\n",
       "      <td>-0.197817</td>\n",
       "      <td>0.066609</td>\n",
       "      <td>-0.220606</td>\n",
       "      <td>0.038091</td>\n",
       "    </tr>\n",
       "    <tr>\n",
       "      <th>gene_20521</th>\n",
       "      <td>-0.021109</td>\n",
       "      <td>0.169172</td>\n",
       "      <td>-0.021067</td>\n",
       "      <td>-0.186729</td>\n",
       "      <td>-0.499208</td>\n",
       "      <td>NaN</td>\n",
       "      <td>-0.145839</td>\n",
       "      <td>0.187219</td>\n",
       "      <td>-0.061266</td>\n",
       "      <td>-0.004787</td>\n",
       "      <td>...</td>\n",
       "      <td>1.000000</td>\n",
       "      <td>0.628909</td>\n",
       "      <td>0.332271</td>\n",
       "      <td>-0.009810</td>\n",
       "      <td>0.532755</td>\n",
       "      <td>-0.266999</td>\n",
       "      <td>0.433144</td>\n",
       "      <td>0.345210</td>\n",
       "      <td>0.039898</td>\n",
       "      <td>-0.040067</td>\n",
       "    </tr>\n",
       "    <tr>\n",
       "      <th>gene_20522</th>\n",
       "      <td>-0.064341</td>\n",
       "      <td>0.190145</td>\n",
       "      <td>0.036411</td>\n",
       "      <td>-0.014547</td>\n",
       "      <td>-0.167764</td>\n",
       "      <td>NaN</td>\n",
       "      <td>-0.134368</td>\n",
       "      <td>0.087242</td>\n",
       "      <td>-0.058876</td>\n",
       "      <td>0.008138</td>\n",
       "      <td>...</td>\n",
       "      <td>0.628909</td>\n",
       "      <td>1.000000</td>\n",
       "      <td>0.286363</td>\n",
       "      <td>0.115457</td>\n",
       "      <td>0.344739</td>\n",
       "      <td>-0.348636</td>\n",
       "      <td>0.302748</td>\n",
       "      <td>0.413114</td>\n",
       "      <td>0.054090</td>\n",
       "      <td>-0.036635</td>\n",
       "    </tr>\n",
       "    <tr>\n",
       "      <th>gene_20523</th>\n",
       "      <td>-0.013874</td>\n",
       "      <td>0.313725</td>\n",
       "      <td>0.242255</td>\n",
       "      <td>-0.011733</td>\n",
       "      <td>-0.283480</td>\n",
       "      <td>NaN</td>\n",
       "      <td>0.240994</td>\n",
       "      <td>0.222446</td>\n",
       "      <td>-0.010901</td>\n",
       "      <td>-0.016105</td>\n",
       "      <td>...</td>\n",
       "      <td>0.332271</td>\n",
       "      <td>0.286363</td>\n",
       "      <td>1.000000</td>\n",
       "      <td>-0.001992</td>\n",
       "      <td>0.202308</td>\n",
       "      <td>-0.283602</td>\n",
       "      <td>0.448078</td>\n",
       "      <td>0.250467</td>\n",
       "      <td>0.050103</td>\n",
       "      <td>0.001862</td>\n",
       "    </tr>\n",
       "    <tr>\n",
       "      <th>gene_20524</th>\n",
       "      <td>-0.008384</td>\n",
       "      <td>-0.007284</td>\n",
       "      <td>0.018755</td>\n",
       "      <td>-0.242855</td>\n",
       "      <td>0.179406</td>\n",
       "      <td>NaN</td>\n",
       "      <td>0.129158</td>\n",
       "      <td>-0.043254</td>\n",
       "      <td>0.048249</td>\n",
       "      <td>0.078644</td>\n",
       "      <td>...</td>\n",
       "      <td>-0.009810</td>\n",
       "      <td>0.115457</td>\n",
       "      <td>-0.001992</td>\n",
       "      <td>1.000000</td>\n",
       "      <td>0.193333</td>\n",
       "      <td>-0.217210</td>\n",
       "      <td>-0.127397</td>\n",
       "      <td>0.225442</td>\n",
       "      <td>0.200403</td>\n",
       "      <td>0.027079</td>\n",
       "    </tr>\n",
       "    <tr>\n",
       "      <th>gene_20525</th>\n",
       "      <td>-0.036623</td>\n",
       "      <td>0.123178</td>\n",
       "      <td>-0.054584</td>\n",
       "      <td>-0.240551</td>\n",
       "      <td>-0.367551</td>\n",
       "      <td>NaN</td>\n",
       "      <td>-0.275474</td>\n",
       "      <td>0.048521</td>\n",
       "      <td>0.012176</td>\n",
       "      <td>0.074866</td>\n",
       "      <td>...</td>\n",
       "      <td>0.532755</td>\n",
       "      <td>0.344739</td>\n",
       "      <td>0.202308</td>\n",
       "      <td>0.193333</td>\n",
       "      <td>1.000000</td>\n",
       "      <td>-0.261564</td>\n",
       "      <td>0.197762</td>\n",
       "      <td>0.526923</td>\n",
       "      <td>0.073156</td>\n",
       "      <td>0.030614</td>\n",
       "    </tr>\n",
       "    <tr>\n",
       "      <th>gene_20526</th>\n",
       "      <td>0.034314</td>\n",
       "      <td>-0.255093</td>\n",
       "      <td>-0.160446</td>\n",
       "      <td>0.092787</td>\n",
       "      <td>0.011739</td>\n",
       "      <td>NaN</td>\n",
       "      <td>0.034257</td>\n",
       "      <td>-0.087913</td>\n",
       "      <td>-0.023098</td>\n",
       "      <td>0.045096</td>\n",
       "      <td>...</td>\n",
       "      <td>-0.266999</td>\n",
       "      <td>-0.348636</td>\n",
       "      <td>-0.283602</td>\n",
       "      <td>-0.217210</td>\n",
       "      <td>-0.261564</td>\n",
       "      <td>1.000000</td>\n",
       "      <td>-0.101292</td>\n",
       "      <td>-0.297921</td>\n",
       "      <td>0.110060</td>\n",
       "      <td>-0.047482</td>\n",
       "    </tr>\n",
       "    <tr>\n",
       "      <th>gene_20527</th>\n",
       "      <td>-0.000368</td>\n",
       "      <td>0.303771</td>\n",
       "      <td>0.163181</td>\n",
       "      <td>-0.000379</td>\n",
       "      <td>-0.434604</td>\n",
       "      <td>NaN</td>\n",
       "      <td>0.106230</td>\n",
       "      <td>0.159428</td>\n",
       "      <td>-0.064293</td>\n",
       "      <td>-0.002198</td>\n",
       "      <td>...</td>\n",
       "      <td>0.433144</td>\n",
       "      <td>0.302748</td>\n",
       "      <td>0.448078</td>\n",
       "      <td>-0.127397</td>\n",
       "      <td>0.197762</td>\n",
       "      <td>-0.101292</td>\n",
       "      <td>1.000000</td>\n",
       "      <td>0.190374</td>\n",
       "      <td>0.087528</td>\n",
       "      <td>-0.068362</td>\n",
       "    </tr>\n",
       "    <tr>\n",
       "      <th>gene_20528</th>\n",
       "      <td>-0.049142</td>\n",
       "      <td>0.247959</td>\n",
       "      <td>0.066709</td>\n",
       "      <td>0.016733</td>\n",
       "      <td>-0.108036</td>\n",
       "      <td>NaN</td>\n",
       "      <td>-0.135111</td>\n",
       "      <td>0.083252</td>\n",
       "      <td>-0.054051</td>\n",
       "      <td>0.073503</td>\n",
       "      <td>...</td>\n",
       "      <td>0.345210</td>\n",
       "      <td>0.413114</td>\n",
       "      <td>0.250467</td>\n",
       "      <td>0.225442</td>\n",
       "      <td>0.526923</td>\n",
       "      <td>-0.297921</td>\n",
       "      <td>0.190374</td>\n",
       "      <td>1.000000</td>\n",
       "      <td>0.055909</td>\n",
       "      <td>-0.050641</td>\n",
       "    </tr>\n",
       "    <tr>\n",
       "      <th>gene_20529</th>\n",
       "      <td>0.041554</td>\n",
       "      <td>-0.067474</td>\n",
       "      <td>0.011765</td>\n",
       "      <td>-0.135829</td>\n",
       "      <td>-0.007229</td>\n",
       "      <td>NaN</td>\n",
       "      <td>0.039222</td>\n",
       "      <td>-0.010877</td>\n",
       "      <td>-0.002941</td>\n",
       "      <td>0.000634</td>\n",
       "      <td>...</td>\n",
       "      <td>0.039898</td>\n",
       "      <td>0.054090</td>\n",
       "      <td>0.050103</td>\n",
       "      <td>0.200403</td>\n",
       "      <td>0.073156</td>\n",
       "      <td>0.110060</td>\n",
       "      <td>0.087528</td>\n",
       "      <td>0.055909</td>\n",
       "      <td>1.000000</td>\n",
       "      <td>0.017558</td>\n",
       "    </tr>\n",
       "    <tr>\n",
       "      <th>gene_20530</th>\n",
       "      <td>-0.027767</td>\n",
       "      <td>0.034348</td>\n",
       "      <td>0.075604</td>\n",
       "      <td>0.023476</td>\n",
       "      <td>0.062752</td>\n",
       "      <td>NaN</td>\n",
       "      <td>-0.045404</td>\n",
       "      <td>0.006091</td>\n",
       "      <td>0.253737</td>\n",
       "      <td>-0.017189</td>\n",
       "      <td>...</td>\n",
       "      <td>-0.040067</td>\n",
       "      <td>-0.036635</td>\n",
       "      <td>0.001862</td>\n",
       "      <td>0.027079</td>\n",
       "      <td>0.030614</td>\n",
       "      <td>-0.047482</td>\n",
       "      <td>-0.068362</td>\n",
       "      <td>-0.050641</td>\n",
       "      <td>0.017558</td>\n",
       "      <td>1.000000</td>\n",
       "    </tr>\n",
       "  </tbody>\n",
       "</table>\n",
       "<p>20531 rows × 20531 columns</p>\n",
       "</div>"
      ],
      "text/plain": [
       "              gene_0    gene_1    gene_2    gene_3    gene_4  gene_5  \\\n",
       "gene_0      1.000000  0.024111  0.027117 -0.080269 -0.028969     NaN   \n",
       "gene_1      0.024111  1.000000  0.533902  0.148348 -0.158555     NaN   \n",
       "gene_2      0.027117  0.533902  1.000000  0.075988 -0.125376     NaN   \n",
       "gene_3     -0.080269  0.148348  0.075988  1.000000  0.153666     NaN   \n",
       "gene_4     -0.028969 -0.158555 -0.125376  0.153666  1.000000     NaN   \n",
       "gene_5           NaN       NaN       NaN       NaN       NaN     NaN   \n",
       "gene_6      0.051855  0.202855  0.334900 -0.007905 -0.044347     NaN   \n",
       "gene_7     -0.053647  0.177154  0.136246 -0.084841 -0.156698     NaN   \n",
       "gene_8     -0.024423  0.023411  0.013228 -0.033180  0.082124     NaN   \n",
       "gene_9     -0.012785  0.006425 -0.045725  0.002434  0.098267     NaN   \n",
       "gene_10    -0.015423 -0.022650  0.011893 -0.030119 -0.042986     NaN   \n",
       "gene_11     0.023707  0.104157  0.072153  0.073892  0.010540     NaN   \n",
       "gene_12    -0.047953 -0.067996 -0.026349  0.015476  0.123706     NaN   \n",
       "gene_13     0.003439 -0.021043  0.027961 -0.099113 -0.012898     NaN   \n",
       "gene_14    -0.049128  0.043385 -0.034251 -0.072387 -0.183428     NaN   \n",
       "gene_15     0.112643  0.002599 -0.003628 -0.034118  0.066888     NaN   \n",
       "gene_16    -0.015204  0.018327 -0.038383  0.030999  0.018913     NaN   \n",
       "gene_17    -0.022555  0.032818  0.074630 -0.009123 -0.025143     NaN   \n",
       "gene_18     0.053416 -0.197496 -0.296195 -0.304591 -0.330383     NaN   \n",
       "gene_19    -0.028677  0.158453 -0.089186 -0.144578 -0.298012     NaN   \n",
       "gene_20     0.012050  0.425389  0.268256  0.002691 -0.189269     NaN   \n",
       "gene_21     0.022749  0.201635  0.088123 -0.053605 -0.239173     NaN   \n",
       "gene_22     0.016719 -0.351712 -0.214574 -0.217835  0.163393     NaN   \n",
       "gene_23          NaN       NaN       NaN       NaN       NaN     NaN   \n",
       "gene_24    -0.002587  0.105269  0.109724  0.012036 -0.041371     NaN   \n",
       "gene_25     0.043155  0.090354  0.045756 -0.140240 -0.234915     NaN   \n",
       "gene_26    -0.021093  0.091957  0.204169 -0.041344  0.105938     NaN   \n",
       "gene_27     0.009520 -0.029724  0.174831  0.116481  0.025814     NaN   \n",
       "gene_28     0.024032 -0.061240  0.044649 -0.414109 -0.153190     NaN   \n",
       "gene_29    -0.019638 -0.222084 -0.089595 -0.255495  0.231577     NaN   \n",
       "...              ...       ...       ...       ...       ...     ...   \n",
       "gene_20501 -0.012278  0.115230 -0.126086  0.002654 -0.188557     NaN   \n",
       "gene_20502  0.032517 -0.024355 -0.032083 -0.131281  0.059342     NaN   \n",
       "gene_20503 -0.043729  0.214276  0.089253 -0.035114 -0.144030     NaN   \n",
       "gene_20504 -0.019923  0.289098  0.286536 -0.130717 -0.348514     NaN   \n",
       "gene_20505 -0.020285  0.378590  0.099849  0.079667 -0.135087     NaN   \n",
       "gene_20506  0.037919  0.136556  0.152843 -0.208362 -0.171703     NaN   \n",
       "gene_20507  0.041972  0.082728  0.103561 -0.128814 -0.241281     NaN   \n",
       "gene_20508  0.031762  0.063760  0.074043  0.042781 -0.053948     NaN   \n",
       "gene_20509  0.036796  0.059414  0.040017 -0.011771 -0.109927     NaN   \n",
       "gene_20510 -0.028778  0.072643  0.154530  0.177465  0.167180     NaN   \n",
       "gene_20511 -0.025349  0.011577 -0.013331  0.012167  0.069300     NaN   \n",
       "gene_20512 -0.028202  0.076125  0.121858  0.237768  0.126760     NaN   \n",
       "gene_20513  0.008234  0.052995  0.040927  0.063115 -0.059895     NaN   \n",
       "gene_20514  0.052349  0.193345  0.162170 -0.020477 -0.434682     NaN   \n",
       "gene_20515 -0.018885  0.177201  0.045809 -0.073368 -0.351643     NaN   \n",
       "gene_20516  0.055423 -0.199583 -0.036827 -0.338742  0.071222     NaN   \n",
       "gene_20517 -0.026104  0.131101 -0.037027  0.292393  0.234226     NaN   \n",
       "gene_20518 -0.060567  0.151097 -0.004972  0.271411  0.163652     NaN   \n",
       "gene_20519 -0.061040  0.252752  0.086224  0.418756  0.403050     NaN   \n",
       "gene_20520 -0.045019  0.056711 -0.103094  0.385638  0.444810     NaN   \n",
       "gene_20521 -0.021109  0.169172 -0.021067 -0.186729 -0.499208     NaN   \n",
       "gene_20522 -0.064341  0.190145  0.036411 -0.014547 -0.167764     NaN   \n",
       "gene_20523 -0.013874  0.313725  0.242255 -0.011733 -0.283480     NaN   \n",
       "gene_20524 -0.008384 -0.007284  0.018755 -0.242855  0.179406     NaN   \n",
       "gene_20525 -0.036623  0.123178 -0.054584 -0.240551 -0.367551     NaN   \n",
       "gene_20526  0.034314 -0.255093 -0.160446  0.092787  0.011739     NaN   \n",
       "gene_20527 -0.000368  0.303771  0.163181 -0.000379 -0.434604     NaN   \n",
       "gene_20528 -0.049142  0.247959  0.066709  0.016733 -0.108036     NaN   \n",
       "gene_20529  0.041554 -0.067474  0.011765 -0.135829 -0.007229     NaN   \n",
       "gene_20530 -0.027767  0.034348  0.075604  0.023476  0.062752     NaN   \n",
       "\n",
       "              gene_6    gene_7    gene_8    gene_9  ...  gene_20521  \\\n",
       "gene_0      0.051855 -0.053647 -0.024423 -0.012785  ...   -0.021109   \n",
       "gene_1      0.202855  0.177154  0.023411  0.006425  ...    0.169172   \n",
       "gene_2      0.334900  0.136246  0.013228 -0.045725  ...   -0.021067   \n",
       "gene_3     -0.007905 -0.084841 -0.033180  0.002434  ...   -0.186729   \n",
       "gene_4     -0.044347 -0.156698  0.082124  0.098267  ...   -0.499208   \n",
       "gene_5           NaN       NaN       NaN       NaN  ...         NaN   \n",
       "gene_6      1.000000  0.299892 -0.013193  0.003622  ...   -0.145839   \n",
       "gene_7      0.299892  1.000000 -0.004223 -0.013531  ...    0.187219   \n",
       "gene_8     -0.013193 -0.004223  1.000000 -0.008229  ...   -0.061266   \n",
       "gene_9      0.003622 -0.013531 -0.008229  1.000000  ...   -0.004787   \n",
       "gene_10     0.116935  0.064227  0.303346  0.007730  ...   -0.023832   \n",
       "gene_11     0.357394  0.119823  0.043320 -0.010972  ...   -0.125158   \n",
       "gene_12    -0.104883 -0.067363 -0.041551 -0.017162  ...   -0.036809   \n",
       "gene_13     0.150346  0.048396  0.090007  0.007474  ...   -0.055811   \n",
       "gene_14     0.067880  0.144511  0.035381 -0.021398  ...    0.236226   \n",
       "gene_15     0.088177  0.048061  0.145718 -0.005911  ...   -0.033503   \n",
       "gene_16     0.014214 -0.069596 -0.009786 -0.005123  ...   -0.012012   \n",
       "gene_17     0.044432 -0.006846  0.010298 -0.012128  ...    0.004596   \n",
       "gene_18    -0.162224  0.148360  0.038073 -0.012278  ...    0.353828   \n",
       "gene_19    -0.196355  0.092340  0.010132  0.005289  ...    0.508946   \n",
       "gene_20     0.434181  0.342080 -0.002220  0.001167  ...    0.135353   \n",
       "gene_21    -0.046829  0.074657 -0.087726 -0.020145  ...    0.341713   \n",
       "gene_22     0.083092 -0.080869  0.098183 -0.029397  ...   -0.345236   \n",
       "gene_23          NaN       NaN       NaN       NaN  ...         NaN   \n",
       "gene_24     0.089433  0.057651 -0.008535 -0.016836  ...    0.068981   \n",
       "gene_25     0.124883  0.173573  0.017874 -0.025814  ...    0.177473   \n",
       "gene_26     0.029487 -0.136534  0.092312  0.015989  ...   -0.219748   \n",
       "gene_27     0.311429 -0.033993  0.024369 -0.056539  ...   -0.253491   \n",
       "gene_28     0.206173  0.086099 -0.029675 -0.067716  ...    0.188057   \n",
       "gene_29     0.200965 -0.007455  0.084001  0.001827  ...   -0.244783   \n",
       "...              ...       ...       ...       ...  ...         ...   \n",
       "gene_20501 -0.076866  0.090785 -0.009971  0.005117  ...    0.313680   \n",
       "gene_20502  0.359945  0.121485  0.078336  0.017037  ...    0.016009   \n",
       "gene_20503  0.146439  0.084890 -0.064055  0.087661  ...    0.247174   \n",
       "gene_20504  0.116886  0.094620 -0.022781 -0.067223  ...    0.351310   \n",
       "gene_20505  0.078800  0.224611 -0.034471 -0.009354  ...    0.374566   \n",
       "gene_20506  0.121322  0.074074 -0.015688 -0.043483  ...    0.316822   \n",
       "gene_20507  0.052755  0.054764  0.019770 -0.034468  ...    0.046898   \n",
       "gene_20508  0.077583  0.044784  0.037796  0.056067  ...    0.018222   \n",
       "gene_20509  0.033605  0.118860 -0.001049 -0.030999  ...    0.106432   \n",
       "gene_20510  0.309469  0.107767 -0.015759 -0.034251  ...   -0.130100   \n",
       "gene_20511  0.031527  0.044643  0.105554  0.052814  ...   -0.084532   \n",
       "gene_20512  0.113386 -0.009070 -0.023112 -0.009907  ...   -0.032165   \n",
       "gene_20513  0.107740 -0.040712 -0.026502  0.030380  ...   -0.093321   \n",
       "gene_20514 -0.011438  0.070683  0.004267 -0.089172  ...    0.313174   \n",
       "gene_20515 -0.018937  0.108935 -0.026045 -0.058925  ...    0.298048   \n",
       "gene_20516  0.179508  0.024645  0.018555  0.001724  ...   -0.164113   \n",
       "gene_20517 -0.069839  0.004052 -0.026409  0.030501  ...    0.010302   \n",
       "gene_20518 -0.191173 -0.083035  0.004868  0.067113  ...    0.063614   \n",
       "gene_20519 -0.004456 -0.041523  0.020368  0.055382  ...   -0.194883   \n",
       "gene_20520 -0.025870 -0.060125  0.075712  0.064782  ...   -0.262661   \n",
       "gene_20521 -0.145839  0.187219 -0.061266 -0.004787  ...    1.000000   \n",
       "gene_20522 -0.134368  0.087242 -0.058876  0.008138  ...    0.628909   \n",
       "gene_20523  0.240994  0.222446 -0.010901 -0.016105  ...    0.332271   \n",
       "gene_20524  0.129158 -0.043254  0.048249  0.078644  ...   -0.009810   \n",
       "gene_20525 -0.275474  0.048521  0.012176  0.074866  ...    0.532755   \n",
       "gene_20526  0.034257 -0.087913 -0.023098  0.045096  ...   -0.266999   \n",
       "gene_20527  0.106230  0.159428 -0.064293 -0.002198  ...    0.433144   \n",
       "gene_20528 -0.135111  0.083252 -0.054051  0.073503  ...    0.345210   \n",
       "gene_20529  0.039222 -0.010877 -0.002941  0.000634  ...    0.039898   \n",
       "gene_20530 -0.045404  0.006091  0.253737 -0.017189  ...   -0.040067   \n",
       "\n",
       "            gene_20522  gene_20523  gene_20524  gene_20525  gene_20526  \\\n",
       "gene_0       -0.064341   -0.013874   -0.008384   -0.036623    0.034314   \n",
       "gene_1        0.190145    0.313725   -0.007284    0.123178   -0.255093   \n",
       "gene_2        0.036411    0.242255    0.018755   -0.054584   -0.160446   \n",
       "gene_3       -0.014547   -0.011733   -0.242855   -0.240551    0.092787   \n",
       "gene_4       -0.167764   -0.283480    0.179406   -0.367551    0.011739   \n",
       "gene_5             NaN         NaN         NaN         NaN         NaN   \n",
       "gene_6       -0.134368    0.240994    0.129158   -0.275474    0.034257   \n",
       "gene_7        0.087242    0.222446   -0.043254    0.048521   -0.087913   \n",
       "gene_8       -0.058876   -0.010901    0.048249    0.012176   -0.023098   \n",
       "gene_9        0.008138   -0.016105    0.078644    0.074866    0.045096   \n",
       "gene_10      -0.157786    0.015239    0.017583   -0.018600    0.101959   \n",
       "gene_11      -0.079450    0.061686    0.016395   -0.183784    0.118391   \n",
       "gene_12       0.007894   -0.033371   -0.003422   -0.017991   -0.087092   \n",
       "gene_13      -0.014738    0.016334    0.171350    0.021784   -0.035057   \n",
       "gene_14       0.079944    0.185758   -0.073919    0.181956   -0.054049   \n",
       "gene_15      -0.042740   -0.087718   -0.067042   -0.015454    0.027374   \n",
       "gene_16      -0.027533    0.048562    0.057892    0.043852   -0.022500   \n",
       "gene_17      -0.014405    0.021396    0.072333    0.061245   -0.060869   \n",
       "gene_18      -0.098591    0.017716   -0.250703    0.310319    0.013719   \n",
       "gene_19       0.359583    0.216758    0.093669    0.437214   -0.122421   \n",
       "gene_20       0.151372    0.336621    0.123217    0.107538   -0.119798   \n",
       "gene_21       0.285325    0.234612    0.074445    0.327967   -0.187338   \n",
       "gene_22      -0.325337   -0.231370    0.021974   -0.288753    0.252000   \n",
       "gene_23            NaN         NaN         NaN         NaN         NaN   \n",
       "gene_24       0.036977    0.090001    0.054854    0.019836   -0.103465   \n",
       "gene_25       0.017834    0.100739   -0.074377    0.227479   -0.122952   \n",
       "gene_26      -0.089200   -0.131558    0.302964    0.008901    0.002443   \n",
       "gene_27      -0.320218   -0.065141   -0.213748   -0.467710    0.172471   \n",
       "gene_28       0.044159    0.187569    0.328582    0.127254   -0.241440   \n",
       "gene_29      -0.094621   -0.120752    0.360924   -0.163609    0.131443   \n",
       "...                ...         ...         ...         ...         ...   \n",
       "gene_20501    0.317801    0.203011    0.026837    0.272550    0.011801   \n",
       "gene_20502    0.002636    0.023561    0.327041    0.007056   -0.035163   \n",
       "gene_20503    0.412546    0.300206    0.246652    0.151642   -0.237279   \n",
       "gene_20504    0.175217    0.283425    0.154691    0.408301   -0.233568   \n",
       "gene_20505    0.495022    0.380432   -0.018372    0.165359   -0.214655   \n",
       "gene_20506    0.202260    0.251470    0.202664    0.197713   -0.275293   \n",
       "gene_20507   -0.154503    0.072978   -0.119789    0.141708    0.039916   \n",
       "gene_20508   -0.102508    0.040732   -0.029903   -0.066720    0.017500   \n",
       "gene_20509   -0.037082    0.105425   -0.013691    0.008954   -0.035708   \n",
       "gene_20510    0.086975    0.036408    0.056275   -0.296127   -0.025926   \n",
       "gene_20511   -0.096956   -0.075445    0.025794    0.007474    0.004374   \n",
       "gene_20512    0.051918   -0.026938   -0.045031   -0.220466   -0.009808   \n",
       "gene_20513   -0.146076    0.004949    0.011093   -0.079053    0.422196   \n",
       "gene_20514    0.153874    0.172619   -0.265888    0.208524   -0.239832   \n",
       "gene_20515    0.212022    0.196125   -0.137577    0.342254   -0.042852   \n",
       "gene_20516   -0.266932   -0.117238    0.158814   -0.064537   -0.036767   \n",
       "gene_20517    0.213767    0.036940    0.050009   -0.018591   -0.067480   \n",
       "gene_20518    0.259732   -0.022458    0.130523    0.089227   -0.083624   \n",
       "gene_20519    0.225130    0.048855    0.144200   -0.152358   -0.054180   \n",
       "gene_20520    0.073045   -0.103103    0.064252   -0.276177    0.028755   \n",
       "gene_20521    0.628909    0.332271   -0.009810    0.532755   -0.266999   \n",
       "gene_20522    1.000000    0.286363    0.115457    0.344739   -0.348636   \n",
       "gene_20523    0.286363    1.000000   -0.001992    0.202308   -0.283602   \n",
       "gene_20524    0.115457   -0.001992    1.000000    0.193333   -0.217210   \n",
       "gene_20525    0.344739    0.202308    0.193333    1.000000   -0.261564   \n",
       "gene_20526   -0.348636   -0.283602   -0.217210   -0.261564    1.000000   \n",
       "gene_20527    0.302748    0.448078   -0.127397    0.197762   -0.101292   \n",
       "gene_20528    0.413114    0.250467    0.225442    0.526923   -0.297921   \n",
       "gene_20529    0.054090    0.050103    0.200403    0.073156    0.110060   \n",
       "gene_20530   -0.036635    0.001862    0.027079    0.030614   -0.047482   \n",
       "\n",
       "            gene_20527  gene_20528  gene_20529  gene_20530  \n",
       "gene_0       -0.000368   -0.049142    0.041554   -0.027767  \n",
       "gene_1        0.303771    0.247959   -0.067474    0.034348  \n",
       "gene_2        0.163181    0.066709    0.011765    0.075604  \n",
       "gene_3       -0.000379    0.016733   -0.135829    0.023476  \n",
       "gene_4       -0.434604   -0.108036   -0.007229    0.062752  \n",
       "gene_5             NaN         NaN         NaN         NaN  \n",
       "gene_6        0.106230   -0.135111    0.039222   -0.045404  \n",
       "gene_7        0.159428    0.083252   -0.010877    0.006091  \n",
       "gene_8       -0.064293   -0.054051   -0.002941    0.253737  \n",
       "gene_9       -0.002198    0.073503    0.000634   -0.017189  \n",
       "gene_10       0.025701   -0.103568    0.116519    0.134580  \n",
       "gene_11       0.048464   -0.082350    0.018549    0.077569  \n",
       "gene_12      -0.132298   -0.009594    0.020075    0.050394  \n",
       "gene_13       0.041388    0.018248    0.086725    0.037715  \n",
       "gene_14       0.095642    0.058854   -0.036627    0.024684  \n",
       "gene_15      -0.036258   -0.029429   -0.031079    0.166922  \n",
       "gene_16       0.030465    0.020284   -0.013994   -0.020441  \n",
       "gene_17       0.002327   -0.016136   -0.011906   -0.020967  \n",
       "gene_18       0.035786   -0.096077   -0.063964    0.049334  \n",
       "gene_19       0.386326    0.303963   -0.053075    0.043531  \n",
       "gene_20       0.216503    0.175688   -0.015597    0.024816  \n",
       "gene_21       0.274684    0.267592    0.020628   -0.054278  \n",
       "gene_22      -0.353726   -0.467430    0.034023   -0.000023  \n",
       "gene_23            NaN         NaN         NaN         NaN  \n",
       "gene_24       0.090744    0.014058    0.060473   -0.053400  \n",
       "gene_25       0.112351    0.037067   -0.034731    0.033524  \n",
       "gene_26      -0.163175    0.002328    0.082460    0.089722  \n",
       "gene_27       0.022092   -0.444707   -0.092101    0.021013  \n",
       "gene_28       0.089423   -0.007626    0.229949   -0.045856  \n",
       "gene_29      -0.250054   -0.146059    0.231206    0.113169  \n",
       "...                ...         ...         ...         ...  \n",
       "gene_20501    0.305298    0.317958    0.015979    0.023147  \n",
       "gene_20502   -0.068830    0.097859    0.141166   -0.021375  \n",
       "gene_20503    0.256753    0.298272    0.062398   -0.039624  \n",
       "gene_20504    0.245249    0.225886    0.153160   -0.003099  \n",
       "gene_20505    0.388897    0.316828   -0.033070   -0.039154  \n",
       "gene_20506    0.164728    0.172782    0.113183   -0.062192  \n",
       "gene_20507    0.079636   -0.117453   -0.001148    0.072210  \n",
       "gene_20508    0.072976   -0.060174    0.001921    0.033641  \n",
       "gene_20509    0.062410    0.002252   -0.042736    0.039035  \n",
       "gene_20510   -0.035752   -0.052392   -0.112289   -0.068192  \n",
       "gene_20511   -0.074685    0.009323   -0.034591    0.094078  \n",
       "gene_20512   -0.063948   -0.033988   -0.133976    0.008413  \n",
       "gene_20513   -0.013723   -0.078899    0.056349   -0.017646  \n",
       "gene_20514    0.281866    0.019554   -0.120038   -0.050381  \n",
       "gene_20515    0.272478    0.153119   -0.011874    0.029047  \n",
       "gene_20516   -0.056875   -0.267231    0.123401    0.022353  \n",
       "gene_20517   -0.002417    0.277315   -0.044964    0.023420  \n",
       "gene_20518    0.026414    0.354851   -0.031795    0.016249  \n",
       "gene_20519   -0.074472    0.284921   -0.086731   -0.013949  \n",
       "gene_20520   -0.197817    0.066609   -0.220606    0.038091  \n",
       "gene_20521    0.433144    0.345210    0.039898   -0.040067  \n",
       "gene_20522    0.302748    0.413114    0.054090   -0.036635  \n",
       "gene_20523    0.448078    0.250467    0.050103    0.001862  \n",
       "gene_20524   -0.127397    0.225442    0.200403    0.027079  \n",
       "gene_20525    0.197762    0.526923    0.073156    0.030614  \n",
       "gene_20526   -0.101292   -0.297921    0.110060   -0.047482  \n",
       "gene_20527    1.000000    0.190374    0.087528   -0.068362  \n",
       "gene_20528    0.190374    1.000000    0.055909   -0.050641  \n",
       "gene_20529    0.087528    0.055909    1.000000    0.017558  \n",
       "gene_20530   -0.068362   -0.050641    0.017558    1.000000  \n",
       "\n",
       "[20531 rows x 20531 columns]"
      ]
     },
     "execution_count": 27,
     "metadata": {
      "tags": []
     },
     "output_type": "execute_result"
    }
   ],
   "source": [
    "# data.iloc[:,1:].corr()"
   ]
  },
  {
   "cell_type": "code",
   "execution_count": null,
   "metadata": {
    "id": "y-1nspdMNRZm",
    "outputId": "bea02c8d-f8ad-4225-d2e7-478cd3ef5a2b"
   },
   "outputs": [
    {
     "data": {
      "text/plain": [
       "<matplotlib.axes._subplots.AxesSubplot at 0x7f3469b21940>"
      ]
     },
     "execution_count": 28,
     "metadata": {
      "tags": []
     },
     "output_type": "execute_result"
    },
    {
     "data": {
      "image/png": "[encoded data removed]",
      "text/plain": [
       "<Figure size 432x288 with 2 Axes>"
      ]
     },
     "metadata": {
      "needs_background": "light",
      "tags": []
     },
     "output_type": "display_data"
    }
   ],
   "source": [
    "# sns.heatmap(data.iloc[:,1:].corr())"
   ]
  },
  {
   "cell_type": "markdown",
   "metadata": {
    "id": "LpjT6ROUNRZn"
   },
   "source": [
    "Here we can see that since we have 20532 rows the corr matrix is not a feasible option. <br>\n",
    "It also states the pressing need to weed out the gene which is not contributing towards classification. <br>\n",
    "So here we can go for ANOVA - Analysis of Variance test <br>"
   ]
  },
  {
   "cell_type": "markdown",
   "metadata": {
    "id": "RQQkFRbRNRZn"
   },
   "source": [
    "- <u> ANOVA Test </u> <br>\n",
    "It is based on the law of total variance  where the observed variance in a particular variable is partitioned into components attributable to different sources of variation. <br>\n",
    "In its simplest form, ANOVA provides a statistical test of whether two or more population means are equal, and therefore generalizes the t-test beyond two means <br>\n",
    "https://en.wikipedia.org/wiki/Analysis_of_variance <br>"
   ]
  },
  {
   "cell_type": "markdown",
   "metadata": {
    "id": "Pw1cJ4SsNRZn"
   },
   "source": [
    "<u> Procedure </u><br>\n",
    "Null hypothesis : The variance of each group in the gene is the same . <br>\n",
    "so  if the p-value of significance is <= 0.05 we reject the null hypothesis , meaning that this gene is able to predict once group of cancer well and hence should be considered. <br>\n",
    "Else, it means that particular gene is not showing any variance in each group, thus not able to predict any group in particular. (accepting null hypothesis). We should not consider this gene .\n",
    "<br>\n",
    "<br>\n",
    "<br>\n",
    "<u> Code </u><br>\n",
    "https://towardsdatascience.com/hypothesis-testing-in-machine-learning-using-python-a0dc89e169ce <br>"
   ]
  },
  {
   "cell_type": "code",
   "execution_count": 24,
   "metadata": {
    "id": "stNkXQptNRZn"
   },
   "outputs": [],
   "source": [
    "def ANOVA(data,labels):\n",
    "  gene_pvalue = {}\n",
    "  gene_to_consider =[]\n",
    "  groups = pd.unique(labels.Class.values)\n",
    "  for col in range(1,data.shape[1]):\n",
    "    d_data = {grp:data.iloc[:,col][labels.Class == grp] for grp in groups}\n",
    "    F, p = stats.f_oneway(d_data['PRAD'], d_data['LUAD'], d_data['BRCA'],d_data['KIRC'],d_data['COAD'])\n",
    "    gene_pvalue[\"gene_\"+str(col- 1)] = p\n",
    "  for key,value in gene_pvalue.items():\n",
    "    if value <= 0.05:\n",
    "        gene_to_consider.append(key)\n",
    "  return gene_to_consider"
   ]
  },
  {
   "cell_type": "code",
   "execution_count": 25,
   "metadata": {
    "colab": {
     "base_uri": "https://localhost:8080/"
    },
    "id": "AhHm_EwtNRZn",
    "outputId": "49c121a7-46da-44a2-95a9-11fea1fbe33b"
   },
   "outputs": [
    {
     "name": "stderr",
     "output_type": "stream",
     "text": [
      "/usr/local/lib/python3.7/dist-packages/scipy/stats/stats.py:3349: RuntimeWarning:\n",
      "\n",
      "invalid value encountered in double_scalars\n",
      "\n"
     ]
    }
   ],
   "source": [
    "gene_to_consider = ANOVA(data,labels)"
   ]
  },
  {
   "cell_type": "code",
   "execution_count": 26,
   "metadata": {
    "colab": {
     "base_uri": "https://localhost:8080/"
    },
    "id": "p97RE0SNNRZn",
    "outputId": "015ca5d1-7a58-4363-db23-2b98b6d94daa"
   },
   "outputs": [
    {
     "data": {
      "text/plain": [
       "19571"
      ]
     },
     "execution_count": 26,
     "metadata": {
      "tags": []
     },
     "output_type": "execute_result"
    }
   ],
   "source": [
    "len(gene_to_consider)"
   ]
  },
  {
   "cell_type": "markdown",
   "metadata": {
    "id": "QCprM7EyNRZn"
   },
   "source": [
    "we have removed 961 columns using ANOVA test <br>\n",
    "thus the new dataset is  <br>"
   ]
  },
  {
   "cell_type": "code",
   "execution_count": 27,
   "metadata": {
    "id": "sqczYhEDNRZn"
   },
   "outputs": [],
   "source": [
    "new_data = pd.DataFrame()\n",
    "new_data['Sample'] = data['Sample'].values\n",
    "for gene in gene_to_consider:\n",
    "    new_data[gene] = data[gene].values\n"
   ]
  },
  {
   "cell_type": "markdown",
   "metadata": {
    "id": "xMb2EEHUNRZo"
   },
   "source": [
    "- <u>Imbalance </u>"
   ]
  },
  {
   "cell_type": "code",
   "execution_count": 28,
   "metadata": {
    "colab": {
     "base_uri": "https://localhost:8080/",
     "height": 484
    },
    "id": "6PCvst7uNRZo",
    "outputId": "69ef40a5-ad2a-4a6b-beac-3cb815d91a68"
   },
   "outputs": [
    {
     "data": {
      "text/plain": [
       "<matplotlib.axes._subplots.AxesSubplot at 0x7fec7c3b6550>"
      ]
     },
     "execution_count": 28,
     "metadata": {
      "tags": []
     },
     "output_type": "execute_result"
    },
    {
     "data": {
      "image/png": "[encoded data removed]",
      "text/plain": [
       "<Figure size 576x576 with 1 Axes>"
      ]
     },
     "metadata": {
      "tags": []
     },
     "output_type": "display_data"
    }
   ],
   "source": [
    "labels.Class.value_counts().plot(kind=\"pie\", autopct='%.1f%%', figsize=(8,8))"
   ]
  },
  {
   "cell_type": "markdown",
   "metadata": {
    "id": "4kVxh8tLNRZo"
   },
   "source": [
    "we can see that the data is not balanced <br>\n",
    "BRCA percentage is highest and COAD the lowest <br>\n",
    "We can use SMOTE to synthesize new data for the classes with lower percentage. <br>\n",
    "<b>But SMOTE should only be applied to training set <b> <br>"
   ]
  },
  {
   "cell_type": "markdown",
   "metadata": {
    "id": "Qx-Tz_nfNRZo"
   },
   "source": [
    "<br>"
   ]
  },
  {
   "cell_type": "markdown",
   "metadata": {
    "id": "pKfUu3k4NRZo"
   },
   "source": [
    "- <u>Stratifying Multi-Class Data </u><br>\n",
    "using train_test_split with an option to straify gives an issues as some under - respresented classes don't meet the minimum requirement to be divided into a class <br>"
   ]
  },
  {
   "cell_type": "code",
   "execution_count": 29,
   "metadata": {
    "id": "F_iGIXObNRZp"
   },
   "outputs": [],
   "source": [
    "def stratify_data(data_to_stratify,split_num):\n",
    "  train = pd.DataFrame()\n",
    "  test = pd.DataFrame()\n",
    "  grp = data_to_stratify.groupby('Class')\n",
    "  BRCA = grp.get_group('BRCA')\n",
    "  KIRC = grp.get_group('KIRC')\n",
    "  LUAD = grp.get_group('LUAD')\n",
    "  PRAD = grp.get_group('PRAD')\n",
    "  COAD = grp.get_group('COAD')\n",
    "  split = math.ceil(split_num* BRCA.shape[0])\n",
    "  train = train.append(BRCA.iloc[0:split,:],ignore_index = True)\n",
    "  test = test.append(BRCA.iloc[split:BRCA.shape[0],:],ignore_index = True)\n",
    "  print(\"split\",split)\n",
    "  print(train.shape)\n",
    "  split = math.ceil(split_num* KIRC.shape[0])\n",
    "  train = train.append(KIRC.iloc[0:split,:],ignore_index = True)\n",
    "  test = test.append(KIRC.iloc[split:KIRC.shape[0],:],ignore_index = True)\n",
    "  print(\"split\",split)\n",
    "\n",
    "  print(train.shape)\n",
    "  split = math.ceil(split_num* LUAD.shape[0])\n",
    "  train = train.append(LUAD.iloc[0:split,:],ignore_index = True)\n",
    "  test = test.append(LUAD.iloc[split:LUAD.shape[0],:],ignore_index = True)\n",
    "  print(\"split\",split)\n",
    "  print(train.shape)\n",
    "  split = math.ceil(split_num* PRAD.shape[0])\n",
    "  train = train.append(PRAD.iloc[0:split,:],ignore_index = True)\n",
    "  test = test.append(PRAD.iloc[split:PRAD.shape[0],:],ignore_index = True)\n",
    "  print(\"split\",split)\n",
    "  print(train.shape)\n",
    "  split = math.ceil(split_num* COAD.shape[0])\n",
    "  train = train.append(COAD.iloc[0:split,:],ignore_index = True)\n",
    "  test = test.append(COAD.iloc[split:COAD.shape[0],:],ignore_index = True)\n",
    "  return train,test\n"
   ]
  },
  {
   "cell_type": "code",
   "execution_count": 30,
   "metadata": {
    "colab": {
     "base_uri": "https://localhost:8080/"
    },
    "id": "G5wHx7mYNRZp",
    "outputId": "8010f8c2-4b42-4544-fa3e-fa18b9d1184b"
   },
   "outputs": [
    {
     "name": "stdout",
     "output_type": "stream",
     "text": [
      "split 200\n",
      "(200, 19574)\n",
      "split 98\n",
      "(298, 19574)\n",
      "split 94\n",
      "(392, 19574)\n",
      "split 91\n",
      "(483, 19574)\n"
     ]
    }
   ],
   "source": [
    "frames= [new_data,labels]\n",
    "clubbed = pd.concat(frames,sort=False,axis=1)\n",
    "clubbed.drop(['Sample'],axis=1)\n",
    "train,test = stratify_data(clubbed,(2/3))"
   ]
  },
  {
   "cell_type": "code",
   "execution_count": 31,
   "metadata": {
    "colab": {
     "base_uri": "https://localhost:8080/"
    },
    "id": "2NXj5l11NRZp",
    "outputId": "c0a39157-5c1b-410d-8192-42324e26fd5a"
   },
   "outputs": [
    {
     "name": "stdout",
     "output_type": "stream",
     "text": [
      "(535, 19574)\n",
      "(266, 19574)\n"
     ]
    }
   ],
   "source": [
    "print(train.shape)\n",
    "print(test.shape)"
   ]
  },
  {
   "cell_type": "markdown",
   "metadata": {
    "id": "uz343uxnNRZq"
   },
   "source": [
    "checking for duplicates after splitting the data manually. <br>\n",
    "have used the column called sample to check if there are same samples repeating in train and test <br>\n",
    "taken an intersection of the two lists"
   ]
  },
  {
   "cell_type": "code",
   "execution_count": 32,
   "metadata": {
    "colab": {
     "base_uri": "https://localhost:8080/"
    },
    "id": "MaUytsNqNRZq",
    "outputId": "053929eb-323d-4c9a-c772-aa5226e18719"
   },
   "outputs": [
    {
     "data": {
      "text/plain": [
       "set()"
      ]
     },
     "execution_count": 32,
     "metadata": {
      "tags": []
     },
     "output_type": "execute_result"
    }
   ],
   "source": [
    "set(train.iloc[:,0]).intersection(test.iloc[:,0])"
   ]
  },
  {
   "cell_type": "code",
   "execution_count": 33,
   "metadata": {
    "colab": {
     "base_uri": "https://localhost:8080/"
    },
    "id": "Y6UdnO2VNRZq",
    "outputId": "bb6e4962-d597-4525-ccd1-b13628c99696"
   },
   "outputs": [
    {
     "name": "stdout",
     "output_type": "stream",
     "text": [
      "split 150\n",
      "(150, 19574)\n",
      "split 74\n",
      "(224, 19574)\n",
      "split 71\n",
      "(295, 19574)\n",
      "split 69\n",
      "(364, 19574)\n"
     ]
    }
   ],
   "source": [
    "dev,val = stratify_data(train,(3/4))"
   ]
  },
  {
   "cell_type": "code",
   "execution_count": 34,
   "metadata": {
    "colab": {
     "base_uri": "https://localhost:8080/"
    },
    "id": "HO-VPWEiNRZr",
    "outputId": "1cff4535-889c-4cff-ec0e-5836328b40ba"
   },
   "outputs": [
    {
     "name": "stdout",
     "output_type": "stream",
     "text": [
      "(403, 19574)\n",
      "(132, 19574)\n"
     ]
    }
   ],
   "source": [
    "print(dev.shape)\n",
    "print(val.shape)"
   ]
  },
  {
   "cell_type": "code",
   "execution_count": 35,
   "metadata": {
    "colab": {
     "base_uri": "https://localhost:8080/"
    },
    "id": "iLQbFOXsNRZs",
    "outputId": "8ee7d9fd-2b98-48f2-a424-ece02dc0fd53"
   },
   "outputs": [
    {
     "data": {
      "text/plain": [
       "set()"
      ]
     },
     "execution_count": 35,
     "metadata": {
      "tags": []
     },
     "output_type": "execute_result"
    }
   ],
   "source": [
    "set(dev.iloc[:,0]).intersection(val.iloc[:,0])\n"
   ]
  },
  {
   "cell_type": "markdown",
   "metadata": {
    "id": "XYkrK78CNRZs"
   },
   "source": [
    "- <u> Categorical Data </u> "
   ]
  },
  {
   "cell_type": "markdown",
   "metadata": {
    "id": "mwvNxAQyNRZs"
   },
   "source": [
    "Before we start trianing the models we have to encode the categorical target labels <br>\n",
    "I am using category_encoders to do this."
   ]
  },
  {
   "cell_type": "code",
   "execution_count": 198,
   "metadata": {
    "id": "l3YHBwPRNRZs"
   },
   "outputs": [],
   "source": [
    "train_data = dev.iloc[:,1:-2]\n",
    "train_label = dev.iloc[:,-1:]\n",
    "test_data = test.iloc[:,1:-2]\n",
    "test_label = test.iloc[:,-1:]\n",
    "val_data = val.iloc[:,1:-2]\n",
    "val_label = val.iloc[:,-1:]"
   ]
  },
  {
   "cell_type": "markdown",
   "metadata": {
    "id": "BJ3aghnNNRZs"
   },
   "source": [
    "My target labels were textual data, so was not very sure how hot-encoding would work <br>\n",
    "hence i coverted them into numerical categories starting from 0 to 4 <br>\n",
    "then used one hot encoding "
   ]
  },
  {
   "cell_type": "code",
   "execution_count": 199,
   "metadata": {
    "colab": {
     "base_uri": "https://localhost:8080/"
    },
    "id": "MUuI9y5yNRZs",
    "outputId": "a2db6b0c-1f8e-436c-aaf8-e07314a5b428"
   },
   "outputs": [
    {
     "name": "stderr",
     "output_type": "stream",
     "text": [
      "/usr/local/lib/python3.7/dist-packages/category_encoders/utils.py:21: FutureWarning:\n",
      "\n",
      "is_categorical is deprecated and will be removed in a future version.  Use is_categorical_dtype instead\n",
      "\n"
     ]
    }
   ],
   "source": [
    "train_label_e = encoder.fit_transform(train_label)\n",
    "val_label_e = encoder.fit_transform(val_label)\n",
    "test_label_e = encoder.fit_transform(test_label)"
   ]
  },
  {
   "cell_type": "code",
   "execution_count": 200,
   "metadata": {
    "id": "Mx0uooWQNRZt"
   },
   "outputs": [],
   "source": [
    "train_label_hotE = to_categorical(train_label_e,5)\n",
    "val_label_hotE = to_categorical(val_label_e,5)\n",
    "test_label_hotE = to_categorical(test_label_e,5)"
   ]
  },
  {
   "cell_type": "markdown",
   "metadata": {
    "id": "aKVQwMvVNRZt"
   },
   "source": [
    "<br>"
   ]
  },
  {
   "cell_type": "markdown",
   "metadata": {
    "id": "wiQiswA6NRZt"
   },
   "source": [
    "<font color='blue'> --------------------------------------------------------------------------------------------------------------------------------------------------------------------------------</font>"
   ]
  },
  {
   "cell_type": "markdown",
   "metadata": {
    "id": "dAyQWuRNNRZt"
   },
   "source": [
    "- <u> Training Models (without SMOTE) </u>"
   ]
  },
  {
   "cell_type": "markdown",
   "metadata": {
    "id": "jKZZR6FHNRZt"
   },
   "source": [
    "1.) Decision Trees"
   ]
  },
  {
   "cell_type": "code",
   "execution_count": 39,
   "metadata": {
    "id": "wej9ne-QNRZu"
   },
   "outputs": [],
   "source": [
    "model = tree.DecisionTreeClassifier(max_depth=6,random_state=10)"
   ]
  },
  {
   "cell_type": "code",
   "execution_count": 40,
   "metadata": {
    "colab": {
     "base_uri": "https://localhost:8080/"
    },
    "id": "pT_tw2sNNRZu",
    "outputId": "1dd8a216-5a67-4a35-a511-a162cc2f4649"
   },
   "outputs": [
    {
     "data": {
      "text/plain": [
       "DecisionTreeClassifier(ccp_alpha=0.0, class_weight=None, criterion='gini',\n",
       "                       max_depth=6, max_features=None, max_leaf_nodes=None,\n",
       "                       min_impurity_decrease=0.0, min_impurity_split=None,\n",
       "                       min_samples_leaf=1, min_samples_split=2,\n",
       "                       min_weight_fraction_leaf=0.0, presort='deprecated',\n",
       "                       random_state=10, splitter='best')"
      ]
     },
     "execution_count": 40,
     "metadata": {
      "tags": []
     },
     "output_type": "execute_result"
    }
   ],
   "source": [
    "model.fit(train_data, train_label_e)"
   ]
  },
  {
   "cell_type": "code",
   "execution_count": 41,
   "metadata": {
    "id": "qq-ZnOi1NRZu"
   },
   "outputs": [],
   "source": [
    "y_predict = model.predict(val_data)"
   ]
  },
  {
   "cell_type": "code",
   "execution_count": 42,
   "metadata": {
    "colab": {
     "base_uri": "https://localhost:8080/"
    },
    "id": "4ibWQJmyNRZu",
    "outputId": "d598ccd9-ed49-4828-8d31-0da6ae825d0c"
   },
   "outputs": [
    {
     "data": {
      "text/plain": [
       "97.72727272727273"
      ]
     },
     "execution_count": 42,
     "metadata": {
      "tags": []
     },
     "output_type": "execute_result"
    }
   ],
   "source": [
    "f1_score(val_label_e,y_predict,average=\"micro\")*100"
   ]
  },
  {
   "cell_type": "code",
   "execution_count": 43,
   "metadata": {
    "colab": {
     "base_uri": "https://localhost:8080/"
    },
    "id": "ZuW_8q7HNRZu",
    "outputId": "92d0f9b2-0bda-4766-a146-47f223b1ca40"
   },
   "outputs": [
    {
     "data": {
      "text/plain": [
       "95.5785532048732"
      ]
     },
     "execution_count": 43,
     "metadata": {
      "tags": []
     },
     "output_type": "execute_result"
    }
   ],
   "source": [
    "y_predict = model.predict(test_data)\n",
    "f1_score(test_label_e,y_predict,average=\"weighted\")*100"
   ]
  },
  {
   "cell_type": "markdown",
   "metadata": {
    "id": "RhPzYE4FNRZv"
   },
   "source": [
    "<br>"
   ]
  },
  {
   "cell_type": "markdown",
   "metadata": {
    "id": "WEmo3UGNNRZv"
   },
   "source": [
    "2.) Logistic Regression"
   ]
  },
  {
   "cell_type": "code",
   "execution_count": null,
   "metadata": {
    "id": "Gh9h8oPUNRZv",
    "outputId": "01d7ff74-5cd7-45d7-861d-251b69dda47b"
   },
   "outputs": [
    {
     "name": "stderr",
     "output_type": "stream",
     "text": [
      "/opt/conda/lib/python3.7/site-packages/sklearn/linear_model/logistic.py:469: FutureWarning: Default multi_class will be changed to 'auto' in 0.22. Specify the multi_class option to silence this warning.\n",
      "  \"this warning.\", FutureWarning)\n"
     ]
    }
   ],
   "source": [
    "model2 = LogisticRegression(random_state=10,solver=\"newton-cg\").fit(train_data, train_label_e.iloc[:,0].ravel())"
   ]
  },
  {
   "cell_type": "code",
   "execution_count": null,
   "metadata": {
    "id": "AKgtk8dUNRZv",
    "outputId": "0a312276-a513-480e-f140-051fb489c143"
   },
   "outputs": [
    {
     "data": {
      "text/plain": [
       "1.0"
      ]
     },
     "execution_count": 68,
     "metadata": {
      "tags": []
     },
     "output_type": "execute_result"
    }
   ],
   "source": [
    "y_predict = model2.predict(val_data)\n",
    "f1_score(val_label_e, y_predict,average=\"weighted\")"
   ]
  },
  {
   "cell_type": "code",
   "execution_count": null,
   "metadata": {
    "id": "Jn1qM3RBNRZv",
    "outputId": "924ed685-0a9e-4233-e85a-6d61e647598f"
   },
   "outputs": [
    {
     "data": {
      "text/plain": [
       "1.0"
      ]
     },
     "execution_count": 69,
     "metadata": {
      "tags": []
     },
     "output_type": "execute_result"
    }
   ],
   "source": [
    "y_predict = model2.predict(test_data)\n",
    "f1_score(test_label_e, y_predict,average=\"weighted\")"
   ]
  },
  {
   "cell_type": "markdown",
   "metadata": {
    "id": "_rejxjXpNRZw"
   },
   "source": [
    "<br>"
   ]
  },
  {
   "cell_type": "markdown",
   "metadata": {
    "id": "PHMNUHq3NRZw"
   },
   "source": [
    "3.) KNN"
   ]
  },
  {
   "cell_type": "code",
   "execution_count": null,
   "metadata": {
    "id": "vHdNkLlINRZw"
   },
   "outputs": [],
   "source": [
    "model3 = KNeighborsClassifier(n_neighbors=7,weights=\"distance\").fit(train_data,train_label_e.iloc[:,0].ravel())"
   ]
  },
  {
   "cell_type": "code",
   "execution_count": null,
   "metadata": {
    "id": "_KaghAXoNRZw",
    "outputId": "db4fa26f-9183-4abc-9350-3e38906c94da"
   },
   "outputs": [
    {
     "data": {
      "text/plain": [
       "1.0"
      ]
     },
     "execution_count": 71,
     "metadata": {
      "tags": []
     },
     "output_type": "execute_result"
    }
   ],
   "source": [
    "y_predict = model3.predict(val_data)\n",
    "f1_score(val_label_e, y_predict,average=\"micro\")"
   ]
  },
  {
   "cell_type": "code",
   "execution_count": null,
   "metadata": {
    "id": "GqZbA7G1NRZw",
    "outputId": "b81e3a03-1efc-44b1-dbec-591e43a6f9b7"
   },
   "outputs": [
    {
     "data": {
      "text/plain": [
       "1.0"
      ]
     },
     "execution_count": 72,
     "metadata": {
      "tags": []
     },
     "output_type": "execute_result"
    }
   ],
   "source": [
    "y_predict = model3.predict(test_data)\n",
    "f1_score(test_label_e, y_predict,average=\"micro\")"
   ]
  },
  {
   "cell_type": "markdown",
   "metadata": {
    "id": "FQOf9cTZNRZx"
   },
   "source": [
    "<br>"
   ]
  },
  {
   "cell_type": "markdown",
   "metadata": {
    "id": "hX9Eu3LJNRZx"
   },
   "source": [
    "4.) SVC"
   ]
  },
  {
   "cell_type": "code",
   "execution_count": 47,
   "metadata": {
    "id": "gcCo2fPsXV4a"
   },
   "outputs": [],
   "source": [
    "model5  = SVC(kernel=\"linear\",gamma=\"scale\",random_state=10).fit(train_data,train_label.iloc[:,0].ravel())"
   ]
  },
  {
   "cell_type": "code",
   "execution_count": 49,
   "metadata": {
    "colab": {
     "base_uri": "https://localhost:8080/"
    },
    "id": "Weq-Dy2CXV2O",
    "outputId": "953f7bbf-abef-4989-c36c-bd9a9860d3e7"
   },
   "outputs": [
    {
     "data": {
      "text/plain": [
       "1.0"
      ]
     },
     "execution_count": 49,
     "metadata": {
      "tags": []
     },
     "output_type": "execute_result"
    }
   ],
   "source": [
    "y_predict = model5.predict(val_data)\n",
    "f1_score(val_label, y_predict,average=\"micro\")"
   ]
  },
  {
   "cell_type": "code",
   "execution_count": 50,
   "metadata": {
    "colab": {
     "base_uri": "https://localhost:8080/"
    },
    "id": "V_6x_2pDXVzl",
    "outputId": "b2cb826f-bf27-4ea0-a032-c7b208c21155"
   },
   "outputs": [
    {
     "data": {
      "text/plain": [
       "1.0"
      ]
     },
     "execution_count": 50,
     "metadata": {
      "tags": []
     },
     "output_type": "execute_result"
    }
   ],
   "source": [
    "y_predict = model5.predict(test_data)\n",
    "f1_score(test_label, y_predict,average=\"micro\")"
   ]
  },
  {
   "cell_type": "code",
   "execution_count": null,
   "metadata": {
    "id": "L3j03WCWNRZx",
    "outputId": "cb824f6f-50a6-40cf-cf3c-6abef78b103b"
   },
   "outputs": [
    {
     "name": "stdout",
     "output_type": "stream",
     "text": [
      "Iteration 1, loss = inf\n",
      "Iteration 2, loss = 149.70376930\n",
      "Iteration 3, loss = inf\n",
      "Iteration 4, loss = inf\n",
      "Iteration 5, loss = 121.87894597\n",
      "Iteration 6, loss = inf\n",
      "Iteration 7, loss = 70.04938222\n",
      "Iteration 8, loss = 41.50202368\n",
      "Iteration 9, loss = inf\n",
      "Iteration 10, loss = 20.23374380\n",
      "Iteration 11, loss = 17.31468631\n",
      "Iteration 12, loss = 6.15498878\n",
      "Iteration 13, loss = 7.06042469\n",
      "Iteration 14, loss = 10.77512395\n",
      "Iteration 15, loss = 4.87329052\n",
      "Iteration 16, loss = 4.96281591\n",
      "Iteration 17, loss = 5.40648958\n",
      "Iteration 18, loss = 6.15052851\n",
      "Iteration 19, loss = 3.71861332\n",
      "Iteration 20, loss = 6.42399459\n",
      "Iteration 21, loss = 2.97954564\n",
      "Iteration 22, loss = 3.01682199\n",
      "Iteration 23, loss = 2.20454810\n",
      "Iteration 24, loss = 0.74599931\n",
      "Iteration 25, loss = 0.91039697\n",
      "Iteration 26, loss = 0.25047480\n",
      "Iteration 27, loss = 0.98175731\n",
      "Iteration 28, loss = 0.64208731\n",
      "Iteration 29, loss = 1.06388629\n",
      "Iteration 30, loss = 0.29366870\n",
      "Iteration 31, loss = 0.29165158\n",
      "Iteration 32, loss = 0.19240349\n",
      "Iteration 33, loss = 0.05930623\n",
      "Iteration 34, loss = 0.06304490\n",
      "Iteration 35, loss = 0.07679939\n",
      "Iteration 36, loss = 0.06481700\n",
      "Iteration 37, loss = 0.05449663\n",
      "Iteration 38, loss = 0.04741039\n",
      "Iteration 39, loss = 0.03956434\n",
      "Iteration 40, loss = 0.18989351\n",
      "Iteration 41, loss = 0.50895379\n",
      "Iteration 42, loss = 0.03730921\n",
      "Iteration 43, loss = 0.18249106\n",
      "Iteration 44, loss = 0.17143460\n",
      "Iteration 45, loss = 0.06494914\n",
      "Iteration 46, loss = 0.04436417\n",
      "Iteration 47, loss = 0.04350698\n",
      "Iteration 48, loss = 0.04283857\n",
      "Iteration 49, loss = 0.03369355\n",
      "Iteration 50, loss = 0.02085974\n",
      "Iteration 51, loss = 0.01633395\n",
      "Iteration 52, loss = 0.01600897\n",
      "Iteration 53, loss = 0.01796249\n",
      "Iteration 54, loss = 0.01774323\n",
      "Iteration 55, loss = 0.01497644\n",
      "Iteration 56, loss = 0.01321043\n",
      "Iteration 57, loss = 0.01283905\n",
      "Iteration 58, loss = 0.01284806\n",
      "Iteration 59, loss = 0.01260719\n",
      "Iteration 60, loss = 0.01200954\n",
      "Iteration 61, loss = 0.01113246\n",
      "Iteration 62, loss = 0.01065868\n",
      "Iteration 63, loss = 0.01036697\n",
      "Iteration 64, loss = 0.01017099\n",
      "Iteration 65, loss = 0.01010717\n",
      "Iteration 66, loss = 0.01002714\n",
      "Iteration 67, loss = 0.01002537\n",
      "Iteration 68, loss = 0.00992090\n",
      "Iteration 69, loss = 0.00984896\n",
      "Iteration 70, loss = 0.00976363\n",
      "Iteration 71, loss = 0.00971979\n",
      "Iteration 72, loss = 0.00968522\n",
      "Iteration 73, loss = 0.00963394\n",
      "Iteration 74, loss = 0.00958526\n",
      "Iteration 75, loss = 0.00954435\n",
      "Iteration 76, loss = 0.00950352\n",
      "Iteration 77, loss = 0.00947324\n",
      "Iteration 78, loss = 0.00943008\n",
      "Iteration 79, loss = 0.00940269\n",
      "Training loss did not improve more than tol=0.000100 for 10 consecutive epochs. Stopping.\n"
     ]
    },
    {
     "data": {
      "text/plain": [
       "MLPClassifier(activation='relu', alpha=0.01, batch_size='auto', beta_1=0.9,\n",
       "              beta_2=0.999, early_stopping=False, epsilon=1e-08,\n",
       "              hidden_layer_sizes=(100,), learning_rate='adaptive',\n",
       "              learning_rate_init=0.001, max_iter=100, momentum=0.9,\n",
       "              n_iter_no_change=10, nesterovs_momentum=True, power_t=0.5,\n",
       "              random_state=None, shuffle=True, solver='adam', tol=0.0001,\n",
       "              validation_fraction=0.1, verbose='True', warm_start=False)"
      ]
     },
     "execution_count": 73,
     "metadata": {
      "tags": []
     },
     "output_type": "execute_result"
    }
   ],
   "source": [
    "\n",
    "# model4 = MLPClassifier(alpha=0.01, hidden_layer_sizes = (100,), max_iter = 100, \n",
    "#                  verbose = 'True', learning_rate = 'adaptive')\n",
    "# model4.out_activation_ = 'softmax'\n",
    "# model4.fit(train_data,train_label_hotE)"
   ]
  },
  {
   "cell_type": "code",
   "execution_count": null,
   "metadata": {
    "id": "Wbn7lWXfNRZx",
    "outputId": "43a2e367-fdc1-455c-9a2f-4394eb1c83ca"
   },
   "outputs": [
    {
     "data": {
      "text/plain": [
       "1.0"
      ]
     },
     "execution_count": 74,
     "metadata": {
      "tags": []
     },
     "output_type": "execute_result"
    }
   ],
   "source": [
    "# y_predict = model4.predict(val_data)\n",
    "# f1_score(val_label_hotE, y_predict,average=\"micro\")"
   ]
  },
  {
   "cell_type": "code",
   "execution_count": null,
   "metadata": {
    "id": "3n1Tj1MLNRZx",
    "outputId": "6f665b16-93b7-42c6-c1e4-5cb84dabbb09"
   },
   "outputs": [
    {
     "data": {
      "text/plain": [
       "0.9962264150943396"
      ]
     },
     "execution_count": 75,
     "metadata": {
      "tags": []
     },
     "output_type": "execute_result"
    }
   ],
   "source": [
    "# y_predict = model4.predict(test_data)\n",
    "# f1_score(to_categorical(test_label_e), y_predict,average=\"micro\")"
   ]
  },
  {
   "cell_type": "markdown",
   "metadata": {
    "id": "2bENUDMJNRZy"
   },
   "source": [
    "<br>"
   ]
  },
  {
   "cell_type": "markdown",
   "metadata": {
    "id": "KtcrEps_NRZy"
   },
   "source": [
    "<u>Train Model after applying SMOTE </u>"
   ]
  },
  {
   "cell_type": "code",
   "execution_count": null,
   "metadata": {
    "id": "HrHdMeHhNRZy",
    "outputId": "e459a5ef-ad81-4b4a-be84-3d52c4f9b4e6"
   },
   "outputs": [
    {
     "name": "stderr",
     "output_type": "stream",
     "text": [
      "/opt/conda/lib/python3.7/site-packages/sklearn/utils/validation.py:724: DataConversionWarning: A column-vector y was passed when a 1d array was expected. Please change the shape of y to (n_samples, ), for example using ravel().\n",
      "  y = column_or_1d(y, warn=True)\n"
     ]
    }
   ],
   "source": [
    "sm = SMOTE(random_state=42)\n",
    "train_data_smote,train_label_smote = sm.fit_resample(train_data,train_label)"
   ]
  },
  {
   "cell_type": "markdown",
   "metadata": {
    "id": "UIPfszSmNRZy"
   },
   "source": [
    "<br>"
   ]
  },
  {
   "cell_type": "markdown",
   "metadata": {
    "id": "H4LUuIJoNRZy"
   },
   "source": [
    "- Decision Trees"
   ]
  },
  {
   "cell_type": "code",
   "execution_count": null,
   "metadata": {
    "id": "aTMU-0DUNRZy"
   },
   "outputs": [],
   "source": [
    "model_smote = tree.DecisionTreeClassifier(max_depth=6,random_state=10)"
   ]
  },
  {
   "cell_type": "code",
   "execution_count": null,
   "metadata": {
    "id": "w_XT4MYkNRZz",
    "outputId": "97ba8b61-137f-42e0-b40c-04d21b898c12"
   },
   "outputs": [
    {
     "data": {
      "text/plain": [
       "DecisionTreeClassifier(class_weight=None, criterion='gini', max_depth=6,\n",
       "                       max_features=None, max_leaf_nodes=None,\n",
       "                       min_impurity_decrease=0.0, min_impurity_split=None,\n",
       "                       min_samples_leaf=1, min_samples_split=2,\n",
       "                       min_weight_fraction_leaf=0.0, presort=False,\n",
       "                       random_state=10, splitter='best')"
      ]
     },
     "execution_count": 79,
     "metadata": {
      "tags": []
     },
     "output_type": "execute_result"
    }
   ],
   "source": [
    "model.fit(train_data_smote, train_label_smote)"
   ]
  },
  {
   "cell_type": "code",
   "execution_count": null,
   "metadata": {
    "id": "d3foGb3_NRZz",
    "outputId": "5b7e5ea9-f604-405b-fad6-964ebcc7d579"
   },
   "outputs": [
    {
     "data": {
      "text/plain": [
       "98.48484848484848"
      ]
     },
     "execution_count": 92,
     "metadata": {
      "tags": []
     },
     "output_type": "execute_result"
    }
   ],
   "source": [
    "y_predict = model.predict(val_data)\n",
    "f1_score(val_label,y_predict,average=\"micro\")*100"
   ]
  },
  {
   "cell_type": "code",
   "execution_count": null,
   "metadata": {
    "id": "1fFVu6EoNRZz",
    "outputId": "fcfa3544-4cb9-4955-f017-84cd62efe819"
   },
   "outputs": [
    {
     "data": {
      "text/plain": [
       "98.14060662018123"
      ]
     },
     "execution_count": 83,
     "metadata": {
      "tags": []
     },
     "output_type": "execute_result"
    }
   ],
   "source": [
    "y_predict = model.predict(test_data)\n",
    "f1_score(test_label,y_predict,average=\"weighted\")*100"
   ]
  },
  {
   "cell_type": "markdown",
   "metadata": {
    "id": "ILfI9wsHNRZz"
   },
   "source": [
    "\n"
   ]
  },
  {
   "cell_type": "markdown",
   "metadata": {
    "id": "Fmf0uLo5NRZz"
   },
   "source": [
    "- Logistic Regression"
   ]
  },
  {
   "cell_type": "code",
   "execution_count": null,
   "metadata": {
    "id": "nci3giOgNRZ0",
    "outputId": "190502f5-fad8-4ea4-826d-4b75707ffa7b"
   },
   "outputs": [
    {
     "name": "stderr",
     "output_type": "stream",
     "text": [
      "/opt/conda/lib/python3.7/site-packages/sklearn/linear_model/logistic.py:469: FutureWarning: Default multi_class will be changed to 'auto' in 0.22. Specify the multi_class option to silence this warning.\n",
      "  \"this warning.\", FutureWarning)\n"
     ]
    }
   ],
   "source": [
    "model2_smote = LogisticRegression(random_state=10,solver=\"newton-cg\").fit(train_data_smote, train_label_smote)"
   ]
  },
  {
   "cell_type": "code",
   "execution_count": null,
   "metadata": {
    "id": "jH5hqnScNRZ0",
    "outputId": "9a1b7dc8-d6d3-49c5-d1a1-4c95b2af4b2f"
   },
   "outputs": [
    {
     "data": {
      "text/plain": [
       "1.0"
      ]
     },
     "execution_count": 90,
     "metadata": {
      "tags": []
     },
     "output_type": "execute_result"
    }
   ],
   "source": [
    "y_predict = model2.predict(val_data)\n",
    "f1_score(val_label_e, y_predict,average=\"weighted\")"
   ]
  },
  {
   "cell_type": "code",
   "execution_count": null,
   "metadata": {
    "id": "IBVme5hPNRZ0",
    "outputId": "0160c153-d3f1-4672-8f08-9e3f0d83b17c"
   },
   "outputs": [
    {
     "data": {
      "text/plain": [
       "98.14060662018123"
      ]
     },
     "execution_count": 94,
     "metadata": {
      "tags": []
     },
     "output_type": "execute_result"
    }
   ],
   "source": [
    "y_predict = model.predict(test_data)\n",
    "f1_score(test_label,y_predict,average=\"weighted\")*100"
   ]
  },
  {
   "cell_type": "markdown",
   "metadata": {
    "id": "37ihm9LENRZ0"
   },
   "source": [
    "Here we can see that SMOTE has not improved the f score much just 1% and in Logistic regression it seems to have reduced the f1 score"
   ]
  },
  {
   "cell_type": "markdown",
   "metadata": {
    "id": "2YTsqRpHNRZ2"
   },
   "source": [
    "so we can go ahead without SMOTE"
   ]
  },
  {
   "cell_type": "markdown",
   "metadata": {
    "id": "TIJlI-e2NRZ2"
   },
   "source": [
    "<br>"
   ]
  },
  {
   "cell_type": "markdown",
   "metadata": {
    "id": "4myHyx5jNRZ2"
   },
   "source": [
    "<u>Cross - Validation /Hyper-paramter Tuning using OPTUNA </u>"
   ]
  },
  {
   "cell_type": "code",
   "execution_count": 52,
   "metadata": {
    "id": "-Y6aCvonNRZ2"
   },
   "outputs": [],
   "source": [
    "def objective_classifier(trial): \n",
    "    \n",
    "    classifier_name = trial.suggest_categorical(\"classifier\", [\"DecisionTree\", \"LogisticRegression\", \"KNN\",\"SVC\"])\n",
    "    \n",
    "    if classifier_name == \"DecisionTree\":\n",
    "        max_depth = trial.suggest_int(\"max_depth\", 5,20, step=5, log=False)\n",
    "        criterion = trial.suggest_categorical(\"criterion\",[\"gini\",\"entropy\"])\n",
    "        min_samples_split = trial.suggest_int(\"min_samples_split\",2,5,step=1,log=False)\n",
    "        model = tree.DecisionTreeClassifier(max_depth=max_depth,criterion=criterion,min_samples_split=min_samples_split,random_state=10)\n",
    "        \n",
    "    elif classifier_name == \"LogisticRegression\":\n",
    "#         penalty = trial.suggest_categorical(\"penalty\", [ \"l2\", \"elasticnet\", \"none\"])\n",
    "        solver = trial.suggest_categorical(\"solver\",[ \"lbfgs\", \"liblinear\", \"sag\", \"saga\",\"newton-cg\"])\n",
    "        model = LogisticRegression(random_state=10,solver=solver)\n",
    "\n",
    "    elif classifier_name == \"KNN\":\n",
    "        n_neighbors = trial.suggest_int(\"n_neighbors\",5,15,step=1,log=False)\n",
    "        algorithm = trial.suggest_categorical(\"algorithm\", [\"auto\", \"ball_tree\", \"kd_tree\", \"brute\"])\n",
    "        metric = trial.suggest_categorical(\"metric\",[\"euclidean\",\"manhattan\",\"chebyshev\",\"minkowski\"])\n",
    "        weights = trial.suggest_categorical(\"weights\",[\"uniform\",\"distance\"])\n",
    "        model = KNeighborsClassifier(n_neighbors=n_neighbors,algorithm=algorithm,metric=metric,weights=weights)\n",
    "    \n",
    "    elif classifier_name == \"SVC\":\n",
    "        kernel = trial.suggest_categorical(\"kernel\", [\"linear\",\"poly\",\"rbf\",\"sigmoid\",\"precomputed\"])\n",
    "        gamma = trial.suggest_categorical(\"gamma\", [\"auto\",\"scale\"])\n",
    "        model= SVC(random_state=10,kernel=kernel,gamma=gamma)\n",
    "    score = sklearn.model_selection.cross_val_score(model, train_data, train_label_e.iloc[:,0].ravel(),cv=3)\n",
    "    accuracy = score.mean()\n",
    "    \n",
    "    return accuracy"
   ]
  },
  {
   "cell_type": "code",
   "execution_count": 53,
   "metadata": {
    "colab": {
     "base_uri": "https://localhost:8080/"
    },
    "id": "uqeVtbW4NRZ2",
    "outputId": "585f9e47-98d6-4480-c2ed-d0499cbed884"
   },
   "outputs": [
    {
     "name": "stderr",
     "output_type": "stream",
     "text": [
      "\u001b[32m[I 2021-04-27 17:29:35,279]\u001b[0m A new study created in memory with name: no-name-c2db1ef1-a1ea-4409-ab06-b537a7ceef80\u001b[0m\n",
      "\u001b[32m[I 2021-04-27 17:29:35,771]\u001b[0m Trial 0 finished with value: 0.9950617283950617 and parameters: {'classifier': 'KNN', 'n_neighbors': 9, 'algorithm': 'brute', 'metric': 'euclidean', 'weights': 'uniform'}. Best is trial 0 with value: 0.9950617283950617.\u001b[0m\n",
      "\u001b[32m[I 2021-04-27 17:29:41,860]\u001b[0m Trial 1 finished with value: 0.9950617283950617 and parameters: {'classifier': 'KNN', 'n_neighbors': 11, 'algorithm': 'auto', 'metric': 'euclidean', 'weights': 'distance'}. Best is trial 0 with value: 0.9950617283950617.\u001b[0m\n",
      "\u001b[32m[I 2021-04-27 17:29:48,030]\u001b[0m Trial 2 finished with value: 0.9950617283950617 and parameters: {'classifier': 'KNN', 'n_neighbors': 11, 'algorithm': 'auto', 'metric': 'minkowski', 'weights': 'uniform'}. Best is trial 0 with value: 0.9950617283950617.\u001b[0m\n",
      "\u001b[32m[I 2021-04-27 17:29:58,440]\u001b[0m Trial 3 finished with value: 0.37221300902892945 and parameters: {'classifier': 'SVC', 'kernel': 'sigmoid', 'gamma': 'auto'}. Best is trial 0 with value: 0.9950617283950617.\u001b[0m\n",
      "\u001b[32m[I 2021-04-27 17:30:08,777]\u001b[0m Trial 4 finished with value: 0.37221300902892945 and parameters: {'classifier': 'SVC', 'kernel': 'sigmoid', 'gamma': 'auto'}. Best is trial 0 with value: 0.9950617283950617.\u001b[0m\n",
      "\u001b[32m[I 2021-04-27 17:30:13,560]\u001b[0m Trial 5 finished with value: 0.9950617283950617 and parameters: {'classifier': 'SVC', 'kernel': 'poly', 'gamma': 'scale'}. Best is trial 0 with value: 0.9950617283950617.\u001b[0m\n",
      "\u001b[32m[I 2021-04-27 17:30:19,447]\u001b[0m Trial 6 finished with value: 0.9950617283950617 and parameters: {'classifier': 'KNN', 'n_neighbors': 5, 'algorithm': 'kd_tree', 'metric': 'manhattan', 'weights': 'uniform'}. Best is trial 0 with value: 0.9950617283950617.\u001b[0m\n"
     ]
    }
   ],
   "source": [
    "cstudy = optuna.create_study(direction=\"maximize\")\n",
    "cstudy.optimize(objective_classifier, n_trials=7)"
   ]
  },
  {
   "cell_type": "code",
   "execution_count": 54,
   "metadata": {
    "id": "KM2mgX4_YtPL"
   },
   "outputs": [],
   "source": [
    "model_optuna = KNeighborsClassifier(n_neighbors=9,weights=\"uniform\",algorithm=\"brute\",metric=\"euclidean\").fit(train_data,train_label_e.iloc[:,0].ravel())"
   ]
  },
  {
   "cell_type": "code",
   "execution_count": 56,
   "metadata": {
    "colab": {
     "base_uri": "https://localhost:8080/"
    },
    "id": "nNhC0XlBYtZW",
    "outputId": "607970bc-ccf4-4d02-8ada-2ee31b60ef53"
   },
   "outputs": [
    {
     "data": {
      "text/plain": [
       "1.0"
      ]
     },
     "execution_count": 56,
     "metadata": {
      "tags": []
     },
     "output_type": "execute_result"
    }
   ],
   "source": [
    "y_predict = model_optuna.predict(val_data)\n",
    "f1_score(val_label_e, y_predict,average=\"weighted\")"
   ]
  },
  {
   "cell_type": "code",
   "execution_count": 59,
   "metadata": {
    "colab": {
     "base_uri": "https://localhost:8080/"
    },
    "id": "8Bo4-QqtaOTu",
    "outputId": "6c487f6f-ead5-4727-aad4-5a9641a2e9d1"
   },
   "outputs": [
    {
     "data": {
      "text/plain": [
       "1.0"
      ]
     },
     "execution_count": 59,
     "metadata": {
      "tags": []
     },
     "output_type": "execute_result"
    }
   ],
   "source": [
    "y_predict = model_optuna.predict(test_data)\n",
    "f1_score(test_label_e,y_predict,average=\"weighted\")"
   ]
  },
  {
   "cell_type": "markdown",
   "metadata": {
    "id": "xbU3mM3LNRZ3"
   },
   "source": [
    "<br>"
   ]
  },
  {
   "cell_type": "markdown",
   "metadata": {
    "id": "Xg3qiTOsNRZ3"
   },
   "source": [
    "Deep Learning Models"
   ]
  },
  {
   "cell_type": "code",
   "execution_count": 201,
   "metadata": {
    "id": "WMW6IGsqNRZ3"
   },
   "outputs": [],
   "source": [
    "scaler = StandardScaler()\n",
    "train_data = scaler.fit_transform(train_data)\n",
    "val_data = scaler.transform(val_data)\n",
    "test_data = scaler.transform(test_data)"
   ]
  },
  {
   "cell_type": "code",
   "execution_count": 202,
   "metadata": {
    "id": "zpviqbRvNRZ3"
   },
   "outputs": [],
   "source": [
    "np.random.seed(42)\n",
    "tf.random.set_seed(42)"
   ]
  },
  {
   "cell_type": "code",
   "execution_count": 203,
   "metadata": {
    "id": "Q_peeYglNRZ3"
   },
   "outputs": [],
   "source": [
    "DL_model_1 = keras.models.Sequential([\n",
    "    keras.layers.Flatten(input_shape=train_data.shape[1:]),                                  \n",
    "    keras.layers.Dense(1000, activation=\"relu\", ),\n",
    "    keras.layers.Dense(500, activation=\"relu\"),\n",
    "    keras.layers.Dense(5,activation=\"softmax\")\n",
    "])"
   ]
  },
  {
   "cell_type": "code",
   "execution_count": 204,
   "metadata": {
    "id": "4NATXHpINRZ3"
   },
   "outputs": [],
   "source": [
    "DL_model_1.compile(loss=keras.losses.binary_crossentropy, optimizer=keras.optimizers.RMSprop(), metrics=['accuracy'])"
   ]
  },
  {
   "cell_type": "code",
   "execution_count": 205,
   "metadata": {
    "colab": {
     "base_uri": "https://localhost:8080/"
    },
    "id": "47S8NHXLNRZ3",
    "outputId": "dfd6fd2d-62c6-4ff9-f06e-3a81a3323d71"
   },
   "outputs": [
    {
     "name": "stdout",
     "output_type": "stream",
     "text": [
      "Model: \"sequential_11\"\n",
      "_________________________________________________________________\n",
      "Layer (type)                 Output Shape              Param #   \n",
      "=================================================================\n",
      "flatten_3 (Flatten)          (None, 19571)             0         \n",
      "_________________________________________________________________\n",
      "dense_33 (Dense)             (None, 1000)              19572000  \n",
      "_________________________________________________________________\n",
      "dense_34 (Dense)             (None, 500)               500500    \n",
      "_________________________________________________________________\n",
      "dense_35 (Dense)             (None, 5)                 2505      \n",
      "=================================================================\n",
      "Total params: 20,075,005\n",
      "Trainable params: 20,075,005\n",
      "Non-trainable params: 0\n",
      "_________________________________________________________________\n"
     ]
    }
   ],
   "source": [
    "DL_model_1.summary()"
   ]
  },
  {
   "cell_type": "code",
   "execution_count": 206,
   "metadata": {
    "colab": {
     "base_uri": "https://localhost:8080/"
    },
    "id": "-n3tFl--NRZ3",
    "outputId": "d9452d59-ef9d-4b7e-f887-5b767518b65f"
   },
   "outputs": [
    {
     "name": "stdout",
     "output_type": "stream",
     "text": [
      "Epoch 1/50\n",
      "13/13 [==============================] - 3s 226ms/step - loss: 1.0850 - accuracy: 0.7271 - val_loss: 0.0924 - val_accuracy: 0.9848\n",
      "Epoch 2/50\n",
      "13/13 [==============================] - 3s 204ms/step - loss: 4.5278e-04 - accuracy: 1.0000 - val_loss: 0.0070 - val_accuracy: 1.0000\n",
      "Epoch 3/50\n",
      "13/13 [==============================] - 3s 205ms/step - loss: 0.0083 - accuracy: 1.0000 - val_loss: 0.0447 - val_accuracy: 1.0000\n",
      "Epoch 4/50\n",
      "13/13 [==============================] - 3s 204ms/step - loss: 0.0301 - accuracy: 0.9970 - val_loss: 0.2629 - val_accuracy: 0.9848\n",
      "Epoch 5/50\n",
      "13/13 [==============================] - 3s 205ms/step - loss: 0.4822 - accuracy: 0.9841 - val_loss: 0.0026 - val_accuracy: 1.0000\n",
      "Epoch 6/50\n",
      "13/13 [==============================] - 3s 203ms/step - loss: 0.0208 - accuracy: 1.0000 - val_loss: 6.2947e-13 - val_accuracy: 1.0000\n",
      "Epoch 7/50\n",
      "13/13 [==============================] - 3s 203ms/step - loss: 2.2033e-07 - accuracy: 1.0000 - val_loss: 6.2737e-13 - val_accuracy: 1.0000\n",
      "Epoch 8/50\n",
      "13/13 [==============================] - 3s 205ms/step - loss: 7.3188e-09 - accuracy: 1.0000 - val_loss: 6.2697e-13 - val_accuracy: 1.0000\n",
      "Epoch 9/50\n",
      "13/13 [==============================] - 3s 203ms/step - loss: 3.7488e-09 - accuracy: 1.0000 - val_loss: 6.2602e-13 - val_accuracy: 1.0000\n",
      "Epoch 10/50\n",
      "13/13 [==============================] - 3s 205ms/step - loss: 6.9024e-09 - accuracy: 1.0000 - val_loss: 6.2583e-13 - val_accuracy: 1.0000\n",
      "Epoch 11/50\n",
      "13/13 [==============================] - 3s 201ms/step - loss: 2.2853e-09 - accuracy: 1.0000 - val_loss: 6.2543e-13 - val_accuracy: 1.0000\n",
      "Epoch 12/50\n",
      "13/13 [==============================] - 3s 204ms/step - loss: 3.8712e-09 - accuracy: 1.0000 - val_loss: 6.2545e-13 - val_accuracy: 1.0000\n",
      "Epoch 13/50\n",
      "13/13 [==============================] - 3s 205ms/step - loss: 7.6240e-09 - accuracy: 1.0000 - val_loss: 6.2592e-13 - val_accuracy: 1.0000\n",
      "Epoch 14/50\n",
      "13/13 [==============================] - 3s 201ms/step - loss: 1.8299e-09 - accuracy: 1.0000 - val_loss: 6.2673e-13 - val_accuracy: 1.0000\n",
      "Epoch 15/50\n",
      "13/13 [==============================] - 3s 205ms/step - loss: 1.8500e-09 - accuracy: 1.0000 - val_loss: 6.2890e-13 - val_accuracy: 1.0000\n",
      "Epoch 16/50\n",
      "13/13 [==============================] - 3s 204ms/step - loss: 1.5474e-10 - accuracy: 1.0000 - val_loss: 6.3117e-13 - val_accuracy: 1.0000\n",
      "Epoch 17/50\n",
      "13/13 [==============================] - 3s 203ms/step - loss: 4.2463e-10 - accuracy: 1.0000 - val_loss: 6.3579e-13 - val_accuracy: 1.0000\n",
      "Epoch 18/50\n",
      "13/13 [==============================] - 3s 202ms/step - loss: 3.2144e-10 - accuracy: 1.0000 - val_loss: 6.4041e-13 - val_accuracy: 1.0000\n",
      "Epoch 19/50\n",
      "13/13 [==============================] - 3s 202ms/step - loss: 1.2925e-10 - accuracy: 1.0000 - val_loss: 6.4363e-13 - val_accuracy: 1.0000\n",
      "Epoch 20/50\n",
      "13/13 [==============================] - 3s 206ms/step - loss: 8.4116e-11 - accuracy: 1.0000 - val_loss: 6.4823e-13 - val_accuracy: 1.0000\n",
      "Epoch 21/50\n",
      "13/13 [==============================] - 3s 201ms/step - loss: 6.1779e-11 - accuracy: 1.0000 - val_loss: 6.5320e-13 - val_accuracy: 1.0000\n",
      "Epoch 22/50\n",
      "13/13 [==============================] - 3s 203ms/step - loss: 5.2871e-11 - accuracy: 1.0000 - val_loss: 6.5741e-13 - val_accuracy: 1.0000\n",
      "Epoch 23/50\n",
      "13/13 [==============================] - 3s 201ms/step - loss: 8.2741e-11 - accuracy: 1.0000 - val_loss: 6.6122e-13 - val_accuracy: 1.0000\n",
      "Epoch 24/50\n",
      "13/13 [==============================] - 3s 207ms/step - loss: 3.0539e-11 - accuracy: 1.0000 - val_loss: 6.6454e-13 - val_accuracy: 1.0000\n",
      "Epoch 25/50\n",
      "13/13 [==============================] - 3s 201ms/step - loss: 1.0425e-10 - accuracy: 1.0000 - val_loss: 6.6732e-13 - val_accuracy: 1.0000\n",
      "Epoch 26/50\n",
      "13/13 [==============================] - 3s 202ms/step - loss: 4.8062e-11 - accuracy: 1.0000 - val_loss: 6.6958e-13 - val_accuracy: 1.0000\n",
      "Epoch 27/50\n",
      "13/13 [==============================] - 3s 201ms/step - loss: 7.2091e-12 - accuracy: 1.0000 - val_loss: 6.7140e-13 - val_accuracy: 1.0000\n",
      "Epoch 28/50\n",
      "13/13 [==============================] - 3s 200ms/step - loss: 1.8377e-11 - accuracy: 1.0000 - val_loss: 6.7302e-13 - val_accuracy: 1.0000\n",
      "Epoch 29/50\n",
      "13/13 [==============================] - 3s 203ms/step - loss: 9.1594e-12 - accuracy: 1.0000 - val_loss: 6.7449e-13 - val_accuracy: 1.0000\n",
      "Epoch 30/50\n",
      "13/13 [==============================] - 3s 202ms/step - loss: 1.5677e-11 - accuracy: 1.0000 - val_loss: 6.7575e-13 - val_accuracy: 1.0000\n",
      "Epoch 31/50\n",
      "13/13 [==============================] - 3s 204ms/step - loss: 1.7945e-11 - accuracy: 1.0000 - val_loss: 6.7689e-13 - val_accuracy: 1.0000\n",
      "Epoch 32/50\n",
      "13/13 [==============================] - 3s 207ms/step - loss: 1.3008e-11 - accuracy: 1.0000 - val_loss: 6.7788e-13 - val_accuracy: 1.0000\n",
      "Epoch 33/50\n",
      "13/13 [==============================] - 3s 203ms/step - loss: 1.8851e-11 - accuracy: 1.0000 - val_loss: 6.7880e-13 - val_accuracy: 1.0000\n",
      "Epoch 34/50\n",
      "13/13 [==============================] - 3s 202ms/step - loss: 8.5036e-12 - accuracy: 1.0000 - val_loss: 6.7964e-13 - val_accuracy: 1.0000\n",
      "Epoch 35/50\n",
      "13/13 [==============================] - 3s 202ms/step - loss: 9.7099e-12 - accuracy: 1.0000 - val_loss: 6.8093e-13 - val_accuracy: 1.0000\n",
      "Epoch 36/50\n",
      "13/13 [==============================] - 3s 202ms/step - loss: 1.9722e-11 - accuracy: 1.0000 - val_loss: 6.8161e-13 - val_accuracy: 1.0000\n",
      "Epoch 37/50\n",
      "13/13 [==============================] - 3s 202ms/step - loss: 3.9085e-12 - accuracy: 1.0000 - val_loss: 6.8226e-13 - val_accuracy: 1.0000\n",
      "Epoch 38/50\n",
      "13/13 [==============================] - 3s 203ms/step - loss: 1.1113e-11 - accuracy: 1.0000 - val_loss: 6.8327e-13 - val_accuracy: 1.0000\n",
      "Epoch 39/50\n",
      "13/13 [==============================] - 3s 200ms/step - loss: 1.2403e-11 - accuracy: 1.0000 - val_loss: 6.8386e-13 - val_accuracy: 1.0000\n",
      "Epoch 40/50\n",
      "13/13 [==============================] - 3s 203ms/step - loss: 1.3479e-11 - accuracy: 1.0000 - val_loss: 6.8442e-13 - val_accuracy: 1.0000\n",
      "Epoch 41/50\n",
      "13/13 [==============================] - 3s 202ms/step - loss: 9.1594e-12 - accuracy: 1.0000 - val_loss: 6.8495e-13 - val_accuracy: 1.0000\n",
      "Epoch 42/50\n",
      "13/13 [==============================] - 3s 200ms/step - loss: 5.0015e-12 - accuracy: 1.0000 - val_loss: 6.8545e-13 - val_accuracy: 1.0000\n",
      "Epoch 43/50\n",
      "13/13 [==============================] - 3s 201ms/step - loss: 5.5021e-12 - accuracy: 1.0000 - val_loss: 6.8593e-13 - val_accuracy: 1.0000\n",
      "Epoch 44/50\n",
      "13/13 [==============================] - 3s 202ms/step - loss: 2.5965e-12 - accuracy: 1.0000 - val_loss: 6.8639e-13 - val_accuracy: 1.0000\n",
      "Epoch 45/50\n",
      "13/13 [==============================] - 3s 200ms/step - loss: 1.0123e-11 - accuracy: 1.0000 - val_loss: 6.8682e-13 - val_accuracy: 1.0000\n",
      "Epoch 46/50\n",
      "13/13 [==============================] - 3s 200ms/step - loss: 6.7002e-12 - accuracy: 1.0000 - val_loss: 6.8725e-13 - val_accuracy: 1.0000\n",
      "Epoch 47/50\n",
      "13/13 [==============================] - 3s 201ms/step - loss: 2.0775e-12 - accuracy: 1.0000 - val_loss: 6.8769e-13 - val_accuracy: 1.0000\n",
      "Epoch 48/50\n",
      "13/13 [==============================] - 3s 201ms/step - loss: 4.6892e-12 - accuracy: 1.0000 - val_loss: 6.8807e-13 - val_accuracy: 1.0000\n",
      "Epoch 49/50\n",
      "13/13 [==============================] - 3s 201ms/step - loss: 8.2169e-12 - accuracy: 1.0000 - val_loss: 6.8844e-13 - val_accuracy: 1.0000\n",
      "Epoch 50/50\n",
      "13/13 [==============================] - 3s 200ms/step - loss: 1.4214e-11 - accuracy: 1.0000 - val_loss: 6.8880e-13 - val_accuracy: 1.0000\n"
     ]
    }
   ],
   "source": [
    "history = DL_model_1.fit(train_data, train_label_hotE, epochs=50, validation_data=(val_data, val_label_hotE))"
   ]
  },
  {
   "cell_type": "code",
   "execution_count": null,
   "metadata": {
    "id": "w0BJjpUsNRZ4",
    "outputId": "5116c6d1-0c77-45f7-b4d4-2e1102cb97fc"
   },
   "outputs": [
    {
     "data": {
      "image/png": "[encoded data removed]",
      "text/plain": [
       "<Figure size 432x288 with 1 Axes>"
      ]
     },
     "metadata": {
      "needs_background": "light",
      "tags": []
     },
     "output_type": "display_data"
    }
   ],
   "source": [
    "plt.plot(history.epoch,history.history['loss'],label=\"Training Loss\")\n",
    "plt.plot(history.epoch,history.history['val_loss'],label=\"Validation Loss\")\n",
    "plt.title(\"Training and Validation Loss\")\n",
    "plt.xlabel(\"epoch\")\n",
    "plt.ylabel(\"loss\")\n",
    "plt.legend()\n",
    "plt.show()"
   ]
  },
  {
   "cell_type": "code",
   "execution_count": null,
   "metadata": {
    "id": "Z4ydiFZPNRZ4",
    "outputId": "453dd53e-b42e-486d-fd97-a975028f1618"
   },
   "outputs": [
    {
     "data": {
      "image/png": "[encoded data removed]",
      "text/plain": [
       "<Figure size 432x288 with 1 Axes>"
      ]
     },
     "metadata": {
      "needs_background": "light",
      "tags": []
     },
     "output_type": "display_data"
    }
   ],
   "source": [
    "plt.plot(history.epoch,history.history['accuracy'],label=\"Training accuracy\")\n",
    "plt.plot(history.epoch,history.history['val_accuracy'],label=\"Validation accuracy\")\n",
    "plt.title(\"Training and Validation Accuracy\")\n",
    "plt.xlabel(\"epoch\")\n",
    "plt.ylabel(\"accuracy\")\n",
    "plt.legend()\n",
    "plt.show()"
   ]
  },
  {
   "cell_type": "code",
   "execution_count": 207,
   "metadata": {
    "colab": {
     "base_uri": "https://localhost:8080/"
    },
    "id": "cJgNwUxZNRZ4",
    "outputId": "69a24bda-0fa4-485e-a434-0f1e9d9dc36d"
   },
   "outputs": [
    {
     "name": "stderr",
     "output_type": "stream",
     "text": [
      "/usr/local/lib/python3.7/dist-packages/tensorflow/python/keras/engine/sequential.py:450: UserWarning:\n",
      "\n",
      "`model.predict_classes()` is deprecated and will be removed after 2021-01-01. Please use instead:* `np.argmax(model.predict(x), axis=-1)`,   if your model does multi-class classification   (e.g. if it uses a `softmax` last-layer activation).* `(model.predict(x) > 0.5).astype(\"int32\")`,   if your model does binary classification   (e.g. if it uses a `sigmoid` last-layer activation).\n",
      "\n"
     ]
    }
   ],
   "source": [
    "predictions = DL_model_1.predict_classes(test_data)"
   ]
  },
  {
   "cell_type": "code",
   "execution_count": 208,
   "metadata": {
    "colab": {
     "base_uri": "https://localhost:8080/"
    },
    "id": "uAWiB85dNRZ4",
    "outputId": "39313903-213c-4794-f4dd-9c527bbd42de"
   },
   "outputs": [
    {
     "data": {
      "text/plain": [
       "0.9924812030075187"
      ]
     },
     "execution_count": 208,
     "metadata": {
      "tags": []
     },
     "output_type": "execute_result"
    }
   ],
   "source": [
    "f1_score(test_label_e,predictions,average=\"micro\")"
   ]
  },
  {
   "cell_type": "markdown",
   "metadata": {
    "id": "aJGXB-cNNRZ5"
   },
   "source": [
    "<br>"
   ]
  },
  {
   "cell_type": "markdown",
   "metadata": {
    "id": "Gxoex5NxNRZ5"
   },
   "source": [
    "- CONV 1D"
   ]
  },
  {
   "cell_type": "code",
   "execution_count": 157,
   "metadata": {
    "colab": {
     "base_uri": "https://localhost:8080/"
    },
    "id": "ZIewvOqoNRZ5",
    "outputId": "dccc14fe-b293-4947-9a8d-0ed6504e6017"
   },
   "outputs": [
    {
     "name": "stderr",
     "output_type": "stream",
     "text": [
      "/usr/local/lib/python3.7/dist-packages/category_encoders/utils.py:21: FutureWarning:\n",
      "\n",
      "is_categorical is deprecated and will be removed in a future version.  Use is_categorical_dtype instead\n",
      "\n"
     ]
    }
   ],
   "source": [
    "scaler = StandardScaler()\n",
    "temp_data = train.iloc[:,1:-2]\n",
    "temp_label = train.iloc[:,-1:]\n",
    "temp_label_e = encoder.fit_transform(temp_label)\n",
    "temp_label_hotE = to_categorical(temp_label_e,5)\n",
    "temp_data = scaler.fit_transform(temp_data)\n",
    "test_data = scaler.fit_transform(test_data)"
   ]
  },
  {
   "cell_type": "code",
   "execution_count": 158,
   "metadata": {
    "colab": {
     "base_uri": "https://localhost:8080/"
    },
    "id": "HZkyrb-PNRZ5",
    "outputId": "256100d3-9bd7-4805-9e75-9b6e1b254c6e"
   },
   "outputs": [
    {
     "name": "stdout",
     "output_type": "stream",
     "text": [
      "After reshape train data set shape:\n",
      " (535, 19571, 1)\n",
      "1 Sample shape:\n",
      " (19571, 1)\n",
      "An example sample:\n",
      " [[-0.28703331]\n",
      " [-0.26366596]\n",
      " [-0.28320974]\n",
      " ...\n",
      " [-0.22131989]\n",
      " [-0.20737862]\n",
      " [-0.26177969]]\n"
     ]
    }
   ],
   "source": [
    "scaler = StandardScaler()\n",
    "temp_data = scaler.fit_transform(temp_data)\n",
    "sample_size = temp_data.shape[0] # number of samples in train set i.e rows\n",
    "time_steps  = temp_data.shape[1] # number of features in train set i.e columns\n",
    "input_dimension = 1               # each feature is represented by 1 number\n",
    "\n",
    "train_data_reshaped = temp_data.reshape(sample_size,time_steps,input_dimension)\n",
    "test_data_reshaped = test_data.reshape(test_data.shape[0],test_data.shape[1],input_dimension)\n",
    "print(\"After reshape train data set shape:\\n\", train_data_reshaped.shape)\n",
    "print(\"1 Sample shape:\\n\",train_data_reshaped[0].shape)\n",
    "print(\"An example sample:\\n\", train_data_reshaped[0])"
   ]
  },
  {
   "cell_type": "code",
   "execution_count": 159,
   "metadata": {
    "colab": {
     "base_uri": "https://localhost:8080/"
    },
    "id": "Yfu0tm6-NRZ5",
    "outputId": "66523766-3840-445e-d1f3-02b95405a0f5"
   },
   "outputs": [
    {
     "name": "stdout",
     "output_type": "stream",
     "text": [
      "Model: \"model_conv1D\"\n",
      "_________________________________________________________________\n",
      "Layer (type)                 Output Shape              Param #   \n",
      "=================================================================\n",
      "Conv1D_1 (Conv1D)            (None, 19512, 80)         4880      \n",
      "_________________________________________________________________\n",
      "dropout (Dropout)            (None, 19512, 80)         0         \n",
      "_________________________________________________________________\n",
      "Conv1D_2 (Conv1D)            (None, 19493, 40)         64040     \n",
      "_________________________________________________________________\n",
      "dropout_1 (Dropout)          (None, 19493, 40)         0         \n",
      "_________________________________________________________________\n",
      "Conv1D_3 (Conv1D)            (None, 19484, 20)         8020      \n",
      "_________________________________________________________________\n",
      "MaxPooling1D (MaxPooling1D)  (None, 1948, 20)          0         \n",
      "_________________________________________________________________\n",
      "flatten (Flatten)            (None, 38960)             0         \n",
      "_________________________________________________________________\n",
      "Dense_1 (Dense)              (None, 500)               19480500  \n",
      "_________________________________________________________________\n",
      "Dense_2 (Dense)              (None, 5)                 2505      \n",
      "=================================================================\n",
      "Total params: 19,559,945\n",
      "Trainable params: 19,559,945\n",
      "Non-trainable params: 0\n",
      "_________________________________________________________________\n"
     ]
    }
   ],
   "source": [
    "def build_conv1D_model_1():\n",
    "\n",
    "  n_timesteps = train_data_reshaped.shape[1] #5\n",
    "  n_features  = train_data_reshaped.shape[2] #1 \n",
    "  model = keras.Sequential(name=\"model_conv1D\")\n",
    "  model.add(keras.layers.Input(shape=(n_timesteps,n_features)))\n",
    "  model.add(keras.layers.Conv1D(filters=80, kernel_size=60, activation='relu', name=\"Conv1D_1\", kernel_regularizer=regularizers.l2(l=0.01)))\n",
    "  model.add(keras.layers.Dropout(0.5))\n",
    "  model.add(keras.layers.Conv1D(filters=40, kernel_size=20, activation='relu', name=\"Conv1D_2\",kernel_regularizer=regularizers.l2(l=0.01)))\n",
    "  model.add(keras.layers.Dropout(0.2))\n",
    "  model.add(keras.layers.Conv1D(filters=20, kernel_size=10, activation='relu', name=\"Conv1D_3\",kernel_regularizer=regularizers.l2(l=0.01)))\n",
    "  \n",
    "  model.add(keras.layers.MaxPooling1D(pool_size=10, name=\"MaxPooling1D\"))\n",
    "  model.add(keras.layers.Flatten())\n",
    "  model.add(keras.layers.Dense(500, activation='relu', name=\"Dense_1\"))\n",
    "  model.add(keras.layers.Dense(5, name=\"Dense_2\",activation=\"softmax\"))\n",
    "\n",
    "\n",
    "  optimizer = tf.keras.optimizers.RMSprop()\n",
    "\n",
    "  model.compile(loss=keras.losses.binary_crossentropy,optimizer=optimizer,metrics=['accuracy'])\n",
    "  return model\n",
    "\n",
    "model_conv1D = build_conv1D_model_1()\n",
    "model_conv1D.summary()"
   ]
  },
  {
   "cell_type": "code",
   "execution_count": 160,
   "metadata": {
    "colab": {
     "base_uri": "https://localhost:8080/"
    },
    "id": "wfUVMBBONRZ6",
    "outputId": "eaeaa88f-2f5c-4516-be4b-3484e66f63bb"
   },
   "outputs": [
    {
     "name": "stdout",
     "output_type": "stream",
     "text": [
      "Epoch 1/10\n",
      "14/14 [==============================] - 128s 9s/step - loss: 3.2708 - accuracy: 0.3015 - val_loss: 1.4098 - val_accuracy: 0.0000e+00\n",
      "Epoch 2/10\n",
      "14/14 [==============================] - 125s 9s/step - loss: 1.0798 - accuracy: 0.5690 - val_loss: 1.7050 - val_accuracy: 0.5047\n",
      "Epoch 3/10\n",
      "14/14 [==============================] - 123s 9s/step - loss: 0.7089 - accuracy: 0.9732 - val_loss: 2.2814 - val_accuracy: 0.5140\n",
      "Epoch 4/10\n",
      "14/14 [==============================] - 127s 9s/step - loss: 0.5433 - accuracy: 0.9975 - val_loss: 2.1651 - val_accuracy: 0.5140\n",
      "Epoch 5/10\n",
      "14/14 [==============================] - 131s 9s/step - loss: 0.4243 - accuracy: 0.9992 - val_loss: 0.9580 - val_accuracy: 0.5047\n",
      "Epoch 6/10\n",
      "14/14 [==============================] - 126s 9s/step - loss: 0.3854 - accuracy: 0.9811 - val_loss: 2.3166 - val_accuracy: 0.5140\n",
      "Epoch 7/10\n",
      "14/14 [==============================] - 125s 9s/step - loss: 0.2349 - accuracy: 1.0000 - val_loss: 2.4181 - val_accuracy: 0.5140\n",
      "Epoch 8/10\n",
      "14/14 [==============================] - 124s 9s/step - loss: 0.1674 - accuracy: 1.0000 - val_loss: 2.4099 - val_accuracy: 0.5140\n",
      "Epoch 9/10\n",
      "14/14 [==============================] - 121s 9s/step - loss: 0.1100 - accuracy: 1.0000 - val_loss: 2.6680 - val_accuracy: 0.5140\n",
      "Epoch 10/10\n",
      "14/14 [==============================] - 122s 9s/step - loss: 0.0658 - accuracy: 1.0000 - val_loss: 2.1751 - val_accuracy: 0.5140\n"
     ]
    }
   ],
   "source": [
    "history1 = model_conv1D.fit(train_data_reshaped, temp_label_hotE, epochs=10,validation_split=0.2, verbose=1)"
   ]
  },
  {
   "cell_type": "code",
   "execution_count": 161,
   "metadata": {
    "colab": {
     "base_uri": "https://localhost:8080/",
     "height": 295
    },
    "id": "5irDDEYwNRZ6",
    "outputId": "03003c89-e4f6-4444-e3f0-87ed56eb69fc"
   },
   "outputs": [
    {
     "data": {
      "image/png": "[encoded data removed]",
      "text/plain": [
       "<Figure size 432x288 with 1 Axes>"
      ]
     },
     "metadata": {
      "needs_background": "light",
      "tags": []
     },
     "output_type": "display_data"
    }
   ],
   "source": [
    "plt.plot(history1.epoch,history1.history['accuracy'],label=\"Training accuracy\")\n",
    "plt.plot(history1.epoch,history1.history['val_accuracy'],label=\"Validation accuracy\")\n",
    "plt.title(\"Training and Validation Accuracy\")\n",
    "plt.xlabel(\"epoch\")\n",
    "plt.ylabel(\"accuracy\")\n",
    "plt.legend()\n",
    "plt.show()"
   ]
  },
  {
   "cell_type": "code",
   "execution_count": 162,
   "metadata": {
    "colab": {
     "base_uri": "https://localhost:8080/",
     "height": 295
    },
    "id": "Jrxuf-PYNRZ6",
    "outputId": "ef0ac48d-e318-4d60-f49b-7c54dfc3760e"
   },
   "outputs": [
    {
     "data": {
      "image/png": "[encoded data removed]",
      "text/plain": [
       "<Figure size 432x288 with 1 Axes>"
      ]
     },
     "metadata": {
      "needs_background": "light",
      "tags": []
     },
     "output_type": "display_data"
    }
   ],
   "source": [
    "plt.plot(history1.epoch,history1.history['loss'],label=\"Training loss\")\n",
    "plt.plot(history1.epoch,history1.history['val_loss'],label=\"Validation loss\")\n",
    "plt.title(\"Training and Validation Loss\")\n",
    "plt.xlabel(\"epoch\")\n",
    "plt.ylabel(\"loss\")\n",
    "plt.legend()\n",
    "plt.show()"
   ]
  },
  {
   "cell_type": "code",
   "execution_count": 182,
   "metadata": {
    "colab": {
     "base_uri": "https://localhost:8080/"
    },
    "id": "tcBw79AgM64S",
    "outputId": "34568119-76eb-4f3a-bd4d-33c8a660e3a7"
   },
   "outputs": [
    {
     "name": "stderr",
     "output_type": "stream",
     "text": [
      "/usr/local/lib/python3.7/dist-packages/tensorflow/python/keras/engine/sequential.py:450: UserWarning:\n",
      "\n",
      "`model.predict_classes()` is deprecated and will be removed after 2021-01-01. Please use instead:* `np.argmax(model.predict(x), axis=-1)`,   if your model does multi-class classification   (e.g. if it uses a `softmax` last-layer activation).* `(model.predict(x) > 0.5).astype(\"int32\")`,   if your model does binary classification   (e.g. if it uses a `sigmoid` last-layer activation).\n",
      "\n"
     ]
    }
   ],
   "source": [
    "test_predictions = model_conv1D.predict_classes(test_data_reshaped).flatten()"
   ]
  },
  {
   "cell_type": "code",
   "execution_count": 186,
   "metadata": {
    "colab": {
     "base_uri": "https://localhost:8080/"
    },
    "id": "b5NyPoPsM_ma",
    "outputId": "15464b4d-d635-4e96-ce73-5fa8ef609bcd"
   },
   "outputs": [
    {
     "data": {
      "text/plain": [
       "0.8984962406015037"
      ]
     },
     "execution_count": 186,
     "metadata": {
      "tags": []
     },
     "output_type": "execute_result"
    }
   ],
   "source": [
    "f1_score(test_label_e,test_predictions,average=\"micro\")\n"
   ]
  },
  {
   "cell_type": "markdown",
   "metadata": {
    "id": "clRxO7bFYcI6"
   },
   "source": [
    "<br>"
   ]
  },
  {
   "cell_type": "markdown",
   "metadata": {
    "id": "YTdzBOZAYd0y"
   },
   "source": [
    "Auto Encoders"
   ]
  },
  {
   "cell_type": "code",
   "execution_count": 209,
   "metadata": {
    "id": "B4LGvNPeYbYl"
   },
   "outputs": [],
   "source": [
    "encoding_dim = 9000\n",
    "input = keras.Input(shape=(19571,))\n",
    "encoded = keras.layers.Dense(encoding_dim, activation='relu')(input)\n",
    "decoded = keras.layers.Dense(19571, activation='softmax')(encoded)"
   ]
  },
  {
   "cell_type": "code",
   "execution_count": null,
   "metadata": {
    "id": "tOXNaQhrYbb6"
   },
   "outputs": [],
   "source": [
    "# encoder-decoder model\n",
    "model = keras.Model(input, decoded)"
   ]
  },
  {
   "cell_type": "code",
   "execution_count": null,
   "metadata": {
    "id": "DCGadvenYbes"
   },
   "outputs": [],
   "source": [
    "model.compile(loss=keras.losses.binary_crossentropy, optimizer=keras.optimizers.RMSprop())"
   ]
  },
  {
   "cell_type": "code",
   "execution_count": null,
   "metadata": {
    "id": "TRAo-wCZYbhD"
   },
   "outputs": [],
   "source": [
    "history = model.fit(train_data, train_data, epochs=30, batch_size=20, verbose=2, validation_data=(val_data,val_data))"
   ]
  },
  {
   "cell_type": "code",
   "execution_count": null,
   "metadata": {
    "id": "R5wxERrFYbjp"
   },
   "outputs": [],
   "source": [
    "# encoder model\n",
    "encoder = keras.Model(input, encoded)\n",
    "X_train_data_e = encoder.predict(train_data)\n",
    "X_val_data_e = encoder.predict(val_data)\n",
    "X_val_data_e.shape\n",
    "X_test_data_e =  encoder.predict(test_data)\n",
    "# X_test_data_e.shape"
   ]
  },
  {
   "cell_type": "code",
   "execution_count": null,
   "metadata": {
    "id": "goR9Ja0YYbmO"
   },
   "outputs": [],
   "source": [
    "DL_model_1 = keras.models.Sequential([\n",
    "    keras.layers.Flatten(input_shape=X_train_data_e.shape[1:]),                                  \n",
    "    keras.layers.Dense(1000, activation=\"relu\", ),\n",
    "    keras.layers.Dense(500, activation=\"relu\"),\n",
    "    keras.layers.Dense(5,activation=\"softmax\")\n",
    "])"
   ]
  },
  {
   "cell_type": "code",
   "execution_count": null,
   "metadata": {
    "id": "VGKbD5cWYboq"
   },
   "outputs": [],
   "source": [
    "DL_model_1.compile(loss=\"categorical_crossentropy\", optimizer=keras.optimizers.RMSprop(), metrics=['accuracy'])"
   ]
  },
  {
   "cell_type": "code",
   "execution_count": null,
   "metadata": {
    "id": "3C024n0wYu7S"
   },
   "outputs": [],
   "source": [
    "DL_model_1.summary()"
   ]
  },
  {
   "cell_type": "code",
   "execution_count": null,
   "metadata": {
    "id": "0YXdP0kbYwvU"
   },
   "outputs": [],
   "source": [
    "history = DL_model_1.fit(X_train_data_e, train_label_e, epochs=20, validation_data=(X_val_data_e, val_label_e))"
   ]
  },
  {
   "cell_type": "code",
   "execution_count": null,
   "metadata": {
    "id": "QjeFQ8w_Yy0m"
   },
   "outputs": [],
   "source": [
    "predictions = DL_model_1.predict_classes(X_test_data_e)"
   ]
  },
  {
   "cell_type": "code",
   "execution_count": null,
   "metadata": {
    "id": "ITq15WktY1yy"
   },
   "outputs": [],
   "source": [
    "f1_score(test_label_e,to_categorical( predictions),average=\"micro\")"
   ]
  },
  {
   "cell_type": "markdown",
   "metadata": {
    "id": "3ORTujeQ19sp"
   },
   "source": [
    "<br>"
   ]
  },
  {
   "cell_type": "markdown",
   "metadata": {
    "id": "JaZIzYYg1_Qf"
   },
   "source": [
    "Grid Search on Fully connected NN"
   ]
  },
  {
   "cell_type": "code",
   "execution_count": 140,
   "metadata": {
    "id": "5AzIUO2wNRZ7"
   },
   "outputs": [],
   "source": [
    "def build_model(n_hidden=2, n_neurons=30, learning_rate=3e-3, input_shape=train_data.shape[1:],epochs=5,batch_size=5,optimizer='Adam'):\n",
    "    model = keras.models.Sequential()\n",
    "    model.add(keras.layers.InputLayer(input_shape=input_shape))\n",
    "    for layer in range(n_hidden):\n",
    "        model.add(keras.layers.Dense(n_neurons, activation=\"relu\"))\n",
    "    model.add(keras.layers.Dense(5,activation=\"softmax\"))\n",
    "    optimizer = optimizers.RMSprop(lr=learning_rate)\n",
    "    model.compile(loss=\"binary_crossentropy\", optimizer=optimizer, metrics=[\"accuracy\"])\n",
    "    return model"
   ]
  },
  {
   "cell_type": "code",
   "execution_count": 141,
   "metadata": {
    "id": "Cl16_8QO2FMo"
   },
   "outputs": [],
   "source": [
    "parameter_space = {\n",
    "'n_neurons': [30,40,50],\n",
    "'optimizer': ['sgd', 'adam'],\n",
    "'epochs': [5,10],\n",
    "'batch_size': [5,10,100],\n",
    "\n",
    "}"
   ]
  },
  {
   "cell_type": "code",
   "execution_count": 142,
   "metadata": {
    "id": "psEDF6fh2Hhc"
   },
   "outputs": [],
   "source": [
    "keras_classifier = KerasClassifier(build_model)"
   ]
  },
  {
   "cell_type": "code",
   "execution_count": 94,
   "metadata": {
    "id": "_k-oLNR54cNA"
   },
   "outputs": [],
   "source": []
  },
  {
   "cell_type": "code",
   "execution_count": 143,
   "metadata": {
    "id": "uxcGnU9J2TF4"
   },
   "outputs": [],
   "source": [
    "classifier = GridSearchCV(keras_classifier, parameter_space, n_jobs=-1,scoring=None, cv=3)"
   ]
  },
  {
   "cell_type": "code",
   "execution_count": 144,
   "metadata": {
    "colab": {
     "base_uri": "https://localhost:8080/"
    },
    "id": "OY_Txsxl2dE8",
    "outputId": "b3432006-eaaf-4914-e2aa-164eb6d9bec3"
   },
   "outputs": [
    {
     "name": "stderr",
     "output_type": "stream",
     "text": [
      "/usr/local/lib/python3.7/dist-packages/joblib/externals/loky/process_executor.py:691: UserWarning:\n",
      "\n",
      "A worker stopped while some jobs were given to the executor. This can be caused by a too short worker timeout or by a memory leak.\n",
      "\n"
     ]
    },
    {
     "name": "stdout",
     "output_type": "stream",
     "text": [
      "Epoch 1/10\n",
      "5/5 [==============================] - 1s 24ms/step - loss: 63.0850 - accuracy: 0.1878\n",
      "Epoch 2/10\n",
      "5/5 [==============================] - 0s 25ms/step - loss: 50.4724 - accuracy: 0.2573\n",
      "Epoch 3/10\n",
      "5/5 [==============================] - 0s 24ms/step - loss: 21.5670 - accuracy: 0.1696\n",
      "Epoch 4/10\n",
      "5/5 [==============================] - 0s 23ms/step - loss: 15.9599 - accuracy: 0.1679\n",
      "Epoch 5/10\n",
      "5/5 [==============================] - 0s 23ms/step - loss: 8.1272 - accuracy: 0.3898\n",
      "Epoch 6/10\n",
      "5/5 [==============================] - 0s 22ms/step - loss: 11.6199 - accuracy: 0.2131\n",
      "Epoch 7/10\n",
      "5/5 [==============================] - 0s 25ms/step - loss: 11.8208 - accuracy: 0.2583\n",
      "Epoch 8/10\n",
      "5/5 [==============================] - 0s 24ms/step - loss: 2.1056 - accuracy: 0.5051\n",
      "Epoch 9/10\n",
      "5/5 [==============================] - 0s 23ms/step - loss: 3.2234 - accuracy: 0.2965\n",
      "Epoch 10/10\n",
      "5/5 [==============================] - 0s 21ms/step - loss: 0.8257 - accuracy: 0.3740\n"
     ]
    },
    {
     "data": {
      "text/plain": [
       "GridSearchCV(cv=3, error_score=nan,\n",
       "             estimator=<tensorflow.python.keras.wrappers.scikit_learn.KerasClassifier object at 0x7fec7a785090>,\n",
       "             iid='deprecated', n_jobs=-1,\n",
       "             param_grid={'batch_size': [5, 10, 100], 'epochs': [5, 10],\n",
       "                         'n_neurons': [30, 40, 50],\n",
       "                         'optimizer': ['sgd', 'adam']},\n",
       "             pre_dispatch='2*n_jobs', refit=True, return_train_score=False,\n",
       "             scoring=None, verbose=0)"
      ]
     },
     "execution_count": 144,
     "metadata": {
      "tags": []
     },
     "output_type": "execute_result"
    }
   ],
   "source": [
    "# classifier.fit(train_data,train_label['Class'].ravel())\n",
    "classifier.fit(train_data,train_label_hotE)"
   ]
  },
  {
   "cell_type": "code",
   "execution_count": 145,
   "metadata": {
    "colab": {
     "base_uri": "https://localhost:8080/"
    },
    "id": "T5WvViLb2nYq",
    "outputId": "a5f08d4a-679b-4955-a116-23e2a5f98195"
   },
   "outputs": [
    {
     "data": {
      "text/plain": [
       "{'batch_size': 100, 'epochs': 10, 'n_neurons': 50, 'optimizer': 'adam'}"
      ]
     },
     "execution_count": 145,
     "metadata": {
      "tags": []
     },
     "output_type": "execute_result"
    }
   ],
   "source": [
    "classifier.best_params_"
   ]
  },
  {
   "cell_type": "code",
   "execution_count": 155,
   "metadata": {
    "colab": {
     "base_uri": "https://localhost:8080/"
    },
    "id": "ROWaO6f-HKuK",
    "outputId": "88ce4449-a2aa-4b37-a0d4-01730f4b376c"
   },
   "outputs": [
    {
     "name": "stderr",
     "output_type": "stream",
     "text": [
      "/usr/local/lib/python3.7/dist-packages/tensorflow/python/keras/engine/sequential.py:450: UserWarning:\n",
      "\n",
      "`model.predict_classes()` is deprecated and will be removed after 2021-01-01. Please use instead:* `np.argmax(model.predict(x), axis=-1)`,   if your model does multi-class classification   (e.g. if it uses a `softmax` last-layer activation).* `(model.predict(x) > 0.5).astype(\"int32\")`,   if your model does binary classification   (e.g. if it uses a `sigmoid` last-layer activation).\n",
      "\n"
     ]
    }
   ],
   "source": [
    "predictions = np.argmax(classifier.predict(test_data), axis=-1)"
   ]
  },
  {
   "cell_type": "code",
   "execution_count": 156,
   "metadata": {
    "colab": {
     "base_uri": "https://localhost:8080/"
    },
    "id": "vOum71752pkp",
    "outputId": "c9b1a5bb-e874-4944-fb9e-97f95744ac6d"
   },
   "outputs": [
    {
     "data": {
      "text/plain": [
       "0"
      ]
     },
     "execution_count": 156,
     "metadata": {
      "tags": []
     },
     "output_type": "execute_result"
    }
   ],
   "source": [
    "# f1_score(test_label,predictions,average='micro')\n",
    "predictions"
   ]
  },
  {
   "cell_type": "code",
   "execution_count": null,
   "metadata": {
    "id": "kPsJMf3IJotL"
   },
   "outputs": [],
   "source": []
  }
 ],
 "metadata": {
  "colab": {
   "collapsed_sections": [],
   "name": "RNA_Final.ipynb",
   "provenance": []
  },
  "kernelspec": {
   "display_name": "Python 3",
   "language": "python",
   "name": "python3"
  },
  "language_info": {
   "codemirror_mode": {
    "name": "ipython",
    "version": 3
   },
   "file_extension": ".py",
   "mimetype": "text/x-python",
   "name": "python",
   "nbconvert_exporter": "python",
   "pygments_lexer": "ipython3",
   "version": "3.8.0"
  }
 },
 "nbformat": 4,
 "nbformat_minor": 1
}
