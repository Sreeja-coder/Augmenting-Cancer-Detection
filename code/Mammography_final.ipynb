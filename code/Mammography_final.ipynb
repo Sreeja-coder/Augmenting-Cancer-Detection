{
  "nbformat": 4,
  "nbformat_minor": 0,
  "metadata": {
    "kernelspec": {
      "display_name": "Python 3",
      "language": "python",
      "name": "python3"
    },
    "language_info": {
      "codemirror_mode": {
        "name": "ipython",
        "version": 3
      },
      "file_extension": ".py",
      "mimetype": "text/x-python",
      "name": "python",
      "nbconvert_exporter": "python",
      "pygments_lexer": "ipython3",
      "version": "3.7.3"
    },
    "colab": {
      "name": "Mammography_final.ipynb",
      "provenance": [],
      "collapsed_sections": []
    }
  },
  "cells": [
    {
      "cell_type": "code",
      "metadata": {
        "colab": {
          "base_uri": "https://localhost:8080/"
        },
        "id": "axlNUrMmRoYw",
        "outputId": "a24b1f5d-a947-4fdc-8040-da41f4fc44f1"
      },
      "source": [
        "pip install optuna"
      ],
      "execution_count": 2,
      "outputs": [
        {
          "output_type": "stream",
          "text": [
            "Collecting optuna\n",
            "\u001b[?25l  Downloading https://files.pythonhosted.org/packages/2b/21/d13081805e1e1afc71f5bb743ece324c8bd576237c51b899ecb38a717502/optuna-2.7.0-py3-none-any.whl (293kB)\n",
            "\r\u001b[K     |█▏                              | 10kB 13.3MB/s eta 0:00:01\r\u001b[K     |██▎                             | 20kB 18.9MB/s eta 0:00:01\r\u001b[K     |███▍                            | 30kB 13.4MB/s eta 0:00:01\r\u001b[K     |████▌                           | 40kB 10.1MB/s eta 0:00:01\r\u001b[K     |█████▋                          | 51kB 7.8MB/s eta 0:00:01\r\u001b[K     |██████▊                         | 61kB 8.0MB/s eta 0:00:01\r\u001b[K     |███████▉                        | 71kB 7.4MB/s eta 0:00:01\r\u001b[K     |█████████                       | 81kB 8.1MB/s eta 0:00:01\r\u001b[K     |██████████                      | 92kB 8.3MB/s eta 0:00:01\r\u001b[K     |███████████▏                    | 102kB 8.5MB/s eta 0:00:01\r\u001b[K     |████████████▎                   | 112kB 8.5MB/s eta 0:00:01\r\u001b[K     |█████████████▍                  | 122kB 8.5MB/s eta 0:00:01\r\u001b[K     |██████████████▌                 | 133kB 8.5MB/s eta 0:00:01\r\u001b[K     |███████████████▋                | 143kB 8.5MB/s eta 0:00:01\r\u001b[K     |████████████████▊               | 153kB 8.5MB/s eta 0:00:01\r\u001b[K     |█████████████████▉              | 163kB 8.5MB/s eta 0:00:01\r\u001b[K     |███████████████████             | 174kB 8.5MB/s eta 0:00:01\r\u001b[K     |████████████████████            | 184kB 8.5MB/s eta 0:00:01\r\u001b[K     |█████████████████████▏          | 194kB 8.5MB/s eta 0:00:01\r\u001b[K     |██████████████████████▎         | 204kB 8.5MB/s eta 0:00:01\r\u001b[K     |███████████████████████▍        | 215kB 8.5MB/s eta 0:00:01\r\u001b[K     |████████████████████████▋       | 225kB 8.5MB/s eta 0:00:01\r\u001b[K     |█████████████████████████▊      | 235kB 8.5MB/s eta 0:00:01\r\u001b[K     |██████████████████████████▉     | 245kB 8.5MB/s eta 0:00:01\r\u001b[K     |████████████████████████████    | 256kB 8.5MB/s eta 0:00:01\r\u001b[K     |█████████████████████████████   | 266kB 8.5MB/s eta 0:00:01\r\u001b[K     |██████████████████████████████▏ | 276kB 8.5MB/s eta 0:00:01\r\u001b[K     |███████████████████████████████▎| 286kB 8.5MB/s eta 0:00:01\r\u001b[K     |████████████████████████████████| 296kB 8.5MB/s \n",
            "\u001b[?25hRequirement already satisfied: packaging>=20.0 in /usr/local/lib/python3.7/dist-packages (from optuna) (20.9)\n",
            "Requirement already satisfied: numpy in /usr/local/lib/python3.7/dist-packages (from optuna) (1.19.5)\n",
            "Requirement already satisfied: tqdm in /usr/local/lib/python3.7/dist-packages (from optuna) (4.41.1)\n",
            "Requirement already satisfied: scipy!=1.4.0 in /usr/local/lib/python3.7/dist-packages (from optuna) (1.4.1)\n",
            "Collecting cmaes>=0.8.2\n",
            "  Downloading https://files.pythonhosted.org/packages/01/1f/43b01223a0366171f474320c6e966c39a11587287f098a5f09809b45e05f/cmaes-0.8.2-py3-none-any.whl\n",
            "Requirement already satisfied: sqlalchemy>=1.1.0 in /usr/local/lib/python3.7/dist-packages (from optuna) (1.4.7)\n",
            "Collecting cliff\n",
            "\u001b[?25l  Downloading https://files.pythonhosted.org/packages/a2/d6/7d9acb68a77acd140be7fececb7f2701b2a29d2da9c54184cb8f93509590/cliff-3.7.0-py3-none-any.whl (80kB)\n",
            "\u001b[K     |████████████████████████████████| 81kB 7.1MB/s \n",
            "\u001b[?25hCollecting alembic\n",
            "\u001b[?25l  Downloading https://files.pythonhosted.org/packages/72/a4/97eb6273839655cac14947986fa7a5935350fcfd4fff872e9654264c82d8/alembic-1.5.8-py2.py3-none-any.whl (159kB)\n",
            "\u001b[K     |████████████████████████████████| 163kB 12.1MB/s \n",
            "\u001b[?25hCollecting colorlog\n",
            "  Downloading https://files.pythonhosted.org/packages/32/e6/e9ddc6fa1104fda718338b341e4b3dc31cd8039ab29e52fc73b508515361/colorlog-5.0.1-py2.py3-none-any.whl\n",
            "Requirement already satisfied: pyparsing>=2.0.2 in /usr/local/lib/python3.7/dist-packages (from packaging>=20.0->optuna) (2.4.7)\n",
            "Requirement already satisfied: importlib-metadata; python_version < \"3.8\" in /usr/local/lib/python3.7/dist-packages (from sqlalchemy>=1.1.0->optuna) (3.10.1)\n",
            "Requirement already satisfied: greenlet!=0.4.17; python_version >= \"3\" in /usr/local/lib/python3.7/dist-packages (from sqlalchemy>=1.1.0->optuna) (1.0.0)\n",
            "Collecting cmd2>=1.0.0\n",
            "\u001b[?25l  Downloading https://files.pythonhosted.org/packages/15/8b/15061b32332bb35ea2a2f6263d0f616779d576e82739ec8e7fcf3c94abf5/cmd2-1.5.0-py3-none-any.whl (133kB)\n",
            "\u001b[K     |████████████████████████████████| 143kB 14.5MB/s \n",
            "\u001b[?25hRequirement already satisfied: PyYAML>=3.12 in /usr/local/lib/python3.7/dist-packages (from cliff->optuna) (3.13)\n",
            "Requirement already satisfied: PrettyTable>=0.7.2 in /usr/local/lib/python3.7/dist-packages (from cliff->optuna) (2.1.0)\n",
            "Collecting stevedore>=2.0.1\n",
            "\u001b[?25l  Downloading https://files.pythonhosted.org/packages/d4/49/b602307aeac3df3384ff1fcd05da9c0376c622a6c48bb5325f28ab165b57/stevedore-3.3.0-py3-none-any.whl (49kB)\n",
            "\u001b[K     |████████████████████████████████| 51kB 5.5MB/s \n",
            "\u001b[?25hCollecting pbr!=2.1.0,>=2.0.0\n",
            "\u001b[?25l  Downloading https://files.pythonhosted.org/packages/18/e0/1d4702dd81121d04a477c272d47ee5b6bc970d1a0990b11befa275c55cf2/pbr-5.6.0-py2.py3-none-any.whl (111kB)\n",
            "\u001b[K     |████████████████████████████████| 112kB 17.1MB/s \n",
            "\u001b[?25hCollecting python-editor>=0.3\n",
            "  Downloading https://files.pythonhosted.org/packages/c6/d3/201fc3abe391bbae6606e6f1d598c15d367033332bd54352b12f35513717/python_editor-1.0.4-py3-none-any.whl\n",
            "Collecting Mako\n",
            "\u001b[?25l  Downloading https://files.pythonhosted.org/packages/f3/54/dbc07fbb20865d3b78fdb7cf7fa713e2cba4f87f71100074ef2dc9f9d1f7/Mako-1.1.4-py2.py3-none-any.whl (75kB)\n",
            "\u001b[K     |████████████████████████████████| 81kB 6.6MB/s \n",
            "\u001b[?25hRequirement already satisfied: python-dateutil in /usr/local/lib/python3.7/dist-packages (from alembic->optuna) (2.8.1)\n",
            "Requirement already satisfied: typing-extensions>=3.6.4; python_version < \"3.8\" in /usr/local/lib/python3.7/dist-packages (from importlib-metadata; python_version < \"3.8\"->sqlalchemy>=1.1.0->optuna) (3.7.4.3)\n",
            "Requirement already satisfied: zipp>=0.5 in /usr/local/lib/python3.7/dist-packages (from importlib-metadata; python_version < \"3.8\"->sqlalchemy>=1.1.0->optuna) (3.4.1)\n",
            "Collecting pyperclip>=1.6\n",
            "  Downloading https://files.pythonhosted.org/packages/a7/2c/4c64579f847bd5d539803c8b909e54ba087a79d01bb3aba433a95879a6c5/pyperclip-1.8.2.tar.gz\n",
            "Requirement already satisfied: wcwidth>=0.1.7 in /usr/local/lib/python3.7/dist-packages (from cmd2>=1.0.0->cliff->optuna) (0.2.5)\n",
            "Requirement already satisfied: attrs>=16.3.0 in /usr/local/lib/python3.7/dist-packages (from cmd2>=1.0.0->cliff->optuna) (20.3.0)\n",
            "Collecting colorama>=0.3.7\n",
            "  Downloading https://files.pythonhosted.org/packages/44/98/5b86278fbbf250d239ae0ecb724f8572af1c91f4a11edf4d36a206189440/colorama-0.4.4-py2.py3-none-any.whl\n",
            "Requirement already satisfied: MarkupSafe>=0.9.2 in /usr/local/lib/python3.7/dist-packages (from Mako->alembic->optuna) (1.1.1)\n",
            "Requirement already satisfied: six>=1.5 in /usr/local/lib/python3.7/dist-packages (from python-dateutil->alembic->optuna) (1.15.0)\n",
            "Building wheels for collected packages: pyperclip\n",
            "  Building wheel for pyperclip (setup.py) ... \u001b[?25l\u001b[?25hdone\n",
            "  Created wheel for pyperclip: filename=pyperclip-1.8.2-cp37-none-any.whl size=11107 sha256=f9ed7f08a23c663fb802f77aa923775fae1425f1a1b3efd5c49bc96733fc8065\n",
            "  Stored in directory: /root/.cache/pip/wheels/25/af/b8/3407109267803f4015e1ee2ff23be0c8c19ce4008665931ee1\n",
            "Successfully built pyperclip\n",
            "Installing collected packages: cmaes, pyperclip, colorama, cmd2, pbr, stevedore, cliff, python-editor, Mako, alembic, colorlog, optuna\n",
            "Successfully installed Mako-1.1.4 alembic-1.5.8 cliff-3.7.0 cmaes-0.8.2 cmd2-1.5.0 colorama-0.4.4 colorlog-5.0.1 optuna-2.7.0 pbr-5.6.0 pyperclip-1.8.2 python-editor-1.0.4 stevedore-3.3.0\n"
          ],
          "name": "stdout"
        }
      ]
    },
    {
      "cell_type": "code",
      "metadata": {
        "id": "b9wHR2lANMAF"
      },
      "source": [
        "\n",
        "import pandas as pd\n",
        "import numpy as np\n",
        "from numpy import cov\n",
        "import statistics\n",
        "import os\n",
        "from sklearn.model_selection import train_test_split\n",
        "from sklearn.preprocessing import StandardScaler\n",
        "import optuna\n",
        "import sklearn.model_selection"
      ],
      "execution_count": 3,
      "outputs": []
    },
    {
      "cell_type": "code",
      "metadata": {
        "id": "yK9rhHsrNMAK"
      },
      "source": [
        "import seaborn as sns\n",
        "import matplotlib.pyplot as plt"
      ],
      "execution_count": 4,
      "outputs": []
    },
    {
      "cell_type": "code",
      "metadata": {
        "id": "uWQ8ExS0NMAL"
      },
      "source": [
        "from sklearn import tree\n",
        "from sklearn.linear_model import Perceptron,LogisticRegression\n",
        "from sklearn.neural_network import MLPClassifier\n",
        "from sklearn.neighbors import KNeighborsClassifier\n",
        "from tensorflow.keras.wrappers.scikit_learn import KerasClassifier\n",
        "from sklearn.model_selection import GridSearchCV\n",
        "from sklearn.svm import SVC\n",
        "from sklearn.naive_bayes import GaussianNB\n",
        "from sklearn.metrics import accuracy_score\n",
        "from sklearn.metrics import f1_score\n",
        "import tensorflow as tf\n",
        "from tensorflow import keras\n",
        "from tensorflow.keras import models\n",
        "from tensorflow.keras import layers\n",
        "from tensorflow.keras import optimizers"
      ],
      "execution_count": 126,
      "outputs": []
    },
    {
      "cell_type": "markdown",
      "metadata": {
        "id": "-rTQLQPtNMAM"
      },
      "source": [
        "https://pubmed.ncbi.nlm.nih.gov/18072480/"
      ]
    },
    {
      "cell_type": "code",
      "metadata": {
        "id": "UPxQpw6dNMAM"
      },
      "source": [
        "missing_values = [\"?\",\"n/a\",\"na\"]\n",
        "data_label = pd.read_csv(\"mammographic_masses.data\",header=None,names=['BI-RADS','Age','Shape','Margin','Density','Severity'],na_values=missing_values)"
      ],
      "execution_count": 6,
      "outputs": []
    },
    {
      "cell_type": "code",
      "metadata": {
        "id": "07XsFDC1NMAN"
      },
      "source": [
        "data = data_label.iloc[:,0:5]"
      ],
      "execution_count": 7,
      "outputs": []
    },
    {
      "cell_type": "code",
      "metadata": {
        "colab": {
          "base_uri": "https://localhost:8080/",
          "height": 424
        },
        "id": "olNNjtRGNMAN",
        "outputId": "2e7ab332-3a75-4c82-a911-4dc2bb02f28b"
      },
      "source": [
        "data"
      ],
      "execution_count": 56,
      "outputs": [
        {
          "output_type": "execute_result",
          "data": {
            "text/html": [
              "<div>\n",
              "<style scoped>\n",
              "    .dataframe tbody tr th:only-of-type {\n",
              "        vertical-align: middle;\n",
              "    }\n",
              "\n",
              "    .dataframe tbody tr th {\n",
              "        vertical-align: top;\n",
              "    }\n",
              "\n",
              "    .dataframe thead th {\n",
              "        text-align: right;\n",
              "    }\n",
              "</style>\n",
              "<table border=\"1\" class=\"dataframe\">\n",
              "  <thead>\n",
              "    <tr style=\"text-align: right;\">\n",
              "      <th></th>\n",
              "      <th>BI-RADS</th>\n",
              "      <th>Age</th>\n",
              "      <th>Shape</th>\n",
              "      <th>Margin</th>\n",
              "      <th>Density</th>\n",
              "    </tr>\n",
              "  </thead>\n",
              "  <tbody>\n",
              "    <tr>\n",
              "      <th>0</th>\n",
              "      <td>5.0</td>\n",
              "      <td>67.0</td>\n",
              "      <td>3.0</td>\n",
              "      <td>5.0</td>\n",
              "      <td>3.000000</td>\n",
              "    </tr>\n",
              "    <tr>\n",
              "      <th>1</th>\n",
              "      <td>4.0</td>\n",
              "      <td>43.0</td>\n",
              "      <td>1.0</td>\n",
              "      <td>1.0</td>\n",
              "      <td>2.910734</td>\n",
              "    </tr>\n",
              "    <tr>\n",
              "      <th>2</th>\n",
              "      <td>5.0</td>\n",
              "      <td>58.0</td>\n",
              "      <td>4.0</td>\n",
              "      <td>5.0</td>\n",
              "      <td>3.000000</td>\n",
              "    </tr>\n",
              "    <tr>\n",
              "      <th>3</th>\n",
              "      <td>4.0</td>\n",
              "      <td>28.0</td>\n",
              "      <td>1.0</td>\n",
              "      <td>1.0</td>\n",
              "      <td>3.000000</td>\n",
              "    </tr>\n",
              "    <tr>\n",
              "      <th>4</th>\n",
              "      <td>5.0</td>\n",
              "      <td>74.0</td>\n",
              "      <td>1.0</td>\n",
              "      <td>5.0</td>\n",
              "      <td>2.910734</td>\n",
              "    </tr>\n",
              "    <tr>\n",
              "      <th>...</th>\n",
              "      <td>...</td>\n",
              "      <td>...</td>\n",
              "      <td>...</td>\n",
              "      <td>...</td>\n",
              "      <td>...</td>\n",
              "    </tr>\n",
              "    <tr>\n",
              "      <th>956</th>\n",
              "      <td>4.0</td>\n",
              "      <td>47.0</td>\n",
              "      <td>2.0</td>\n",
              "      <td>1.0</td>\n",
              "      <td>3.000000</td>\n",
              "    </tr>\n",
              "    <tr>\n",
              "      <th>957</th>\n",
              "      <td>4.0</td>\n",
              "      <td>56.0</td>\n",
              "      <td>4.0</td>\n",
              "      <td>5.0</td>\n",
              "      <td>3.000000</td>\n",
              "    </tr>\n",
              "    <tr>\n",
              "      <th>958</th>\n",
              "      <td>4.0</td>\n",
              "      <td>64.0</td>\n",
              "      <td>4.0</td>\n",
              "      <td>5.0</td>\n",
              "      <td>3.000000</td>\n",
              "    </tr>\n",
              "    <tr>\n",
              "      <th>959</th>\n",
              "      <td>5.0</td>\n",
              "      <td>66.0</td>\n",
              "      <td>4.0</td>\n",
              "      <td>5.0</td>\n",
              "      <td>3.000000</td>\n",
              "    </tr>\n",
              "    <tr>\n",
              "      <th>960</th>\n",
              "      <td>4.0</td>\n",
              "      <td>62.0</td>\n",
              "      <td>3.0</td>\n",
              "      <td>3.0</td>\n",
              "      <td>3.000000</td>\n",
              "    </tr>\n",
              "  </tbody>\n",
              "</table>\n",
              "<p>961 rows × 5 columns</p>\n",
              "</div>"
            ],
            "text/plain": [
              "     BI-RADS   Age  Shape  Margin   Density\n",
              "0        5.0  67.0    3.0     5.0  3.000000\n",
              "1        4.0  43.0    1.0     1.0  2.910734\n",
              "2        5.0  58.0    4.0     5.0  3.000000\n",
              "3        4.0  28.0    1.0     1.0  3.000000\n",
              "4        5.0  74.0    1.0     5.0  2.910734\n",
              "..       ...   ...    ...     ...       ...\n",
              "956      4.0  47.0    2.0     1.0  3.000000\n",
              "957      4.0  56.0    4.0     5.0  3.000000\n",
              "958      4.0  64.0    4.0     5.0  3.000000\n",
              "959      5.0  66.0    4.0     5.0  3.000000\n",
              "960      4.0  62.0    3.0     3.0  3.000000\n",
              "\n",
              "[961 rows x 5 columns]"
            ]
          },
          "metadata": {
            "tags": []
          },
          "execution_count": 56
        }
      ]
    },
    {
      "cell_type": "code",
      "metadata": {
        "id": "yqCscrsRNMAO"
      },
      "source": [
        "labels = data_label[['Severity']]"
      ],
      "execution_count": 9,
      "outputs": []
    },
    {
      "cell_type": "markdown",
      "metadata": {
        "id": "gKhJD8I_NMAP"
      },
      "source": [
        "\n",
        "<h3><u>Exploratory Data Analysis<u></h3>"
      ]
    },
    {
      "cell_type": "code",
      "metadata": {
        "colab": {
          "base_uri": "https://localhost:8080/"
        },
        "id": "Xkq732FfNMAP",
        "outputId": "3734112d-3bdc-4f54-b4a8-a54dd4b761b5"
      },
      "source": [
        "print(data.shape)\n",
        "print(labels.shape)"
      ],
      "execution_count": 10,
      "outputs": [
        {
          "output_type": "stream",
          "text": [
            "(961, 5)\n",
            "(961, 1)\n"
          ],
          "name": "stdout"
        }
      ]
    },
    {
      "cell_type": "markdown",
      "metadata": {
        "id": "0rC6653_NMAQ"
      },
      "source": [
        "- <u>shape</u> <br>\n",
        "the dataset has 961 samples with 5 columns <br>\n",
        "and the target has 961 samples with 1 column<br>"
      ]
    },
    {
      "cell_type": "code",
      "metadata": {
        "colab": {
          "base_uri": "https://localhost:8080/"
        },
        "id": "1PplF-9XNMAR",
        "outputId": "8be85ddd-b418-4a81-9ac3-9c8cbb10920a"
      },
      "source": [
        "set(labels['Severity'])"
      ],
      "execution_count": 11,
      "outputs": [
        {
          "output_type": "execute_result",
          "data": {
            "text/plain": [
              "{0, 1}"
            ]
          },
          "metadata": {
            "tags": []
          },
          "execution_count": 11
        }
      ]
    },
    {
      "cell_type": "markdown",
      "metadata": {
        "id": "38lTzS8-NMAS"
      },
      "source": [
        "- <u>outcomes</u> <br>\n",
        "the labels are 0 or 1 stating benign or malignant respectively"
      ]
    },
    {
      "cell_type": "code",
      "metadata": {
        "colab": {
          "base_uri": "https://localhost:8080/",
          "height": 206
        },
        "id": "MDdavEMINMAS",
        "outputId": "0811f5d1-46eb-4e86-de20-833d0cfaf053"
      },
      "source": [
        "data.head()"
      ],
      "execution_count": 12,
      "outputs": [
        {
          "output_type": "execute_result",
          "data": {
            "text/html": [
              "<div>\n",
              "<style scoped>\n",
              "    .dataframe tbody tr th:only-of-type {\n",
              "        vertical-align: middle;\n",
              "    }\n",
              "\n",
              "    .dataframe tbody tr th {\n",
              "        vertical-align: top;\n",
              "    }\n",
              "\n",
              "    .dataframe thead th {\n",
              "        text-align: right;\n",
              "    }\n",
              "</style>\n",
              "<table border=\"1\" class=\"dataframe\">\n",
              "  <thead>\n",
              "    <tr style=\"text-align: right;\">\n",
              "      <th></th>\n",
              "      <th>BI-RADS</th>\n",
              "      <th>Age</th>\n",
              "      <th>Shape</th>\n",
              "      <th>Margin</th>\n",
              "      <th>Density</th>\n",
              "    </tr>\n",
              "  </thead>\n",
              "  <tbody>\n",
              "    <tr>\n",
              "      <th>0</th>\n",
              "      <td>5.0</td>\n",
              "      <td>67.0</td>\n",
              "      <td>3.0</td>\n",
              "      <td>5.0</td>\n",
              "      <td>3.0</td>\n",
              "    </tr>\n",
              "    <tr>\n",
              "      <th>1</th>\n",
              "      <td>4.0</td>\n",
              "      <td>43.0</td>\n",
              "      <td>1.0</td>\n",
              "      <td>1.0</td>\n",
              "      <td>NaN</td>\n",
              "    </tr>\n",
              "    <tr>\n",
              "      <th>2</th>\n",
              "      <td>5.0</td>\n",
              "      <td>58.0</td>\n",
              "      <td>4.0</td>\n",
              "      <td>5.0</td>\n",
              "      <td>3.0</td>\n",
              "    </tr>\n",
              "    <tr>\n",
              "      <th>3</th>\n",
              "      <td>4.0</td>\n",
              "      <td>28.0</td>\n",
              "      <td>1.0</td>\n",
              "      <td>1.0</td>\n",
              "      <td>3.0</td>\n",
              "    </tr>\n",
              "    <tr>\n",
              "      <th>4</th>\n",
              "      <td>5.0</td>\n",
              "      <td>74.0</td>\n",
              "      <td>1.0</td>\n",
              "      <td>5.0</td>\n",
              "      <td>NaN</td>\n",
              "    </tr>\n",
              "  </tbody>\n",
              "</table>\n",
              "</div>"
            ],
            "text/plain": [
              "   BI-RADS   Age  Shape  Margin  Density\n",
              "0      5.0  67.0    3.0     5.0      3.0\n",
              "1      4.0  43.0    1.0     1.0      NaN\n",
              "2      5.0  58.0    4.0     5.0      3.0\n",
              "3      4.0  28.0    1.0     1.0      3.0\n",
              "4      5.0  74.0    1.0     5.0      NaN"
            ]
          },
          "metadata": {
            "tags": []
          },
          "execution_count": 12
        }
      ]
    },
    {
      "cell_type": "code",
      "metadata": {
        "colab": {
          "base_uri": "https://localhost:8080/",
          "height": 206
        },
        "id": "9b4R7OmTNMAS",
        "outputId": "b7f5fc69-f2d0-442c-ca97-94b21b2414bd"
      },
      "source": [
        "labels.head()"
      ],
      "execution_count": 13,
      "outputs": [
        {
          "output_type": "execute_result",
          "data": {
            "text/html": [
              "<div>\n",
              "<style scoped>\n",
              "    .dataframe tbody tr th:only-of-type {\n",
              "        vertical-align: middle;\n",
              "    }\n",
              "\n",
              "    .dataframe tbody tr th {\n",
              "        vertical-align: top;\n",
              "    }\n",
              "\n",
              "    .dataframe thead th {\n",
              "        text-align: right;\n",
              "    }\n",
              "</style>\n",
              "<table border=\"1\" class=\"dataframe\">\n",
              "  <thead>\n",
              "    <tr style=\"text-align: right;\">\n",
              "      <th></th>\n",
              "      <th>Severity</th>\n",
              "    </tr>\n",
              "  </thead>\n",
              "  <tbody>\n",
              "    <tr>\n",
              "      <th>0</th>\n",
              "      <td>1</td>\n",
              "    </tr>\n",
              "    <tr>\n",
              "      <th>1</th>\n",
              "      <td>1</td>\n",
              "    </tr>\n",
              "    <tr>\n",
              "      <th>2</th>\n",
              "      <td>1</td>\n",
              "    </tr>\n",
              "    <tr>\n",
              "      <th>3</th>\n",
              "      <td>0</td>\n",
              "    </tr>\n",
              "    <tr>\n",
              "      <th>4</th>\n",
              "      <td>1</td>\n",
              "    </tr>\n",
              "  </tbody>\n",
              "</table>\n",
              "</div>"
            ],
            "text/plain": [
              "   Severity\n",
              "0         1\n",
              "1         1\n",
              "2         1\n",
              "3         0\n",
              "4         1"
            ]
          },
          "metadata": {
            "tags": []
          },
          "execution_count": 13
        }
      ]
    },
    {
      "cell_type": "code",
      "metadata": {
        "colab": {
          "base_uri": "https://localhost:8080/"
        },
        "id": "kjt90dyUNMAT",
        "outputId": "a30458e8-c671-46db-ce83-bbe784c448ed"
      },
      "source": [
        "data.info()"
      ],
      "execution_count": 14,
      "outputs": [
        {
          "output_type": "stream",
          "text": [
            "<class 'pandas.core.frame.DataFrame'>\n",
            "RangeIndex: 961 entries, 0 to 960\n",
            "Data columns (total 5 columns):\n",
            " #   Column   Non-Null Count  Dtype  \n",
            "---  ------   --------------  -----  \n",
            " 0   BI-RADS  959 non-null    float64\n",
            " 1   Age      956 non-null    float64\n",
            " 2   Shape    930 non-null    float64\n",
            " 3   Margin   913 non-null    float64\n",
            " 4   Density  885 non-null    float64\n",
            "dtypes: float64(5)\n",
            "memory usage: 37.7 KB\n"
          ],
          "name": "stdout"
        }
      ]
    },
    {
      "cell_type": "markdown",
      "metadata": {
        "id": "hH0NSL5gNMAT"
      },
      "source": [
        "- <u>datatype </u><br>\n",
        "All the columns are of type float"
      ]
    },
    {
      "cell_type": "code",
      "metadata": {
        "colab": {
          "base_uri": "https://localhost:8080/"
        },
        "id": "e12exwTuNMAT",
        "outputId": "eda965fc-0a9e-4111-d43d-782220104a89"
      },
      "source": [
        "print(data.isnull().values.any())\n",
        "print(data.isnull().sum().sum())"
      ],
      "execution_count": 15,
      "outputs": [
        {
          "output_type": "stream",
          "text": [
            "True\n",
            "162\n"
          ],
          "name": "stdout"
        }
      ]
    },
    {
      "cell_type": "code",
      "metadata": {
        "colab": {
          "base_uri": "https://localhost:8080/"
        },
        "id": "x_G2Vwg9NMAU",
        "outputId": "c8a8c052-2e1c-4864-d77d-a9e685236911"
      },
      "source": [
        "data.isnull().sum()*100/len(data)"
      ],
      "execution_count": 16,
      "outputs": [
        {
          "output_type": "execute_result",
          "data": {
            "text/plain": [
              "BI-RADS    0.208117\n",
              "Age        0.520291\n",
              "Shape      3.225806\n",
              "Margin     4.994797\n",
              "Density    7.908429\n",
              "dtype: float64"
            ]
          },
          "metadata": {
            "tags": []
          },
          "execution_count": 16
        }
      ]
    },
    {
      "cell_type": "code",
      "metadata": {
        "colab": {
          "base_uri": "https://localhost:8080/"
        },
        "id": "HsuHT9ekNMAU",
        "outputId": "f08b9e36-9a0a-4510-b14e-36d79b49c65d"
      },
      "source": [
        "data.isnull().sum()"
      ],
      "execution_count": 17,
      "outputs": [
        {
          "output_type": "execute_result",
          "data": {
            "text/plain": [
              "BI-RADS     2\n",
              "Age         5\n",
              "Shape      31\n",
              "Margin     48\n",
              "Density    76\n",
              "dtype: int64"
            ]
          },
          "metadata": {
            "tags": []
          },
          "execution_count": 17
        }
      ]
    },
    {
      "cell_type": "markdown",
      "metadata": {
        "id": "ml-wBDPsNMAU"
      },
      "source": [
        "- <u>Miising Values</u><br>\n",
        "we can see in the above output that there are certain percentage of null values in the columns <br>\n",
        "and in total we have 162 values missing in the whole dataset <br>"
      ]
    },
    {
      "cell_type": "markdown",
      "metadata": {
        "id": "FW084j9iNMAV"
      },
      "source": [
        "- <u>Imbalance </u> <br>\n",
        "we can observe that the number of samples are approx uniformly distributed "
      ]
    },
    {
      "cell_type": "code",
      "metadata": {
        "colab": {
          "base_uri": "https://localhost:8080/"
        },
        "id": "78BJnVTTNMAV",
        "outputId": "be705488-9326-4423-f74a-66d4c75eb5de"
      },
      "source": [
        "labels['Severity'].value_counts()"
      ],
      "execution_count": 18,
      "outputs": [
        {
          "output_type": "execute_result",
          "data": {
            "text/plain": [
              "0    516\n",
              "1    445\n",
              "Name: Severity, dtype: int64"
            ]
          },
          "metadata": {
            "tags": []
          },
          "execution_count": 18
        }
      ]
    },
    {
      "cell_type": "code",
      "metadata": {
        "colab": {
          "base_uri": "https://localhost:8080/",
          "height": 484
        },
        "id": "-xWq_E5gNMAV",
        "outputId": "f6bbd0bd-2d55-4262-c139-07329f098413"
      },
      "source": [
        "#ax = sns.countplot(x=\"Severity\", data=labels)\n",
        "labels.Severity.value_counts().plot(kind=\"pie\", autopct='%.1f%%', figsize=(8,8))"
      ],
      "execution_count": 19,
      "outputs": [
        {
          "output_type": "execute_result",
          "data": {
            "text/plain": [
              "<matplotlib.axes._subplots.AxesSubplot at 0x7f75a2363550>"
            ]
          },
          "metadata": {
            "tags": []
          },
          "execution_count": 19
        },
        {
          "output_type": "display_data",
          "data": {
            "image/png": "[encoded data removed]",
            "text/plain": [
              "<Figure size 576x576 with 1 Axes>"
            ]
          },
          "metadata": {
            "tags": []
          }
        }
      ]
    },
    {
      "cell_type": "code",
      "metadata": {
        "colab": {
          "base_uri": "https://localhost:8080/",
          "height": 300
        },
        "id": "HHqFiI-cNMAV",
        "outputId": "c1645d24-ed77-4f9e-f379-db44a5324fbf"
      },
      "source": [
        "data.describe()"
      ],
      "execution_count": 20,
      "outputs": [
        {
          "output_type": "execute_result",
          "data": {
            "text/html": [
              "<div>\n",
              "<style scoped>\n",
              "    .dataframe tbody tr th:only-of-type {\n",
              "        vertical-align: middle;\n",
              "    }\n",
              "\n",
              "    .dataframe tbody tr th {\n",
              "        vertical-align: top;\n",
              "    }\n",
              "\n",
              "    .dataframe thead th {\n",
              "        text-align: right;\n",
              "    }\n",
              "</style>\n",
              "<table border=\"1\" class=\"dataframe\">\n",
              "  <thead>\n",
              "    <tr style=\"text-align: right;\">\n",
              "      <th></th>\n",
              "      <th>BI-RADS</th>\n",
              "      <th>Age</th>\n",
              "      <th>Shape</th>\n",
              "      <th>Margin</th>\n",
              "      <th>Density</th>\n",
              "    </tr>\n",
              "  </thead>\n",
              "  <tbody>\n",
              "    <tr>\n",
              "      <th>count</th>\n",
              "      <td>959.000000</td>\n",
              "      <td>956.000000</td>\n",
              "      <td>930.000000</td>\n",
              "      <td>913.000000</td>\n",
              "      <td>885.000000</td>\n",
              "    </tr>\n",
              "    <tr>\n",
              "      <th>mean</th>\n",
              "      <td>4.348279</td>\n",
              "      <td>55.487448</td>\n",
              "      <td>2.721505</td>\n",
              "      <td>2.796276</td>\n",
              "      <td>2.910734</td>\n",
              "    </tr>\n",
              "    <tr>\n",
              "      <th>std</th>\n",
              "      <td>1.783031</td>\n",
              "      <td>14.480131</td>\n",
              "      <td>1.242792</td>\n",
              "      <td>1.566546</td>\n",
              "      <td>0.380444</td>\n",
              "    </tr>\n",
              "    <tr>\n",
              "      <th>min</th>\n",
              "      <td>0.000000</td>\n",
              "      <td>18.000000</td>\n",
              "      <td>1.000000</td>\n",
              "      <td>1.000000</td>\n",
              "      <td>1.000000</td>\n",
              "    </tr>\n",
              "    <tr>\n",
              "      <th>25%</th>\n",
              "      <td>4.000000</td>\n",
              "      <td>45.000000</td>\n",
              "      <td>2.000000</td>\n",
              "      <td>1.000000</td>\n",
              "      <td>3.000000</td>\n",
              "    </tr>\n",
              "    <tr>\n",
              "      <th>50%</th>\n",
              "      <td>4.000000</td>\n",
              "      <td>57.000000</td>\n",
              "      <td>3.000000</td>\n",
              "      <td>3.000000</td>\n",
              "      <td>3.000000</td>\n",
              "    </tr>\n",
              "    <tr>\n",
              "      <th>75%</th>\n",
              "      <td>5.000000</td>\n",
              "      <td>66.000000</td>\n",
              "      <td>4.000000</td>\n",
              "      <td>4.000000</td>\n",
              "      <td>3.000000</td>\n",
              "    </tr>\n",
              "    <tr>\n",
              "      <th>max</th>\n",
              "      <td>55.000000</td>\n",
              "      <td>96.000000</td>\n",
              "      <td>4.000000</td>\n",
              "      <td>5.000000</td>\n",
              "      <td>4.000000</td>\n",
              "    </tr>\n",
              "  </tbody>\n",
              "</table>\n",
              "</div>"
            ],
            "text/plain": [
              "          BI-RADS         Age       Shape      Margin     Density\n",
              "count  959.000000  956.000000  930.000000  913.000000  885.000000\n",
              "mean     4.348279   55.487448    2.721505    2.796276    2.910734\n",
              "std      1.783031   14.480131    1.242792    1.566546    0.380444\n",
              "min      0.000000   18.000000    1.000000    1.000000    1.000000\n",
              "25%      4.000000   45.000000    2.000000    1.000000    3.000000\n",
              "50%      4.000000   57.000000    3.000000    3.000000    3.000000\n",
              "75%      5.000000   66.000000    4.000000    4.000000    3.000000\n",
              "max     55.000000   96.000000    4.000000    5.000000    4.000000"
            ]
          },
          "metadata": {
            "tags": []
          },
          "execution_count": 20
        }
      ]
    },
    {
      "cell_type": "markdown",
      "metadata": {
        "id": "enp11wsSNMAW"
      },
      "source": [
        "we can see that there is a difference in the count, its due to the missing values in each column <br>\n",
        "also the max of BI_RADS is 55 which is an outlier as the values in that column range from 0 to 5 <br>"
      ]
    },
    {
      "cell_type": "markdown",
      "metadata": {
        "id": "ktoS4P-xNMAW"
      },
      "source": [
        "- <u>Correlation</u> <br>"
      ]
    },
    {
      "cell_type": "code",
      "metadata": {
        "id": "YgPjyhs2NMAW",
        "outputId": "6d85861f-bbc1-484b-ae9b-065afd855917"
      },
      "source": [
        "sns.heatmap(data.corr(),annot=True)"
      ],
      "execution_count": null,
      "outputs": [
        {
          "output_type": "execute_result",
          "data": {
            "text/plain": [
              "<matplotlib.axes._subplots.AxesSubplot at 0x7fb5b4cd7e10>"
            ]
          },
          "metadata": {
            "tags": []
          },
          "execution_count": 19
        },
        {
          "output_type": "display_data",
          "data": {
            "image/png": "[encoded data removed]",
            "text/plain": [
              "<Figure size 432x288 with 2 Axes>"
            ]
          },
          "metadata": {
            "tags": [],
            "needs_background": "light"
          }
        }
      ]
    },
    {
      "cell_type": "code",
      "metadata": {
        "id": "0I4ONEkqNMAW",
        "outputId": "99688358-61eb-458c-b84d-2b1d8c875b62"
      },
      "source": [
        "data.corr()"
      ],
      "execution_count": null,
      "outputs": [
        {
          "output_type": "execute_result",
          "data": {
            "text/html": [
              "<div>\n",
              "<style scoped>\n",
              "    .dataframe tbody tr th:only-of-type {\n",
              "        vertical-align: middle;\n",
              "    }\n",
              "\n",
              "    .dataframe tbody tr th {\n",
              "        vertical-align: top;\n",
              "    }\n",
              "\n",
              "    .dataframe thead th {\n",
              "        text-align: right;\n",
              "    }\n",
              "</style>\n",
              "<table border=\"1\" class=\"dataframe\">\n",
              "  <thead>\n",
              "    <tr style=\"text-align: right;\">\n",
              "      <th></th>\n",
              "      <th>BI-RADS</th>\n",
              "      <th>Age</th>\n",
              "      <th>Shape</th>\n",
              "      <th>Margin</th>\n",
              "      <th>Density</th>\n",
              "    </tr>\n",
              "  </thead>\n",
              "  <tbody>\n",
              "    <tr>\n",
              "      <th>BI-RADS</th>\n",
              "      <td>1.000000</td>\n",
              "      <td>0.094754</td>\n",
              "      <td>0.186055</td>\n",
              "      <td>0.163086</td>\n",
              "      <td>0.038729</td>\n",
              "    </tr>\n",
              "    <tr>\n",
              "      <th>Age</th>\n",
              "      <td>0.094754</td>\n",
              "      <td>1.000000</td>\n",
              "      <td>0.364077</td>\n",
              "      <td>0.411355</td>\n",
              "      <td>0.028954</td>\n",
              "    </tr>\n",
              "    <tr>\n",
              "      <th>Shape</th>\n",
              "      <td>0.186055</td>\n",
              "      <td>0.364077</td>\n",
              "      <td>1.000000</td>\n",
              "      <td>0.742211</td>\n",
              "      <td>0.078666</td>\n",
              "    </tr>\n",
              "    <tr>\n",
              "      <th>Margin</th>\n",
              "      <td>0.163086</td>\n",
              "      <td>0.411355</td>\n",
              "      <td>0.742211</td>\n",
              "      <td>1.000000</td>\n",
              "      <td>0.109392</td>\n",
              "    </tr>\n",
              "    <tr>\n",
              "      <th>Density</th>\n",
              "      <td>0.038729</td>\n",
              "      <td>0.028954</td>\n",
              "      <td>0.078666</td>\n",
              "      <td>0.109392</td>\n",
              "      <td>1.000000</td>\n",
              "    </tr>\n",
              "  </tbody>\n",
              "</table>\n",
              "</div>"
            ],
            "text/plain": [
              "          BI-RADS       Age     Shape    Margin   Density\n",
              "BI-RADS  1.000000  0.094754  0.186055  0.163086  0.038729\n",
              "Age      0.094754  1.000000  0.364077  0.411355  0.028954\n",
              "Shape    0.186055  0.364077  1.000000  0.742211  0.078666\n",
              "Margin   0.163086  0.411355  0.742211  1.000000  0.109392\n",
              "Density  0.038729  0.028954  0.078666  0.109392  1.000000"
            ]
          },
          "metadata": {
            "tags": []
          },
          "execution_count": 20
        }
      ]
    },
    {
      "cell_type": "markdown",
      "metadata": {
        "id": "2acNDtu3NMAX"
      },
      "source": [
        "we can observe that : <br>\n",
        "Margin and Shape have 74% positive correlation i.e as shape increase the margin also increases <br>\n",
        "Similarly margin and age has a positive correlation <br>\n",
        "and shape and age has a positive correlation <br>\n"
      ]
    },
    {
      "cell_type": "code",
      "metadata": {
        "id": "_F6T5zfiNMAX",
        "outputId": "3dd38a7d-1b62-46b8-a66c-444f8499a1eb"
      },
      "source": [
        "sns.pairplot(data_label, hue=\"Severity\", size=3) "
      ],
      "execution_count": null,
      "outputs": [
        {
          "output_type": "stream",
          "text": [
            "/opt/conda/lib/python3.7/site-packages/seaborn/axisgrid.py:2065: UserWarning: The `size` parameter has been renamed to `height`; pleaes update your code.\n",
            "  warnings.warn(msg, UserWarning)\n",
            "/opt/conda/lib/python3.7/site-packages/statsmodels/nonparametric/kde.py:487: RuntimeWarning: invalid value encountered in true_divide\n",
            "  binned = fast_linbin(X, a, b, gridsize) / (delta * nobs)\n",
            "/opt/conda/lib/python3.7/site-packages/statsmodels/nonparametric/kdetools.py:34: RuntimeWarning: invalid value encountered in double_scalars\n",
            "  FAC1 = 2*(np.pi*bw/RANGE)**2\n"
          ],
          "name": "stderr"
        },
        {
          "output_type": "execute_result",
          "data": {
            "text/plain": [
              "<seaborn.axisgrid.PairGrid at 0x7fb5b4c75eb8>"
            ]
          },
          "metadata": {
            "tags": []
          },
          "execution_count": 21
        },
        {
          "output_type": "display_data",
          "data": {
            "image/png": "[encoded data removed]",
            "text/plain": [
              "<Figure size 1345.12x1296 with 42 Axes>"
            ]
          },
          "metadata": {
            "tags": [],
            "needs_background": "light"
          }
        }
      ]
    },
    {
      "cell_type": "markdown",
      "metadata": {
        "id": "uIULJuhuNMAX"
      },
      "source": [
        "So what does all these graphs say <br>\n",
        "lets take x-axis \"shape\" and y-axis \"age\" : <br>\n",
        "An age group of 20 to 40 even if the shape of the tumor increases the cancer is benign <br>\n",
        "But as we grow older the shape of the tumor does signify a malignant tumor. <br>\n",
        "\n",
        "thus these graphs helps us to see how two propreties affect each other in the prediction of the severity of the cancer. <br>"
      ]
    },
    {
      "cell_type": "markdown",
      "metadata": {
        "id": "rJfDvYbANMAX"
      },
      "source": [
        "- <u>categorical data <u><br>\n",
        "\n",
        "we have  BI-RADS which is categorical but is already encoded numerically with oridinality maintained\n"
      ]
    },
    {
      "cell_type": "markdown",
      "metadata": {
        "id": "u7gRapKKNMAY"
      },
      "source": [
        "- <u> Missing Values </u> <br>\n",
        "we have 162 missing values , we are not going to drop the rows with missing values as we have only 961 samples, we loose important information <br>\n",
        "I have decided to replace age with the mode <br>\n",
        "the rest of the features with their mean. <br>"
      ]
    },
    {
      "cell_type": "code",
      "metadata": {
        "id": "dl8eV1lZNMAY"
      },
      "source": [
        "for col in data.columns:\n",
        "    if col == \"Age\" or col ==\"BI-RADS\":\n",
        "        data[col] = data[col].replace(to_replace =np.nan,value=statistics.mode(data[col]))\n",
        "    else:\n",
        "        data[col] = data[col].replace(to_replace = np.nan,value = data[col].mean())"
      ],
      "execution_count": 21,
      "outputs": []
    },
    {
      "cell_type": "code",
      "metadata": {
        "id": "OPYxysB0NMAY",
        "outputId": "c5e81288-eb0b-4262-d2b2-5fca70461d04"
      },
      "source": [
        "print(data.isnull().sum().sum())"
      ],
      "execution_count": null,
      "outputs": [
        {
          "output_type": "stream",
          "text": [
            "0\n"
          ],
          "name": "stdout"
        }
      ]
    },
    {
      "cell_type": "code",
      "metadata": {
        "colab": {
          "base_uri": "https://localhost:8080/"
        },
        "id": "KzVV76A5NMAY",
        "outputId": "83d9bfcb-a8ba-42ac-8c83-a73010dfedf4"
      },
      "source": [
        "data.isnull().sum()"
      ],
      "execution_count": 22,
      "outputs": [
        {
          "output_type": "execute_result",
          "data": {
            "text/plain": [
              "BI-RADS    0\n",
              "Age        0\n",
              "Shape      0\n",
              "Margin     0\n",
              "Density    0\n",
              "dtype: int64"
            ]
          },
          "metadata": {
            "tags": []
          },
          "execution_count": 22
        }
      ]
    },
    {
      "cell_type": "markdown",
      "metadata": {
        "id": "bn8fQgZONMAZ"
      },
      "source": [
        "<br>"
      ]
    },
    {
      "cell_type": "markdown",
      "metadata": {
        "id": "i-gdBYRFNMAZ"
      },
      "source": [
        "- <u>Training the Models </u> <br>\n"
      ]
    },
    {
      "cell_type": "markdown",
      "metadata": {
        "id": "ra_VplC3NMAZ"
      },
      "source": [
        "splitting the data into train,development and test <br>"
      ]
    },
    {
      "cell_type": "code",
      "metadata": {
        "id": "6LrwaRHDNMAZ"
      },
      "source": [
        "#first split it into train = 80 and test = 20\n",
        "temp_data, test_data, temp_label, test_label  = train_test_split(data, labels, test_size=0.2, random_state=10,stratify=labels)"
      ],
      "execution_count": 23,
      "outputs": []
    },
    {
      "cell_type": "code",
      "metadata": {
        "id": "JxcnkgtpNMAZ"
      },
      "source": [
        "# now take train which is 80% of total and split it further to create validation set\n",
        "#80*25% will give 0.2\n",
        "train_data, val_data, train_label, val_label  = train_test_split(temp_data, temp_label, test_size=0.25, random_state=10,stratify=temp_label)"
      ],
      "execution_count": 24,
      "outputs": []
    },
    {
      "cell_type": "markdown",
      "metadata": {
        "id": "dRikzrDeNMAa"
      },
      "source": [
        "1.) in the literature they have used decision trees "
      ]
    },
    {
      "cell_type": "code",
      "metadata": {
        "id": "oNiIU2zGNMAa"
      },
      "source": [
        "model = tree.DecisionTreeClassifier(max_depth=10,random_state=10)"
      ],
      "execution_count": 25,
      "outputs": []
    },
    {
      "cell_type": "code",
      "metadata": {
        "colab": {
          "base_uri": "https://localhost:8080/"
        },
        "id": "V0rOemTUNMAa",
        "outputId": "b02af14e-2856-43cc-ef01-764a462c8d97"
      },
      "source": [
        "model"
      ],
      "execution_count": 26,
      "outputs": [
        {
          "output_type": "execute_result",
          "data": {
            "text/plain": [
              "DecisionTreeClassifier(ccp_alpha=0.0, class_weight=None, criterion='gini',\n",
              "                       max_depth=10, max_features=None, max_leaf_nodes=None,\n",
              "                       min_impurity_decrease=0.0, min_impurity_split=None,\n",
              "                       min_samples_leaf=1, min_samples_split=2,\n",
              "                       min_weight_fraction_leaf=0.0, presort='deprecated',\n",
              "                       random_state=10, splitter='best')"
            ]
          },
          "metadata": {
            "tags": []
          },
          "execution_count": 26
        }
      ]
    },
    {
      "cell_type": "code",
      "metadata": {
        "colab": {
          "base_uri": "https://localhost:8080/"
        },
        "id": "A_cBP1PxNMAa",
        "outputId": "000dda29-6a2b-4a88-d9c3-8fdc20d63369"
      },
      "source": [
        "model.fit(train_data, train_label)"
      ],
      "execution_count": 27,
      "outputs": [
        {
          "output_type": "execute_result",
          "data": {
            "text/plain": [
              "DecisionTreeClassifier(ccp_alpha=0.0, class_weight=None, criterion='gini',\n",
              "                       max_depth=10, max_features=None, max_leaf_nodes=None,\n",
              "                       min_impurity_decrease=0.0, min_impurity_split=None,\n",
              "                       min_samples_leaf=1, min_samples_split=2,\n",
              "                       min_weight_fraction_leaf=0.0, presort='deprecated',\n",
              "                       random_state=10, splitter='best')"
            ]
          },
          "metadata": {
            "tags": []
          },
          "execution_count": 27
        }
      ]
    },
    {
      "cell_type": "code",
      "metadata": {
        "id": "TrZC-ztsNMAb"
      },
      "source": [
        "y_predict = model.predict(val_data)"
      ],
      "execution_count": 28,
      "outputs": []
    },
    {
      "cell_type": "code",
      "metadata": {
        "colab": {
          "base_uri": "https://localhost:8080/"
        },
        "id": "22N25HjuNMAb",
        "outputId": "79b74a1d-5723-46b7-ec2a-e6508eb3eb0e"
      },
      "source": [
        "f1_score(val_label, y_predict)*100"
      ],
      "execution_count": 29,
      "outputs": [
        {
          "output_type": "execute_result",
          "data": {
            "text/plain": [
              "79.31034482758619"
            ]
          },
          "metadata": {
            "tags": []
          },
          "execution_count": 29
        }
      ]
    },
    {
      "cell_type": "code",
      "metadata": {
        "colab": {
          "base_uri": "https://localhost:8080/"
        },
        "id": "vvpP8WDfNMAb",
        "outputId": "671afa75-4ee5-41cd-ef8f-a103d7e5bc7b"
      },
      "source": [
        "model.tree_.max_depth"
      ],
      "execution_count": 30,
      "outputs": [
        {
          "output_type": "execute_result",
          "data": {
            "text/plain": [
              "10"
            ]
          },
          "metadata": {
            "tags": []
          },
          "execution_count": 30
        }
      ]
    },
    {
      "cell_type": "markdown",
      "metadata": {
        "id": "c2tRlvbvNMAb"
      },
      "source": [
        "going with the default hyper-parameter setting, the depth of the tree formed is 17 on the training model, I feel it is overfitting the data. Hence setting the depth to 10"
      ]
    },
    {
      "cell_type": "code",
      "metadata": {
        "scrolled": false,
        "colab": {
          "base_uri": "https://localhost:8080/"
        },
        "id": "9shq53gvNMAc",
        "outputId": "428e746f-64db-4479-991d-1eebf30941a5"
      },
      "source": [
        "\n",
        "y_predict = model.predict(test_data)\n",
        "f1_score(test_label, y_predict)"
      ],
      "execution_count": 31,
      "outputs": [
        {
          "output_type": "execute_result",
          "data": {
            "text/plain": [
              "0.7529411764705881"
            ]
          },
          "metadata": {
            "tags": []
          },
          "execution_count": 31
        }
      ]
    },
    {
      "cell_type": "markdown",
      "metadata": {
        "id": "HayvkL33NMAc"
      },
      "source": [
        "2.) Perceptron since this dataset has binary classification"
      ]
    },
    {
      "cell_type": "code",
      "metadata": {
        "id": "Gbbnr4HLNMAc"
      },
      "source": [
        "model2 = Perceptron(tol=1e-3, random_state=10)"
      ],
      "execution_count": 32,
      "outputs": []
    },
    {
      "cell_type": "code",
      "metadata": {
        "colab": {
          "base_uri": "https://localhost:8080/"
        },
        "id": "x3H9cL1fNMAd",
        "outputId": "1e2b8a35-d422-40a7-faa3-940b500daa4f"
      },
      "source": [
        "model2.fit(train_data, train_label.iloc[:,0].ravel())"
      ],
      "execution_count": 33,
      "outputs": [
        {
          "output_type": "execute_result",
          "data": {
            "text/plain": [
              "Perceptron(alpha=0.0001, class_weight=None, early_stopping=False, eta0=1.0,\n",
              "           fit_intercept=True, max_iter=1000, n_iter_no_change=5, n_jobs=None,\n",
              "           penalty=None, random_state=10, shuffle=True, tol=0.001,\n",
              "           validation_fraction=0.1, verbose=0, warm_start=False)"
            ]
          },
          "metadata": {
            "tags": []
          },
          "execution_count": 33
        }
      ]
    },
    {
      "cell_type": "code",
      "metadata": {
        "id": "qbQI7ROVNMAd"
      },
      "source": [
        "y_predict = model2.predict(val_data)"
      ],
      "execution_count": 34,
      "outputs": []
    },
    {
      "cell_type": "code",
      "metadata": {
        "colab": {
          "base_uri": "https://localhost:8080/"
        },
        "id": "ZAgWRWs5NMAd",
        "outputId": "b8f574ea-0046-4b0b-8986-bda14229a95d"
      },
      "source": [
        "f1_score(val_label, y_predict)"
      ],
      "execution_count": 35,
      "outputs": [
        {
          "output_type": "execute_result",
          "data": {
            "text/plain": [
              "0.7608695652173914"
            ]
          },
          "metadata": {
            "tags": []
          },
          "execution_count": 35
        }
      ]
    },
    {
      "cell_type": "code",
      "metadata": {
        "colab": {
          "base_uri": "https://localhost:8080/"
        },
        "id": "UhFbaSl8NMAd",
        "outputId": "d8bf3b14-cf83-4593-be82-3cfb7fafda9c"
      },
      "source": [
        "y_predict = model2.predict(test_data)\n",
        "f1_score(test_label, y_predict)"
      ],
      "execution_count": 36,
      "outputs": [
        {
          "output_type": "execute_result",
          "data": {
            "text/plain": [
              "0.7555555555555554"
            ]
          },
          "metadata": {
            "tags": []
          },
          "execution_count": 36
        }
      ]
    },
    {
      "cell_type": "markdown",
      "metadata": {
        "id": "mreAUBk4NMAd"
      },
      "source": [
        "3.) Logistic Regression Classifier "
      ]
    },
    {
      "cell_type": "code",
      "metadata": {
        "id": "ZJ-h8ub6NMAe"
      },
      "source": [
        "model3 = LogisticRegression(random_state=10,solver=\"newton-cg\").fit(train_data, train_label.iloc[:,0].ravel())"
      ],
      "execution_count": 37,
      "outputs": []
    },
    {
      "cell_type": "code",
      "metadata": {
        "colab": {
          "base_uri": "https://localhost:8080/"
        },
        "id": "HwxmW3toNMAe",
        "outputId": "000bccc7-259f-44ff-b0bd-04b90e52a469"
      },
      "source": [
        "y_predict = model3.predict(val_data)\n",
        "f1_score(val_label, y_predict)"
      ],
      "execution_count": 38,
      "outputs": [
        {
          "output_type": "execute_result",
          "data": {
            "text/plain": [
              "0.8111111111111112"
            ]
          },
          "metadata": {
            "tags": []
          },
          "execution_count": 38
        }
      ]
    },
    {
      "cell_type": "code",
      "metadata": {
        "colab": {
          "base_uri": "https://localhost:8080/"
        },
        "id": "gAzvaqaRNMAe",
        "outputId": "bfd8dccf-9867-4c52-9abb-15b0a0d3596b"
      },
      "source": [
        "y_predict = model3.predict(test_data)\n",
        "f1_score(test_label, y_predict)"
      ],
      "execution_count": 39,
      "outputs": [
        {
          "output_type": "execute_result",
          "data": {
            "text/plain": [
              "0.7999999999999998"
            ]
          },
          "metadata": {
            "tags": []
          },
          "execution_count": 39
        }
      ]
    },
    {
      "cell_type": "code",
      "metadata": {
        "colab": {
          "base_uri": "https://localhost:8080/"
        },
        "id": "6kINwh5wNMAe",
        "outputId": "dfcd211f-b664-41db-ef62-6bc1514b1db0"
      },
      "source": [
        "accuracy_score(test_label, y_predict)"
      ],
      "execution_count": 40,
      "outputs": [
        {
          "output_type": "execute_result",
          "data": {
            "text/plain": [
              "0.8134715025906736"
            ]
          },
          "metadata": {
            "tags": []
          },
          "execution_count": 40
        }
      ]
    },
    {
      "cell_type": "markdown",
      "metadata": {
        "id": "aSWPJIkbNMAe"
      },
      "source": [
        "4.)KNN"
      ]
    },
    {
      "cell_type": "code",
      "metadata": {
        "id": "pNpy_1r0NMAf"
      },
      "source": [
        "model4 = KNeighborsClassifier(n_neighbors=7,weights=\"distance\").fit(train_data,train_label.iloc[:,0].ravel())"
      ],
      "execution_count": 41,
      "outputs": []
    },
    {
      "cell_type": "code",
      "metadata": {
        "id": "jkSEUyQVNMAf"
      },
      "source": [
        "y_predict = model4.predict(val_data)\n",
        "f1_score(val_label, y_predict)"
      ],
      "execution_count": null,
      "outputs": []
    },
    {
      "cell_type": "code",
      "metadata": {
        "colab": {
          "base_uri": "https://localhost:8080/"
        },
        "id": "sBc2pcguNMAf",
        "outputId": "9d387aff-c714-4df3-93cb-498cfe6bd1ed"
      },
      "source": [
        "y_predict = model4.predict(test_data)\n",
        "f1_score(test_label, y_predict)"
      ],
      "execution_count": 43,
      "outputs": [
        {
          "output_type": "execute_result",
          "data": {
            "text/plain": [
              "0.6951219512195121"
            ]
          },
          "metadata": {
            "tags": []
          },
          "execution_count": 43
        }
      ]
    },
    {
      "cell_type": "markdown",
      "metadata": {
        "id": "Djumg3EYNq9O"
      },
      "source": [
        "5.) SVC"
      ]
    },
    {
      "cell_type": "code",
      "metadata": {
        "id": "hkqBCS4QNp0h"
      },
      "source": [
        "model5 = SVC(kernel=\"linear\",gamma=\"scale\",random_state=10).fit(train_data,train_label.iloc[:,0].ravel())"
      ],
      "execution_count": 46,
      "outputs": []
    },
    {
      "cell_type": "code",
      "metadata": {
        "colab": {
          "base_uri": "https://localhost:8080/"
        },
        "id": "elfWPHncNqA1",
        "outputId": "97cb52a2-ed35-4ca0-f753-f2bc5acc526e"
      },
      "source": [
        "y_predict = model5.predict(val_data)\n",
        "f1_score(val_label, y_predict)"
      ],
      "execution_count": 47,
      "outputs": [
        {
          "output_type": "execute_result",
          "data": {
            "text/plain": [
              "0.7804878048780487"
            ]
          },
          "metadata": {
            "tags": []
          },
          "execution_count": 47
        }
      ]
    },
    {
      "cell_type": "code",
      "metadata": {
        "colab": {
          "base_uri": "https://localhost:8080/"
        },
        "id": "cZNcrRknNqMt",
        "outputId": "48e845ed-1e14-4d31-8a1a-a9b7e90491c2"
      },
      "source": [
        "y_predict = model5.predict(test_data)\n",
        "f1_score(test_label, y_predict)"
      ],
      "execution_count": 48,
      "outputs": [
        {
          "output_type": "execute_result",
          "data": {
            "text/plain": [
              "0.7388535031847134"
            ]
          },
          "metadata": {
            "tags": []
          },
          "execution_count": 48
        }
      ]
    },
    {
      "cell_type": "code",
      "metadata": {
        "id": "AmTq-17XNqVc"
      },
      "source": [
        ""
      ],
      "execution_count": null,
      "outputs": []
    },
    {
      "cell_type": "markdown",
      "metadata": {
        "id": "Uu5fnxfqNMAf"
      },
      "source": [
        "<br>"
      ]
    },
    {
      "cell_type": "markdown",
      "metadata": {
        "id": "vcdqdYNXNMAg"
      },
      "source": [
        "5.) Multi Layer Perceptron "
      ]
    },
    {
      "cell_type": "code",
      "metadata": {
        "id": "l_yuyH6tNMAg",
        "outputId": "f2036dd1-6836-4e04-abe6-9bc60ec591ac"
      },
      "source": [
        "# model5 = MLPClassifier(alpha=0.01, hidden_layer_sizes = (100,), max_iter = 100, \n",
        "#                  verbose = 'True', learning_rate = 'adaptive')\n",
        "# # model4.out_activation_ = 'softmax'\n",
        "# model5.fit(train_data,train_label.iloc[:,0].ravel())"
      ],
      "execution_count": null,
      "outputs": [
        {
          "output_type": "stream",
          "text": [
            "Iteration 1, loss = 0.85373670\n",
            "Iteration 2, loss = 0.82860232\n",
            "Iteration 3, loss = 0.78101582\n",
            "Iteration 4, loss = 0.77923839\n",
            "Iteration 5, loss = 0.76300327\n",
            "Iteration 6, loss = 0.73373367\n",
            "Iteration 7, loss = 0.72339100\n",
            "Iteration 8, loss = 0.70776500\n",
            "Iteration 9, loss = 0.69609156\n",
            "Iteration 10, loss = 0.68583334\n",
            "Iteration 11, loss = 0.67642173\n",
            "Iteration 12, loss = 0.66575180\n",
            "Iteration 13, loss = 0.65299750\n",
            "Iteration 14, loss = 0.63935119\n",
            "Iteration 15, loss = 0.62845417\n",
            "Iteration 16, loss = 0.61955561\n",
            "Iteration 17, loss = 0.61391612\n",
            "Iteration 18, loss = 0.60814247\n",
            "Iteration 19, loss = 0.60361612\n",
            "Iteration 20, loss = 0.59833641\n",
            "Iteration 21, loss = 0.59315420\n",
            "Iteration 22, loss = 0.58675677\n",
            "Iteration 23, loss = 0.58402055\n",
            "Iteration 24, loss = 0.57896478\n",
            "Iteration 25, loss = 0.57476193\n",
            "Iteration 26, loss = 0.57020228\n",
            "Iteration 27, loss = 0.56597113\n",
            "Iteration 28, loss = 0.56316545\n",
            "Iteration 29, loss = 0.55923751\n",
            "Iteration 30, loss = 0.55655016\n",
            "Iteration 31, loss = 0.55314101\n",
            "Iteration 32, loss = 0.55040878\n",
            "Iteration 33, loss = 0.54731033\n",
            "Iteration 34, loss = 0.54457753\n",
            "Iteration 35, loss = 0.54327461\n",
            "Iteration 36, loss = 0.54081204\n",
            "Iteration 37, loss = 0.54205296\n",
            "Iteration 38, loss = 0.53617877\n",
            "Iteration 39, loss = 0.53392648\n",
            "Iteration 40, loss = 0.53116912\n",
            "Iteration 41, loss = 0.52990270\n",
            "Iteration 42, loss = 0.52788952\n",
            "Iteration 43, loss = 0.52805291\n",
            "Iteration 44, loss = 0.52418758\n",
            "Iteration 45, loss = 0.52536883\n",
            "Iteration 46, loss = 0.52145860\n",
            "Iteration 47, loss = 0.52113865\n",
            "Iteration 48, loss = 0.51854220\n",
            "Iteration 49, loss = 0.51790614\n",
            "Iteration 50, loss = 0.51632609\n",
            "Iteration 51, loss = 0.51671195\n",
            "Iteration 52, loss = 0.51650543\n",
            "Iteration 53, loss = 0.51453707\n",
            "Iteration 54, loss = 0.51304873\n",
            "Iteration 55, loss = 0.51079091\n",
            "Iteration 56, loss = 0.50954911\n",
            "Iteration 57, loss = 0.50918088\n",
            "Iteration 58, loss = 0.51135064\n",
            "Iteration 59, loss = 0.50894122\n",
            "Iteration 60, loss = 0.50829794\n",
            "Iteration 61, loss = 0.50618935\n",
            "Iteration 62, loss = 0.50410599\n",
            "Iteration 63, loss = 0.50384130\n",
            "Iteration 64, loss = 0.50552820\n",
            "Iteration 65, loss = 0.50475034\n",
            "Iteration 66, loss = 0.50219936\n",
            "Iteration 67, loss = 0.50020395\n",
            "Iteration 68, loss = 0.50045511\n",
            "Iteration 69, loss = 0.50082275\n",
            "Iteration 70, loss = 0.49804707\n",
            "Iteration 71, loss = 0.49756159\n",
            "Iteration 72, loss = 0.49647895\n",
            "Iteration 73, loss = 0.49655345\n",
            "Iteration 74, loss = 0.49554553\n",
            "Iteration 75, loss = 0.49474089\n",
            "Iteration 76, loss = 0.49404796\n",
            "Iteration 77, loss = 0.49377239\n",
            "Iteration 78, loss = 0.49397202\n",
            "Iteration 79, loss = 0.49295140\n",
            "Iteration 80, loss = 0.49188399\n",
            "Iteration 81, loss = 0.49677119\n",
            "Iteration 82, loss = 0.49152113\n",
            "Iteration 83, loss = 0.49332078\n",
            "Iteration 84, loss = 0.49463766\n",
            "Iteration 85, loss = 0.49099804\n",
            "Iteration 86, loss = 0.49264791\n",
            "Iteration 87, loss = 0.48760028\n",
            "Iteration 88, loss = 0.48706598\n",
            "Iteration 89, loss = 0.48667768\n",
            "Iteration 90, loss = 0.48587200\n",
            "Iteration 91, loss = 0.48529468\n",
            "Iteration 92, loss = 0.48523567\n",
            "Iteration 93, loss = 0.48436028\n",
            "Iteration 94, loss = 0.48348173\n",
            "Iteration 95, loss = 0.48360488\n",
            "Iteration 96, loss = 0.48370654\n",
            "Iteration 97, loss = 0.48264565\n",
            "Iteration 98, loss = 0.48326823\n",
            "Iteration 99, loss = 0.48189697\n",
            "Iteration 100, loss = 0.48106493\n"
          ],
          "name": "stdout"
        },
        {
          "output_type": "stream",
          "text": [
            "/opt/conda/lib/python3.7/site-packages/sklearn/neural_network/multilayer_perceptron.py:566: ConvergenceWarning: Stochastic Optimizer: Maximum iterations (100) reached and the optimization hasn't converged yet.\n",
            "  % self.max_iter, ConvergenceWarning)\n"
          ],
          "name": "stderr"
        },
        {
          "output_type": "execute_result",
          "data": {
            "text/plain": [
              "MLPClassifier(activation='relu', alpha=0.01, batch_size='auto', beta_1=0.9,\n",
              "              beta_2=0.999, early_stopping=False, epsilon=1e-08,\n",
              "              hidden_layer_sizes=(100,), learning_rate='adaptive',\n",
              "              learning_rate_init=0.001, max_iter=100, momentum=0.9,\n",
              "              n_iter_no_change=10, nesterovs_momentum=True, power_t=0.5,\n",
              "              random_state=None, shuffle=True, solver='adam', tol=0.0001,\n",
              "              validation_fraction=0.1, verbose='True', warm_start=False)"
            ]
          },
          "metadata": {
            "tags": []
          },
          "execution_count": 46
        }
      ]
    },
    {
      "cell_type": "code",
      "metadata": {
        "id": "BoY5RFPNNMAl",
        "outputId": "22a84d9a-a91d-44c2-90bd-0ec5fd1d5cb7"
      },
      "source": [
        "# y_predict = model5.predict(val_data)\n",
        "# f1_score(val_label, y_predict)"
      ],
      "execution_count": null,
      "outputs": [
        {
          "output_type": "execute_result",
          "data": {
            "text/plain": [
              "0.7980295566502463"
            ]
          },
          "metadata": {
            "tags": []
          },
          "execution_count": 47
        }
      ]
    },
    {
      "cell_type": "code",
      "metadata": {
        "id": "33-0SmTyNMAl",
        "outputId": "90a5b954-e4b4-491c-abbf-af0289b661f9"
      },
      "source": [
        "# y_predict = model5.predict(test_data)\n",
        "# f1_score(test_label, y_predict)"
      ],
      "execution_count": null,
      "outputs": [
        {
          "output_type": "execute_result",
          "data": {
            "text/plain": [
              "0.7936507936507935"
            ]
          },
          "metadata": {
            "tags": []
          },
          "execution_count": 48
        }
      ]
    },
    {
      "cell_type": "markdown",
      "metadata": {
        "id": "Qu1dNAT-NMAm"
      },
      "source": [
        "<br>"
      ]
    },
    {
      "cell_type": "markdown",
      "metadata": {
        "id": "yvwl7fS1NMAm"
      },
      "source": [
        " Hyper-paramtere tuning using optuna <br>\n",
        " since optuna doesnt need a held out validation set I will be using a temp_data and temp_label which has dev and validation in it."
      ]
    },
    {
      "cell_type": "code",
      "metadata": {
        "id": "79U-2ROWNMAm"
      },
      "source": [
        "def objective_classifier(trial): \n",
        "    \n",
        "    classifier_name = trial.suggest_categorical(\"classifier\", [\"DecisionTree\", \"LogisticRegression\", \"KNN\",\"SVC\"])\n",
        "    \n",
        "    if classifier_name == \"DecisionTree\":\n",
        "        max_depth = trial.suggest_int(\"max_depth\", 5,20, step=5, log=False)\n",
        "        criterion = trial.suggest_categorical(\"criterion\",[\"gini\",\"entropy\"])\n",
        "        min_samples_split = trial.suggest_int(\"min_samples_split\",2,5,step=1,log=False)\n",
        "        model = tree.DecisionTreeClassifier(max_depth=max_depth,criterion=criterion,min_samples_split=min_samples_split,random_state=10)\n",
        "        \n",
        "    elif classifier_name == \"LogisticRegression\":\n",
        "#         penalty = trial.suggest_categorical(\"penalty\", [ \"l2\", \"elasticnet\", \"none\"])\n",
        "        solver = trial.suggest_categorical(\"solver\",[ \"lbfgs\", \"liblinear\", \"sag\", \"saga\"])\n",
        "        model = LogisticRegression(random_state=10,solver=solver)\n",
        "\n",
        "    elif classifier_name == \"KNN\":\n",
        "        n_neighbors = trial.suggest_int(\"n_neighbors\",5,15,step=1,log=False)\n",
        "        algorithm = trial.suggest_categorical(\"algorithm\", [\"auto\", \"ball_tree\", \"kd_tree\", \"brute\"])\n",
        "        metric = trial.suggest_categorical(\"metric\",[\"euclidean\",\"manhattan\",\"chebyshev\",\"minkowski\"])\n",
        "        weights = trial.suggest_categorical(\"weights\",[\"uniform\",\"distance\"])\n",
        "        model = KNeighborsClassifier(n_neighbors=n_neighbors,algorithm=algorithm,metric=metric,weights=weights)\n",
        "    \n",
        "    elif classifier_name == \"SVC\":\n",
        "        kernel = trial.suggest_categorical(\"kernel\", [\"linear\",\"poly\",\"rbf\",\"sigmoid\",\"precomputed\"])\n",
        "        gamma = trial.suggest_categorical(\"gamma\", [\"auto\",\"scale\"])\n",
        "        model= SVC(random_state=10,kernel=kernel,gamma=gamma)\n",
        "    score = sklearn.model_selection.cross_val_score(model, temp_data, temp_label.iloc[:,0].ravel(), cv=3)\n",
        "    accuracy = score.mean()\n",
        "    \n",
        "    return accuracy"
      ],
      "execution_count": 49,
      "outputs": []
    },
    {
      "cell_type": "code",
      "metadata": {
        "colab": {
          "base_uri": "https://localhost:8080/"
        },
        "id": "KerKsTTwNMAm",
        "outputId": "732dcbc6-cd7a-4e1e-fa5b-7d261bd9e8aa"
      },
      "source": [
        "cstudy = optuna.create_study(direction=\"maximize\")\n",
        "cstudy.optimize(objective_classifier, n_trials=15)"
      ],
      "execution_count": 50,
      "outputs": [
        {
          "output_type": "stream",
          "text": [
            "\u001b[32m[I 2021-04-27 17:21:04,522]\u001b[0m A new study created in memory with name: no-name-a265e33b-d72e-4596-bf22-9bf8ac54123d\u001b[0m\n",
            "\u001b[32m[I 2021-04-27 17:21:04,547]\u001b[0m Trial 0 finished with value: 0.7864583333333334 and parameters: {'classifier': 'DecisionTree', 'max_depth': 10, 'criterion': 'gini', 'min_samples_split': 5}. Best is trial 0 with value: 0.7864583333333334.\u001b[0m\n",
            "\u001b[32m[I 2021-04-27 17:21:04,609]\u001b[0m Trial 1 finished with value: 0.3268229166666667 and parameters: {'classifier': 'SVC', 'kernel': 'sigmoid', 'gamma': 'scale'}. Best is trial 0 with value: 0.7864583333333334.\u001b[0m\n",
            "\u001b[32m[I 2021-04-27 17:21:04,628]\u001b[0m Trial 2 finished with value: 0.8190104166666666 and parameters: {'classifier': 'LogisticRegression', 'solver': 'liblinear'}. Best is trial 2 with value: 0.8190104166666666.\u001b[0m\n",
            "\u001b[32m[I 2021-04-27 17:21:04,654]\u001b[0m Trial 3 finished with value: 0.7330729166666666 and parameters: {'classifier': 'KNN', 'n_neighbors': 14, 'algorithm': 'brute', 'metric': 'chebyshev', 'weights': 'distance'}. Best is trial 2 with value: 0.8190104166666666.\u001b[0m\n",
            "\u001b[32m[I 2021-04-27 17:21:04,679]\u001b[0m Trial 4 finished with value: 0.77734375 and parameters: {'classifier': 'KNN', 'n_neighbors': 8, 'algorithm': 'ball_tree', 'metric': 'manhattan', 'weights': 'distance'}. Best is trial 2 with value: 0.8190104166666666.\u001b[0m\n",
            "\u001b[32m[I 2021-04-27 17:21:04,703]\u001b[0m Trial 5 finished with value: 0.765625 and parameters: {'classifier': 'KNN', 'n_neighbors': 14, 'algorithm': 'ball_tree', 'metric': 'euclidean', 'weights': 'distance'}. Best is trial 2 with value: 0.8190104166666666.\u001b[0m\n",
            "\u001b[32m[I 2021-04-27 17:25:56,017]\u001b[0m Trial 6 finished with value: 0.81640625 and parameters: {'classifier': 'SVC', 'kernel': 'poly', 'gamma': 'auto'}. Best is trial 2 with value: 0.8190104166666666.\u001b[0m\n",
            "\u001b[32m[I 2021-04-27 17:25:56,040]\u001b[0m Trial 7 finished with value: 0.7591145833333334 and parameters: {'classifier': 'KNN', 'n_neighbors': 9, 'algorithm': 'kd_tree', 'metric': 'euclidean', 'weights': 'distance'}. Best is trial 2 with value: 0.8190104166666666.\u001b[0m\n",
            "\u001b[32m[I 2021-04-27 17:25:56,116]\u001b[0m Trial 8 finished with value: 0.8346354166666666 and parameters: {'classifier': 'LogisticRegression', 'solver': 'lbfgs'}. Best is trial 8 with value: 0.8346354166666666.\u001b[0m\n",
            "\u001b[32m[I 2021-04-27 17:25:56,136]\u001b[0m Trial 9 finished with value: 0.8151041666666666 and parameters: {'classifier': 'DecisionTree', 'max_depth': 5, 'criterion': 'gini', 'min_samples_split': 4}. Best is trial 8 with value: 0.8346354166666666.\u001b[0m\n",
            "\u001b[32m[I 2021-04-27 17:25:56,211]\u001b[0m Trial 10 finished with value: 0.8346354166666666 and parameters: {'classifier': 'LogisticRegression', 'solver': 'lbfgs'}. Best is trial 8 with value: 0.8346354166666666.\u001b[0m\n",
            "\u001b[32m[I 2021-04-27 17:25:56,280]\u001b[0m Trial 11 finished with value: 0.8346354166666666 and parameters: {'classifier': 'LogisticRegression', 'solver': 'lbfgs'}. Best is trial 8 with value: 0.8346354166666666.\u001b[0m\n",
            "\u001b[32m[I 2021-04-27 17:25:56,344]\u001b[0m Trial 12 finished with value: 0.8346354166666666 and parameters: {'classifier': 'LogisticRegression', 'solver': 'lbfgs'}. Best is trial 8 with value: 0.8346354166666666.\u001b[0m\n",
            "/usr/local/lib/python3.7/dist-packages/sklearn/linear_model/_sag.py:330: ConvergenceWarning:\n",
            "\n",
            "The max_iter was reached which means the coef_ did not converge\n",
            "\n",
            "/usr/local/lib/python3.7/dist-packages/sklearn/linear_model/_sag.py:330: ConvergenceWarning:\n",
            "\n",
            "The max_iter was reached which means the coef_ did not converge\n",
            "\n",
            "/usr/local/lib/python3.7/dist-packages/sklearn/linear_model/_sag.py:330: ConvergenceWarning:\n",
            "\n",
            "The max_iter was reached which means the coef_ did not converge\n",
            "\n",
            "\u001b[32m[I 2021-04-27 17:25:56,381]\u001b[0m Trial 13 finished with value: 0.7877604166666666 and parameters: {'classifier': 'LogisticRegression', 'solver': 'sag'}. Best is trial 8 with value: 0.8346354166666666.\u001b[0m\n",
            "\u001b[32m[I 2021-04-27 17:25:56,443]\u001b[0m Trial 14 finished with value: 0.8346354166666666 and parameters: {'classifier': 'LogisticRegression', 'solver': 'lbfgs'}. Best is trial 8 with value: 0.8346354166666666.\u001b[0m\n"
          ],
          "name": "stderr"
        }
      ]
    },
    {
      "cell_type": "markdown",
      "metadata": {
        "id": "EdYekm8PNMAm"
      },
      "source": [
        "without optuna also the Logistic Regression was the best performing model but the accuracy was 81.35 but with optuna we have increased it to 83.34 . Thus proving that hyper-paramters play a major role in improving our model"
      ]
    },
    {
      "cell_type": "markdown",
      "metadata": {
        "id": "4C5J3DEcNMAn"
      },
      "source": [
        "Building model as  per OPTUNA's suggesstions"
      ]
    },
    {
      "cell_type": "code",
      "metadata": {
        "id": "KagcLbJQNMAn"
      },
      "source": [
        "model_optuna = LogisticRegression(random_state=10,solver=\"liblinear\").fit(temp_data, temp_label.iloc[:,0].ravel())"
      ],
      "execution_count": 51,
      "outputs": []
    },
    {
      "cell_type": "code",
      "metadata": {
        "colab": {
          "base_uri": "https://localhost:8080/"
        },
        "id": "wILqXOzeNMAn",
        "outputId": "da9afc2d-aa2c-4781-a8bb-97d88e95dc6c"
      },
      "source": [
        "y_predict = model_optuna.predict(val_data)\n",
        "f1_score(val_label, y_predict)"
      ],
      "execution_count": 52,
      "outputs": [
        {
          "output_type": "execute_result",
          "data": {
            "text/plain": [
              "0.8279569892473119"
            ]
          },
          "metadata": {
            "tags": []
          },
          "execution_count": 52
        }
      ]
    },
    {
      "cell_type": "code",
      "metadata": {
        "colab": {
          "base_uri": "https://localhost:8080/"
        },
        "id": "hyPNgFCANMAn",
        "outputId": "aace1a48-83e6-4d9f-8c00-6119d1aef02a"
      },
      "source": [
        "y_predict = model_optuna.predict(test_data)\n",
        "f1_score(test_label, y_predict)"
      ],
      "execution_count": 53,
      "outputs": [
        {
          "output_type": "execute_result",
          "data": {
            "text/plain": [
              "0.808743169398907"
            ]
          },
          "metadata": {
            "tags": []
          },
          "execution_count": 53
        }
      ]
    },
    {
      "cell_type": "code",
      "metadata": {
        "colab": {
          "base_uri": "https://localhost:8080/"
        },
        "id": "7MpFY_KbNMAn",
        "outputId": "a3b6fdff-d7da-47ce-cdf8-5e8e981c9626"
      },
      "source": [
        "accuracy_score(test_label, y_predict)"
      ],
      "execution_count": 54,
      "outputs": [
        {
          "output_type": "execute_result",
          "data": {
            "text/plain": [
              "0.8186528497409327"
            ]
          },
          "metadata": {
            "tags": []
          },
          "execution_count": 54
        }
      ]
    },
    {
      "cell_type": "markdown",
      "metadata": {
        "id": "EeQZ1KhZNMAo"
      },
      "source": [
        "<br>"
      ]
    },
    {
      "cell_type": "markdown",
      "metadata": {
        "id": "EHDgPx8yNMAo"
      },
      "source": [
        "- Deep Learning Models"
      ]
    },
    {
      "cell_type": "markdown",
      "metadata": {
        "id": "ItQ77dFDNMAo"
      },
      "source": [
        "Fully connected NN :  since they are structure agnostic we can see how they perform with patient data and gene data <br>\n",
        "Also since we are implementing DL using Keras we need to scale the input"
      ]
    },
    {
      "cell_type": "code",
      "metadata": {
        "id": "d9HzJKrSNMAo"
      },
      "source": [
        "scaler = StandardScaler()\n",
        "train_data = scaler.fit_transform(train_data)\n",
        "val_data = scaler.transform(val_data)\n",
        "test_data = scaler.transform(test_data)\n",
        "temp_data = scaler.transform(temp_data)"
      ],
      "execution_count": 75,
      "outputs": []
    },
    {
      "cell_type": "code",
      "metadata": {
        "id": "olssPnfLNMAo"
      },
      "source": [
        "np.random.seed(42)\n",
        "tf.random.set_seed(42)"
      ],
      "execution_count": 76,
      "outputs": []
    },
    {
      "cell_type": "code",
      "metadata": {
        "id": "AbmI9j44NMAp"
      },
      "source": [
        "input_ = keras.layers.Input(shape=train_data.shape[1:])\n",
        "hidden1 = keras.layers.Dense(30, activation=\"relu\")(input_)\n",
        "hidden2 = keras.layers.Dense(30, activation=\"relu\")(hidden1)\n",
        "concat = keras.layers.concatenate([input_, hidden2])\n",
        "output = keras.layers.Dense(1,activation=\"sigmoid\")(concat)\n"
      ],
      "execution_count": 79,
      "outputs": []
    },
    {
      "cell_type": "code",
      "metadata": {
        "id": "dIM9mLj3NMAp"
      },
      "source": [
        "def dl_model():\n",
        "  return keras.models.Model(inputs=[input_], outputs=[output])"
      ],
      "execution_count": 83,
      "outputs": []
    },
    {
      "cell_type": "code",
      "metadata": {
        "id": "qnU4iBn0vmDw"
      },
      "source": [
        "DL_model_1 =  dl_model()"
      ],
      "execution_count": 84,
      "outputs": []
    },
    {
      "cell_type": "code",
      "metadata": {
        "colab": {
          "base_uri": "https://localhost:8080/"
        },
        "id": "SC5_ltWNNMAp",
        "outputId": "7717ab5d-4d63-4260-b62b-fea7492e3efa"
      },
      "source": [
        "DL_model_1.summary()"
      ],
      "execution_count": 85,
      "outputs": [
        {
          "output_type": "stream",
          "text": [
            "Model: \"model_2\"\n",
            "__________________________________________________________________________________________________\n",
            "Layer (type)                    Output Shape         Param #     Connected to                     \n",
            "==================================================================================================\n",
            "input_2 (InputLayer)            [(None, 5)]          0                                            \n",
            "__________________________________________________________________________________________________\n",
            "dense_3 (Dense)                 (None, 30)           180         input_2[0][0]                    \n",
            "__________________________________________________________________________________________________\n",
            "dense_4 (Dense)                 (None, 30)           930         dense_3[0][0]                    \n",
            "__________________________________________________________________________________________________\n",
            "concatenate_1 (Concatenate)     (None, 35)           0           input_2[0][0]                    \n",
            "                                                                 dense_4[0][0]                    \n",
            "__________________________________________________________________________________________________\n",
            "dense_5 (Dense)                 (None, 1)            36          concatenate_1[0][0]              \n",
            "==================================================================================================\n",
            "Total params: 1,146\n",
            "Trainable params: 1,146\n",
            "Non-trainable params: 0\n",
            "__________________________________________________________________________________________________\n"
          ],
          "name": "stdout"
        }
      ]
    },
    {
      "cell_type": "code",
      "metadata": {
        "id": "hYa_LyWENMAp"
      },
      "source": [
        "DL_model_1.compile(loss='binary_crossentropy', optimizer='adam', metrics=['accuracy'])\n"
      ],
      "execution_count": 86,
      "outputs": []
    },
    {
      "cell_type": "code",
      "metadata": {
        "colab": {
          "base_uri": "https://localhost:8080/"
        },
        "id": "4fExSsptNMAp",
        "outputId": "5aead826-d2cb-426a-c63e-b31b1fafb470"
      },
      "source": [
        "history = DL_model_1.fit(train_data, train_label, epochs=20, validation_data=(val_data, val_label))"
      ],
      "execution_count": 87,
      "outputs": [
        {
          "output_type": "stream",
          "text": [
            "Epoch 1/20\n",
            "18/18 [==============================] - 1s 14ms/step - loss: 0.8373 - accuracy: 0.2741 - val_loss: 0.7273 - val_accuracy: 0.4167\n",
            "Epoch 2/20\n",
            "18/18 [==============================] - 0s 4ms/step - loss: 0.7116 - accuracy: 0.4886 - val_loss: 0.6040 - val_accuracy: 0.7396\n",
            "Epoch 3/20\n",
            "18/18 [==============================] - 0s 5ms/step - loss: 0.5875 - accuracy: 0.7364 - val_loss: 0.5122 - val_accuracy: 0.7969\n",
            "Epoch 4/20\n",
            "18/18 [==============================] - 0s 5ms/step - loss: 0.5119 - accuracy: 0.7742 - val_loss: 0.4589 - val_accuracy: 0.8125\n",
            "Epoch 5/20\n",
            "18/18 [==============================] - 0s 5ms/step - loss: 0.4676 - accuracy: 0.7785 - val_loss: 0.4353 - val_accuracy: 0.8229\n",
            "Epoch 6/20\n",
            "18/18 [==============================] - 0s 5ms/step - loss: 0.4599 - accuracy: 0.7942 - val_loss: 0.4272 - val_accuracy: 0.8333\n",
            "Epoch 7/20\n",
            "18/18 [==============================] - 0s 4ms/step - loss: 0.4353 - accuracy: 0.7989 - val_loss: 0.4227 - val_accuracy: 0.8333\n",
            "Epoch 8/20\n",
            "18/18 [==============================] - 0s 5ms/step - loss: 0.4305 - accuracy: 0.8010 - val_loss: 0.4233 - val_accuracy: 0.8229\n",
            "Epoch 9/20\n",
            "18/18 [==============================] - 0s 4ms/step - loss: 0.4020 - accuracy: 0.8217 - val_loss: 0.4188 - val_accuracy: 0.8229\n",
            "Epoch 10/20\n",
            "18/18 [==============================] - 0s 4ms/step - loss: 0.4181 - accuracy: 0.8250 - val_loss: 0.4147 - val_accuracy: 0.8229\n",
            "Epoch 11/20\n",
            "18/18 [==============================] - 0s 4ms/step - loss: 0.4489 - accuracy: 0.7977 - val_loss: 0.4130 - val_accuracy: 0.8229\n",
            "Epoch 12/20\n",
            "18/18 [==============================] - 0s 4ms/step - loss: 0.3946 - accuracy: 0.8283 - val_loss: 0.4127 - val_accuracy: 0.8229\n",
            "Epoch 13/20\n",
            "18/18 [==============================] - 0s 4ms/step - loss: 0.4346 - accuracy: 0.8183 - val_loss: 0.4101 - val_accuracy: 0.8333\n",
            "Epoch 14/20\n",
            "18/18 [==============================] - 0s 4ms/step - loss: 0.4039 - accuracy: 0.8284 - val_loss: 0.4062 - val_accuracy: 0.8385\n",
            "Epoch 15/20\n",
            "18/18 [==============================] - 0s 5ms/step - loss: 0.4259 - accuracy: 0.8296 - val_loss: 0.4080 - val_accuracy: 0.8333\n",
            "Epoch 16/20\n",
            "18/18 [==============================] - 0s 4ms/step - loss: 0.4128 - accuracy: 0.8268 - val_loss: 0.4052 - val_accuracy: 0.8333\n",
            "Epoch 17/20\n",
            "18/18 [==============================] - 0s 5ms/step - loss: 0.3920 - accuracy: 0.8370 - val_loss: 0.4033 - val_accuracy: 0.8385\n",
            "Epoch 18/20\n",
            "18/18 [==============================] - 0s 5ms/step - loss: 0.3644 - accuracy: 0.8506 - val_loss: 0.4006 - val_accuracy: 0.8385\n",
            "Epoch 19/20\n",
            "18/18 [==============================] - 0s 5ms/step - loss: 0.4251 - accuracy: 0.8154 - val_loss: 0.4033 - val_accuracy: 0.8281\n",
            "Epoch 20/20\n",
            "18/18 [==============================] - 0s 4ms/step - loss: 0.3826 - accuracy: 0.8495 - val_loss: 0.4011 - val_accuracy: 0.8333\n"
          ],
          "name": "stdout"
        }
      ]
    },
    {
      "cell_type": "code",
      "metadata": {
        "id": "cj7NuNjgNMAq",
        "outputId": "0dbf0bbc-a5a0-4d8d-8e28-16d7606d152d"
      },
      "source": [
        "plt.plot(history.epoch,history.history['accuracy'],label=\"Training accuracy\")\n",
        "plt.plot(history.epoch,history.history['val_accuracy'],label=\"Validation accuracy\")\n",
        "plt.title(\"Training and Validation Accuracy\")\n",
        "plt.xlabel(\"epoch\")\n",
        "plt.ylabel(\"accuracy\")\n",
        "plt.legend()\n",
        "plt.show()"
      ],
      "execution_count": null,
      "outputs": [
        {
          "output_type": "display_data",
          "data": {
            "image/png": "[encoded data removed]",
            "text/plain": [
              "<Figure size 432x288 with 1 Axes>"
            ]
          },
          "metadata": {
            "tags": [],
            "needs_background": "light"
          }
        }
      ]
    },
    {
      "cell_type": "code",
      "metadata": {
        "id": "HNCwo67wNMAq",
        "outputId": "31511478-ca0c-4b96-902b-a436f27c3bdd"
      },
      "source": [
        "plt.plot(history.epoch,history.history['loss'],label=\"Training loss\")\n",
        "plt.plot(history.epoch,history.history['val_loss'],label=\"Validation loss\")\n",
        "plt.title(\"Training and Validation Loss\")\n",
        "plt.xlabel(\"epoch\")\n",
        "plt.ylabel(\"loss\")\n",
        "plt.legend()\n",
        "plt.show()"
      ],
      "execution_count": null,
      "outputs": [
        {
          "output_type": "display_data",
          "data": {
            "image/png": "[encoded data removed]",
            "text/plain": [
              "<Figure size 432x288 with 1 Axes>"
            ]
          },
          "metadata": {
            "tags": [],
            "needs_background": "light"
          }
        }
      ]
    },
    {
      "cell_type": "code",
      "metadata": {
        "id": "7kDuS9wPNMAq"
      },
      "source": [
        "predictions = DL_model_1.predict(test_data)"
      ],
      "execution_count": null,
      "outputs": []
    },
    {
      "cell_type": "code",
      "metadata": {
        "id": "9vnFUwW1NMAq",
        "outputId": "0ee820fa-8731-4898-abba-96c1c61b29c7"
      },
      "source": [
        "f1_score(test_label,y_predict)*100\n"
      ],
      "execution_count": null,
      "outputs": [
        {
          "output_type": "execute_result",
          "data": {
            "text/plain": [
              "79.36507936507935"
            ]
          },
          "metadata": {
            "tags": []
          },
          "execution_count": 62
        }
      ]
    },
    {
      "cell_type": "code",
      "metadata": {
        "id": "bf2tFu9hNMAr",
        "outputId": "417c1990-ff61-466a-80d9-8b7592c1396c"
      },
      "source": [
        "loss,accuracy = DL_model_1.evaluate(test_data,test_label)"
      ],
      "execution_count": null,
      "outputs": [
        {
          "output_type": "stream",
          "text": [
            "7/7 [==============================] - 3s 414ms/step - loss: 0.4128 - accuracy: 0.8135\n"
          ],
          "name": "stdout"
        }
      ]
    },
    {
      "cell_type": "markdown",
      "metadata": {
        "id": "V4Wo5e1uNMAr"
      },
      "source": [
        "<br>"
      ]
    },
    {
      "cell_type": "markdown",
      "metadata": {
        "id": "svGD1ZkdNMAr"
      },
      "source": [
        "- Conv 1D"
      ]
    },
    {
      "cell_type": "code",
      "metadata": {
        "id": "EYS1kg0XNMAr",
        "outputId": "e283354d-6120-4f65-bdf0-29fc6135aeeb"
      },
      "source": [
        "temp_data = scaler.fit_transform(temp_data)\n",
        "sample_size = temp_data.shape[0] # number of samples in train set i.e rows\n",
        "time_steps  = temp_data.shape[1] # number of features in train set i.e columns\n",
        "input_dimension = 1               # each feature is represented by 1 number\n",
        "\n",
        "train_data_reshaped = temp_data.reshape(sample_size,time_steps,input_dimension)\n",
        "test_data_reshaped = test_data.reshape(test_data.shape[0],test_data.shape[1],input_dimension)\n",
        "print(\"After reshape train data set shape:\\n\", train_data_reshaped.shape)\n",
        "print(\"1 Sample shape:\\n\",train_data_reshaped[0].shape)\n",
        "print(\"An example sample:\\n\", train_data_reshaped[0])"
      ],
      "execution_count": null,
      "outputs": [
        {
          "output_type": "stream",
          "text": [
            "After reshape train data set shape:\n",
            " (768, 5, 1)\n",
            "1 Sample shape:\n",
            " (5, 1)\n",
            "An example sample:\n",
            " [[-0.18505628]\n",
            " [ 0.43648767]\n",
            " [-0.57860306]\n",
            " [ 0.77049781]\n",
            " [ 0.24660462]]\n"
          ],
          "name": "stdout"
        }
      ]
    },
    {
      "cell_type": "code",
      "metadata": {
        "id": "TH7ok_yuNMAs"
      },
      "source": [
        "np.random.seed(42)\n",
        "tf.random.set_seed(42)"
      ],
      "execution_count": null,
      "outputs": []
    },
    {
      "cell_type": "code",
      "metadata": {
        "id": "hr3iYkT5NMAt",
        "outputId": "40dd9ee5-5787-4a02-c620-d9aad44222f0"
      },
      "source": [
        "def build_conv1D_model_1():\n",
        "\n",
        "  n_timesteps = train_data_reshaped.shape[1] #5\n",
        "  n_features  = train_data_reshaped.shape[2] #1 \n",
        "  model = keras.Sequential(name=\"model_conv1D\")\n",
        "  model.add(keras.layers.Input(shape=(n_timesteps,n_features)))\n",
        "  model.add(keras.layers.Conv1D(filters=100, kernel_size=10, activation='relu', name=\"Conv1D_1\",padding=\"same\"))\n",
        "  model.add(keras.layers.Dropout(0.5))\n",
        "  model.add(keras.layers.Conv1D(filters=50, kernel_size=10, activation='relu', name=\"Conv1D_2\",padding=\"same\"))\n",
        "  model.add(keras.layers.Dropout(0.5))\n",
        "#   model.add(keras.layers.Conv1D(filters=25, kernel_size=3, activation='relu', name=\"Conv1D_3\",padding=\"same\"))\n",
        "  \n",
        "  model.add(keras.layers.MaxPooling1D(pool_size=5, name=\"MaxPooling1D\"))\n",
        "  model.add(keras.layers.Flatten())\n",
        "  model.add(keras.layers.Dense(32, activation='sigmoid', name=\"Dense_1\"))\n",
        "  model.add(keras.layers.Dense(n_features, name=\"Dense_2\",activation=\"sigmoid\"))\n",
        "\n",
        "\n",
        "  optimizer = tf.keras.optimizers.RMSprop(0.001)\n",
        "\n",
        "  model.compile(loss='mse',optimizer=optimizer,metrics=['accuracy'])\n",
        "  return model\n",
        "\n",
        "model_conv1D = build_conv1D_model_1()\n",
        "model_conv1D.summary()"
      ],
      "execution_count": null,
      "outputs": [
        {
          "output_type": "stream",
          "text": [
            "Model: \"model_conv1D\"\n",
            "_________________________________________________________________\n",
            "Layer (type)                 Output Shape              Param #   \n",
            "=================================================================\n",
            "Conv1D_1 (Conv1D)            (None, 5, 100)            1100      \n",
            "_________________________________________________________________\n",
            "dropout_4 (Dropout)          (None, 5, 100)            0         \n",
            "_________________________________________________________________\n",
            "Conv1D_2 (Conv1D)            (None, 5, 50)             50050     \n",
            "_________________________________________________________________\n",
            "dropout_5 (Dropout)          (None, 5, 50)             0         \n",
            "_________________________________________________________________\n",
            "MaxPooling1D (MaxPooling1D)  (None, 1, 50)             0         \n",
            "_________________________________________________________________\n",
            "flatten_2 (Flatten)          (None, 50)                0         \n",
            "_________________________________________________________________\n",
            "Dense_1 (Dense)              (None, 32)                1632      \n",
            "_________________________________________________________________\n",
            "Dense_2 (Dense)              (None, 1)                 33        \n",
            "=================================================================\n",
            "Total params: 52,815\n",
            "Trainable params: 52,815\n",
            "Non-trainable params: 0\n",
            "_________________________________________________________________\n"
          ],
          "name": "stdout"
        }
      ]
    },
    {
      "cell_type": "code",
      "metadata": {
        "id": "iBvwQaBcNMAt",
        "outputId": "97d1e354-c762-4a93-93c7-c28e8e35bd4f"
      },
      "source": [
        "history1 = model_conv1D.fit(train_data_reshaped, temp_label, epochs=20,validation_split=0.2, verbose=1)"
      ],
      "execution_count": null,
      "outputs": [
        {
          "output_type": "stream",
          "text": [
            "Epoch 1/20\n",
            "20/20 [==============================] - 96s 5s/step - loss: 0.1929 - accuracy: 0.7280 - val_loss: 0.1708 - val_accuracy: 0.7532\n",
            "Epoch 2/20\n",
            "20/20 [==============================] - 96s 5s/step - loss: 0.1449 - accuracy: 0.8111 - val_loss: 0.1501 - val_accuracy: 0.8182\n",
            "Epoch 3/20\n",
            "20/20 [==============================] - 96s 5s/step - loss: 0.1386 - accuracy: 0.8127 - val_loss: 0.1423 - val_accuracy: 0.8117\n",
            "Epoch 4/20\n",
            "20/20 [==============================] - 97s 5s/step - loss: 0.1363 - accuracy: 0.8208 - val_loss: 0.1400 - val_accuracy: 0.8117\n",
            "Epoch 5/20\n",
            "20/20 [==============================] - 96s 5s/step - loss: 0.1354 - accuracy: 0.8208 - val_loss: 0.1415 - val_accuracy: 0.8182\n",
            "Epoch 6/20\n",
            "20/20 [==============================] - 98s 5s/step - loss: 0.1314 - accuracy: 0.8274 - val_loss: 0.1380 - val_accuracy: 0.8182\n",
            "Epoch 7/20\n",
            "20/20 [==============================] - 96s 5s/step - loss: 0.1301 - accuracy: 0.8306 - val_loss: 0.1367 - val_accuracy: 0.8182\n",
            "Epoch 8/20\n",
            "20/20 [==============================] - 94s 5s/step - loss: 0.1310 - accuracy: 0.8274 - val_loss: 0.1355 - val_accuracy: 0.8182\n",
            "Epoch 9/20\n",
            "20/20 [==============================] - 93s 5s/step - loss: 0.1292 - accuracy: 0.8371 - val_loss: 0.1364 - val_accuracy: 0.8052\n",
            "Epoch 10/20\n",
            "20/20 [==============================] - 92s 5s/step - loss: 0.1281 - accuracy: 0.8306 - val_loss: 0.1344 - val_accuracy: 0.8247\n",
            "Epoch 11/20\n",
            "20/20 [==============================] - 94s 5s/step - loss: 0.1256 - accuracy: 0.8355 - val_loss: 0.1318 - val_accuracy: 0.8117\n",
            "Epoch 12/20\n",
            "20/20 [==============================] - 92s 5s/step - loss: 0.1261 - accuracy: 0.8274 - val_loss: 0.1346 - val_accuracy: 0.8312\n",
            "Epoch 13/20\n",
            "20/20 [==============================] - 96s 5s/step - loss: 0.1232 - accuracy: 0.8306 - val_loss: 0.1363 - val_accuracy: 0.8377\n",
            "Epoch 14/20\n",
            "20/20 [==============================] - 89s 4s/step - loss: 0.1235 - accuracy: 0.8355 - val_loss: 0.1307 - val_accuracy: 0.7987\n",
            "Epoch 15/20\n",
            "20/20 [==============================] - 94s 5s/step - loss: 0.1247 - accuracy: 0.8290 - val_loss: 0.1335 - val_accuracy: 0.8117\n",
            "Epoch 16/20\n",
            "20/20 [==============================] - 94s 5s/step - loss: 0.1228 - accuracy: 0.8290 - val_loss: 0.1345 - val_accuracy: 0.7922\n",
            "Epoch 17/20\n",
            "20/20 [==============================] - 91s 5s/step - loss: 0.1216 - accuracy: 0.8404 - val_loss: 0.1310 - val_accuracy: 0.7922\n",
            "Epoch 18/20\n",
            "20/20 [==============================] - 88s 4s/step - loss: 0.1195 - accuracy: 0.8322 - val_loss: 0.1393 - val_accuracy: 0.8312\n",
            "Epoch 19/20\n",
            "20/20 [==============================] - 92s 5s/step - loss: 0.1202 - accuracy: 0.8339 - val_loss: 0.1328 - val_accuracy: 0.8442\n",
            "Epoch 20/20\n",
            "20/20 [==============================] - 98s 5s/step - loss: 0.1209 - accuracy: 0.8371 - val_loss: 0.1296 - val_accuracy: 0.7987\n"
          ],
          "name": "stdout"
        }
      ]
    },
    {
      "cell_type": "code",
      "metadata": {
        "id": "uUzGnJf2NMAu",
        "outputId": "51f5d3c6-d5ba-491d-aa50-24b74690706d"
      },
      "source": [
        "plt.plot(history1.epoch,history1.history['accuracy'],label=\"Training accuracy\")\n",
        "plt.plot(history1.epoch,history1.history['val_accuracy'],label=\"Validation accuracy\")\n",
        "plt.title(\"Training and Validation Accuracy\")\n",
        "plt.xlabel(\"epoch\")\n",
        "plt.ylabel(\"accuracy\")\n",
        "plt.legend()\n",
        "plt.show()"
      ],
      "execution_count": null,
      "outputs": [
        {
          "output_type": "display_data",
          "data": {
            "image/png": "[encoded data removed]",
            "text/plain": [
              "<Figure size 432x288 with 1 Axes>"
            ]
          },
          "metadata": {
            "tags": [],
            "needs_background": "light"
          }
        }
      ]
    },
    {
      "cell_type": "code",
      "metadata": {
        "id": "_y97T8Y_NMAu",
        "outputId": "fa6b0f24-49e5-401d-873d-a120dc594b87"
      },
      "source": [
        "plt.plot(history1.epoch,history1.history['loss'],label=\"Training loss\")\n",
        "plt.plot(history1.epoch,history1.history['val_loss'],label=\"Validation loss\")\n",
        "plt.title(\"Training and Validation Loss\")\n",
        "plt.xlabel(\"epoch\")\n",
        "plt.ylabel(\"loss\")\n",
        "plt.legend()\n",
        "plt.show()"
      ],
      "execution_count": null,
      "outputs": [
        {
          "output_type": "display_data",
          "data": {
            "image/png": "[encoded data removed]",
            "text/plain": [
              "<Figure size 432x288 with 1 Axes>"
            ]
          },
          "metadata": {
            "tags": [],
            "needs_background": "light"
          }
        }
      ]
    },
    {
      "cell_type": "code",
      "metadata": {
        "id": "2w2ssnpjNMAu"
      },
      "source": [
        "test_predictions = model_conv1D.predict_classes(test_data_reshaped).flatten()"
      ],
      "execution_count": null,
      "outputs": []
    },
    {
      "cell_type": "code",
      "metadata": {
        "id": "Jag127p1NMAu",
        "outputId": "7a5789a4-abe7-48d5-9bd8-89e39f3b250e"
      },
      "source": [
        "f1_score(test_label,test_predictions)"
      ],
      "execution_count": null,
      "outputs": [
        {
          "output_type": "execute_result",
          "data": {
            "text/plain": [
              "0.797752808988764"
            ]
          },
          "metadata": {
            "tags": []
          },
          "execution_count": 78
        }
      ]
    },
    {
      "cell_type": "markdown",
      "metadata": {
        "id": "JDqjTHQnf4h_"
      },
      "source": [
        "<br>"
      ]
    },
    {
      "cell_type": "markdown",
      "metadata": {
        "id": "LRAWxFr7f6LW"
      },
      "source": [
        "GridSearch on Fully connected NN"
      ]
    },
    {
      "cell_type": "code",
      "metadata": {
        "id": "4Eux_KbfxOk-"
      },
      "source": [
        "def build_model(n_hidden=2, n_neurons=30, learning_rate=3e-3, input_shape=train_data.shape[1:],epochs=5,batch_size=5,optimizer='Adam'):\n",
        "    model = keras.models.Sequential()\n",
        "    model.add(keras.layers.InputLayer(input_shape=input_shape))\n",
        "    for layer in range(n_hidden):\n",
        "        model.add(keras.layers.Dense(n_neurons, activation=\"relu\"))\n",
        "    model.add(keras.layers.Dense(1,activation=\"sigmoid\"))\n",
        "    optimizer = optimizers.RMSprop(lr=learning_rate)\n",
        "    model.compile(loss=\"binary_crossentropy\", optimizer=optimizer, metrics=[\"accuracy\"])\n",
        "    return model"
      ],
      "execution_count": 121,
      "outputs": []
    },
    {
      "cell_type": "code",
      "metadata": {
        "id": "hfOWEFHEpT8w"
      },
      "source": [
        "parameter_space = {\n",
        "'n_neurons': [25,30,35],\n",
        "'optimizer': ['sgd', 'adam'],\n",
        "'epochs': [5,10],\n",
        "'batch_size': [5,10,100],\n",
        "\n",
        "}"
      ],
      "execution_count": 128,
      "outputs": []
    },
    {
      "cell_type": "code",
      "metadata": {
        "id": "z9aqPHoewFdH"
      },
      "source": [
        "keras_classifier = KerasClassifier(build_model)"
      ],
      "execution_count": 129,
      "outputs": []
    },
    {
      "cell_type": "code",
      "metadata": {
        "id": "ZilEnIN-snl2"
      },
      "source": [
        "classifier = GridSearchCV(keras_classifier, parameter_space, n_jobs=-1,scoring=\"accuracy\", cv=3)"
      ],
      "execution_count": 130,
      "outputs": []
    },
    {
      "cell_type": "code",
      "metadata": {
        "colab": {
          "base_uri": "https://localhost:8080/"
        },
        "id": "onJqnIK4s9wY",
        "outputId": "a7e71be3-7910-4782-8446-99bf6eb97517"
      },
      "source": [
        "classifier.fit(train_data,train_label)"
      ],
      "execution_count": 131,
      "outputs": [
        {
          "output_type": "stream",
          "text": [
            "Epoch 1/10\n",
            "116/116 [==============================] - 1s 1ms/step - loss: 0.5168 - accuracy: 0.7693\n",
            "Epoch 2/10\n",
            "116/116 [==============================] - 0s 1ms/step - loss: 0.4359 - accuracy: 0.8018\n",
            "Epoch 3/10\n",
            "116/116 [==============================] - 0s 1ms/step - loss: 0.3781 - accuracy: 0.8478\n",
            "Epoch 4/10\n",
            "116/116 [==============================] - 0s 1ms/step - loss: 0.4079 - accuracy: 0.8295\n",
            "Epoch 5/10\n",
            "116/116 [==============================] - 0s 1ms/step - loss: 0.3748 - accuracy: 0.8275\n",
            "Epoch 6/10\n",
            "116/116 [==============================] - 0s 1ms/step - loss: 0.3999 - accuracy: 0.8257\n",
            "Epoch 7/10\n",
            "116/116 [==============================] - 0s 1ms/step - loss: 0.3316 - accuracy: 0.8625\n",
            "Epoch 8/10\n",
            "116/116 [==============================] - 0s 1ms/step - loss: 0.3652 - accuracy: 0.8585\n",
            "Epoch 9/10\n",
            "116/116 [==============================] - 0s 1ms/step - loss: 0.3423 - accuracy: 0.8391\n",
            "Epoch 10/10\n",
            "116/116 [==============================] - 0s 1ms/step - loss: 0.3646 - accuracy: 0.8483\n"
          ],
          "name": "stdout"
        },
        {
          "output_type": "execute_result",
          "data": {
            "text/plain": [
              "GridSearchCV(cv=3, error_score=nan,\n",
              "             estimator=<tensorflow.python.keras.wrappers.scikit_learn.KerasClassifier object at 0x7f75990cc190>,\n",
              "             iid='deprecated', n_jobs=-1,\n",
              "             param_grid={'batch_size': [5, 10, 100], 'epochs': [5, 10],\n",
              "                         'n_neurons': [25, 30, 35],\n",
              "                         'optimizer': ['sgd', 'adam']},\n",
              "             pre_dispatch='2*n_jobs', refit=True, return_train_score=False,\n",
              "             scoring='accuracy', verbose=0)"
            ]
          },
          "metadata": {
            "tags": []
          },
          "execution_count": 131
        }
      ]
    },
    {
      "cell_type": "code",
      "metadata": {
        "colab": {
          "base_uri": "https://localhost:8080/"
        },
        "id": "t1hkwe_70ZlA",
        "outputId": "d8ed357f-93f0-471a-b874-60906142ce4c"
      },
      "source": [
        "predictions  = classifier.predict(test_data)"
      ],
      "execution_count": 134,
      "outputs": [
        {
          "output_type": "stream",
          "text": [
            "/usr/local/lib/python3.7/dist-packages/tensorflow/python/keras/engine/sequential.py:450: UserWarning:\n",
            "\n",
            "`model.predict_classes()` is deprecated and will be removed after 2021-01-01. Please use instead:* `np.argmax(model.predict(x), axis=-1)`,   if your model does multi-class classification   (e.g. if it uses a `softmax` last-layer activation).* `(model.predict(x) > 0.5).astype(\"int32\")`,   if your model does binary classification   (e.g. if it uses a `sigmoid` last-layer activation).\n",
            "\n"
          ],
          "name": "stderr"
        }
      ]
    },
    {
      "cell_type": "code",
      "metadata": {
        "colab": {
          "base_uri": "https://localhost:8080/"
        },
        "id": "YQoPwHav059A",
        "outputId": "c3a34540-755b-48e5-e5d1-d907e1af6419"
      },
      "source": [
        "classifier.best_params_"
      ],
      "execution_count": 137,
      "outputs": [
        {
          "output_type": "execute_result",
          "data": {
            "text/plain": [
              "{'batch_size': 5, 'epochs': 10, 'n_neurons': 35, 'optimizer': 'adam'}"
            ]
          },
          "metadata": {
            "tags": []
          },
          "execution_count": 137
        }
      ]
    },
    {
      "cell_type": "code",
      "metadata": {
        "colab": {
          "base_uri": "https://localhost:8080/"
        },
        "id": "Mabp-pim0rGJ",
        "outputId": "51b232cb-f864-41d4-fada-ca883c62e767"
      },
      "source": [
        "f1_score(test_label,predictions)*100"
      ],
      "execution_count": 136,
      "outputs": [
        {
          "output_type": "execute_result",
          "data": {
            "text/plain": [
              "79.54545454545455"
            ]
          },
          "metadata": {
            "tags": []
          },
          "execution_count": 136
        }
      ]
    },
    {
      "cell_type": "code",
      "metadata": {
        "id": "t3uxe6ggNMAu"
      },
      "source": [
        "# def objective_classifier(trial): \n",
        "    \n",
        "#     classifier_name = trial.suggest_categorical(\"classifier\", [\"fully_connected_NN\"])\n",
        "    \n",
        "#     if classifier_name == \"fully_connected_NN\":\n",
        "#         kwargs={}\n",
        "#         kwargs['activation'] = trial.suggest_categorical(\"activation\",[\"relu\",\"sigmoid\",\"tanh\"])\n",
        "#         n_layers = trial.suggest_int(\"n_layers\", 1, 2,3)\n",
        "#         model = keras.Sequential()\n",
        "#         for i in range(n_layers):\n",
        "#           units = trial.suggest_int(\"units\",25,35,step=5,log=False)\n",
        "#           model.add(keras.layers.Dense(units,activation=\"relu\"))\n",
        "#         model.add(keras.layers.Dense(1))\n",
        "#         # model = keras.models.Model(inputs=[input_], outputs=[output],**kwargs)\n",
        "        \n",
        "# #     elif classifier_name == \"LogisticRegression\":\n",
        "# # #         penalty = trial.suggest_categorical(\"penalty\", [ \"l2\", \"elasticnet\", \"none\"])\n",
        "# #         solver = trial.suggest_categorical(\"solver\",[ \"lbfgs\", \"liblinear\", \"sag\", \"saga\"])\n",
        "# #         model = LogisticRegression(random_state=10,solver=solver)\n",
        "\n",
        "# #     elif classifier_name == \"KNN\":\n",
        "# #         n_neighbors = trial.suggest_int(\"n_neighbors\",5,15,step=1,log=False)\n",
        "# #         algorithm = trial.suggest_categorical(\"algorithm\", [\"auto\", \"ball_tree\", \"kd_tree\", \"brute\"])\n",
        "# #         metric = trial.suggest_categorical(\"metric\",[\"euclidean\",\"manhattan\",\"chebyshev\",\"minkowski\"])\n",
        "# #         weights = trial.suggest_categorical(\"weights\",[\"uniform\",\"distance\"])\n",
        "# #         model = KNeighborsClassifier(n_neighbors=n_neighbors,algorithm=algorithm,metric=metric,weights=weights)\n",
        "    \n",
        "# #     elif classifier_name == \"SVC\":\n",
        "# #         kernel = trial.suggest_categorical(\"kernel\", [\"linear\",\"poly\",\"rbf\",\"sigmoid\",\"precomputed\"])\n",
        "# #         gamma = trial.suggest_categorical(\"gamma\", [\"auto\",\"scale\"])\n",
        "# #         model= SVC(random_state=10,kernel=kernel,gamma=gamma)\n",
        "#     score = sklearn.model_selection.cross_val_score(model, temp_data, temp_label.iloc[:,0].ravel(), cv=3)\n",
        "#     accuracy = score.mean()\n",
        "    \n",
        "#     return accuracy"
      ],
      "execution_count": null,
      "outputs": []
    }
  ]
}